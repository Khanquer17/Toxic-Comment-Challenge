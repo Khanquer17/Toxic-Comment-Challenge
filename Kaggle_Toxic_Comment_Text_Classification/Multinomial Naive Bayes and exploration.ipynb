{
 "cells": [
  {
   "cell_type": "code",
   "execution_count": 1,
   "metadata": {
    "collapsed": true
   },
   "outputs": [],
   "source": [
    "%matplotlib inline\n",
    "import numpy as np\n",
    "import scipy as sp\n",
    "import matplotlib as mpl\n",
    "import matplotlib.cm as cm\n",
    "from matplotlib.colors import ListedColormap\n",
    "import matplotlib.pyplot as plt\n",
    "import pandas as pd\n",
    "pd.set_option('display.width', 500)\n",
    "pd.set_option('display.max_columns', 100)\n",
    "pd.set_option('display.notebook_repr_html', True)\n",
    "import seaborn as sns\n",
    "\n",
    "\n",
    "\n",
    "\n",
    "# special matplotlib argument for improved plots\n",
    "from matplotlib import rcParams\n",
    "plt.rcParams['figure.figsize'] = (15, 10)\n",
    "sns.set_style(\"whitegrid\")\n",
    "sns.set_context(\"poster\")\n"
   ]
  },
  {
   "cell_type": "code",
   "execution_count": 2,
   "metadata": {},
   "outputs": [
    {
     "data": {
      "text/html": [
       "\n",
       "<style>\n",
       ".output_png {\n",
       "    display: table-cell;\n",
       "    text-align: center;\n",
       "    vertical-align: middle;\n",
       "}\n",
       "</style>\n"
      ],
      "text/plain": [
       "<IPython.core.display.HTML object>"
      ]
     },
     "execution_count": 2,
     "metadata": {},
     "output_type": "execute_result"
    }
   ],
   "source": [
    "from IPython.core.display import HTML\n",
    "HTML(\"\"\"\n",
    "<style>\n",
    ".output_png {\n",
    "    display: table-cell;\n",
    "    text-align: center;\n",
    "    vertical-align: middle;\n",
    "}\n",
    "</style>\n",
    "\"\"\")"
   ]
  },
  {
   "cell_type": "code",
   "execution_count": 3,
   "metadata": {
    "collapsed": true
   },
   "outputs": [],
   "source": [
    "### Imporitng libraries\n",
    "\n",
    "# import and instantiate CountVectorizer (with the default parameters)\n",
    "from sklearn.feature_extraction.text import CountVectorizer"
   ]
  },
  {
   "cell_type": "code",
   "execution_count": 4,
   "metadata": {},
   "outputs": [
    {
     "data": {
      "text/html": [
       "<div>\n",
       "<style>\n",
       "    .dataframe thead tr:only-child th {\n",
       "        text-align: right;\n",
       "    }\n",
       "\n",
       "    .dataframe thead th {\n",
       "        text-align: left;\n",
       "    }\n",
       "\n",
       "    .dataframe tbody tr th {\n",
       "        vertical-align: top;\n",
       "    }\n",
       "</style>\n",
       "<table border=\"1\" class=\"dataframe\">\n",
       "  <thead>\n",
       "    <tr style=\"text-align: right;\">\n",
       "      <th></th>\n",
       "      <th>id</th>\n",
       "      <th>comment_text</th>\n",
       "      <th>toxic</th>\n",
       "      <th>severe_toxic</th>\n",
       "      <th>obscene</th>\n",
       "      <th>threat</th>\n",
       "      <th>insult</th>\n",
       "      <th>identity_hate</th>\n",
       "    </tr>\n",
       "  </thead>\n",
       "  <tbody>\n",
       "    <tr>\n",
       "      <th>0</th>\n",
       "      <td>22256635</td>\n",
       "      <td>Nonsense?  kiss off, geek. what I said is true...</td>\n",
       "      <td>1</td>\n",
       "      <td>0</td>\n",
       "      <td>0</td>\n",
       "      <td>0</td>\n",
       "      <td>0</td>\n",
       "      <td>0</td>\n",
       "    </tr>\n",
       "    <tr>\n",
       "      <th>1</th>\n",
       "      <td>27450690</td>\n",
       "      <td>\"\\n\\n Please do not vandalize pages, as you di...</td>\n",
       "      <td>0</td>\n",
       "      <td>0</td>\n",
       "      <td>0</td>\n",
       "      <td>0</td>\n",
       "      <td>0</td>\n",
       "      <td>0</td>\n",
       "    </tr>\n",
       "    <tr>\n",
       "      <th>2</th>\n",
       "      <td>54037174</td>\n",
       "      <td>\"\\n\\n \"\"Points of interest\"\" \\n\\nI removed the...</td>\n",
       "      <td>0</td>\n",
       "      <td>0</td>\n",
       "      <td>0</td>\n",
       "      <td>0</td>\n",
       "      <td>0</td>\n",
       "      <td>0</td>\n",
       "    </tr>\n",
       "    <tr>\n",
       "      <th>3</th>\n",
       "      <td>77493077</td>\n",
       "      <td>Asking some his nationality is a Racial offenc...</td>\n",
       "      <td>0</td>\n",
       "      <td>0</td>\n",
       "      <td>0</td>\n",
       "      <td>0</td>\n",
       "      <td>0</td>\n",
       "      <td>0</td>\n",
       "    </tr>\n",
       "    <tr>\n",
       "      <th>4</th>\n",
       "      <td>79357270</td>\n",
       "      <td>The reader here is not going by my say so for ...</td>\n",
       "      <td>0</td>\n",
       "      <td>0</td>\n",
       "      <td>0</td>\n",
       "      <td>0</td>\n",
       "      <td>0</td>\n",
       "      <td>0</td>\n",
       "    </tr>\n",
       "  </tbody>\n",
       "</table>\n",
       "</div>"
      ],
      "text/plain": [
       "         id                                       comment_text  toxic  severe_toxic  obscene  threat  insult  identity_hate\n",
       "0  22256635  Nonsense?  kiss off, geek. what I said is true...      1             0        0       0       0              0\n",
       "1  27450690  \"\\n\\n Please do not vandalize pages, as you di...      0             0        0       0       0              0\n",
       "2  54037174  \"\\n\\n \"\"Points of interest\"\" \\n\\nI removed the...      0             0        0       0       0              0\n",
       "3  77493077  Asking some his nationality is a Racial offenc...      0             0        0       0       0              0\n",
       "4  79357270  The reader here is not going by my say so for ...      0             0        0       0       0              0"
      ]
     },
     "execution_count": 4,
     "metadata": {},
     "output_type": "execute_result"
    }
   ],
   "source": [
    "df = pd.read_csv(\"data/train.csv\")\n",
    "df.head()"
   ]
  },
  {
   "cell_type": "code",
   "execution_count": 5,
   "metadata": {},
   "outputs": [
    {
     "data": {
      "text/html": [
       "<div>\n",
       "<style>\n",
       "    .dataframe thead tr:only-child th {\n",
       "        text-align: right;\n",
       "    }\n",
       "\n",
       "    .dataframe thead th {\n",
       "        text-align: left;\n",
       "    }\n",
       "\n",
       "    .dataframe tbody tr th {\n",
       "        vertical-align: top;\n",
       "    }\n",
       "</style>\n",
       "<table border=\"1\" class=\"dataframe\">\n",
       "  <thead>\n",
       "    <tr style=\"text-align: right;\">\n",
       "      <th></th>\n",
       "      <th>comment_text</th>\n",
       "      <th>toxic</th>\n",
       "    </tr>\n",
       "  </thead>\n",
       "  <tbody>\n",
       "    <tr>\n",
       "      <th>0</th>\n",
       "      <td>Nonsense?  kiss off, geek. what I said is true...</td>\n",
       "      <td>1</td>\n",
       "    </tr>\n",
       "    <tr>\n",
       "      <th>1</th>\n",
       "      <td>\"\\n\\n Please do not vandalize pages, as you di...</td>\n",
       "      <td>0</td>\n",
       "    </tr>\n",
       "    <tr>\n",
       "      <th>2</th>\n",
       "      <td>\"\\n\\n \"\"Points of interest\"\" \\n\\nI removed the...</td>\n",
       "      <td>0</td>\n",
       "    </tr>\n",
       "    <tr>\n",
       "      <th>3</th>\n",
       "      <td>Asking some his nationality is a Racial offenc...</td>\n",
       "      <td>0</td>\n",
       "    </tr>\n",
       "    <tr>\n",
       "      <th>4</th>\n",
       "      <td>The reader here is not going by my say so for ...</td>\n",
       "      <td>0</td>\n",
       "    </tr>\n",
       "  </tbody>\n",
       "</table>\n",
       "</div>"
      ],
      "text/plain": [
       "                                        comment_text  toxic\n",
       "0  Nonsense?  kiss off, geek. what I said is true...      1\n",
       "1  \"\\n\\n Please do not vandalize pages, as you di...      0\n",
       "2  \"\\n\\n \"\"Points of interest\"\" \\n\\nI removed the...      0\n",
       "3  Asking some his nationality is a Racial offenc...      0\n",
       "4  The reader here is not going by my say so for ...      0"
      ]
     },
     "execution_count": 5,
     "metadata": {},
     "output_type": "execute_result"
    }
   ],
   "source": [
    "features = df[['comment_text','toxic']]\n",
    "features.head(5)"
   ]
  },
  {
   "cell_type": "code",
   "execution_count": 6,
   "metadata": {},
   "outputs": [
    {
     "data": {
      "text/plain": [
       "95851"
      ]
     },
     "execution_count": 6,
     "metadata": {},
     "output_type": "execute_result"
    }
   ],
   "source": [
    "len(df.toxic)"
   ]
  },
  {
   "cell_type": "code",
   "execution_count": 7,
   "metadata": {},
   "outputs": [
    {
     "data": {
      "image/png": "[encoded data removed]",
      "text/plain": [
       "<matplotlib.figure.Figure at 0x107094ef0>"
      ]
     },
     "metadata": {},
     "output_type": "display_data"
    }
   ],
   "source": [
    "## Distribution of data point in each of these clusters obtained by k-means ++ \n",
    "\n",
    "ax = sns.countplot(x = df.toxic ,palette=\"viridis\")\n",
    "sns.set(font_scale=1.5)\n",
    "ax.set_xlabel(' ')\n",
    "ax.set_ylabel(' ')\n",
    "fig = plt.gcf()\n",
    "fig.set_size_inches(13,9)\n",
    "ax.set_ylim(top=100000)\n",
    "for p in ax.patches:\n",
    "    ax.annotate('{:.2f}%'.format(100*p.get_height()/len(df.toxic)), (p.get_x()+ 0.3, p.get_height()+ 1000))\n",
    "\n",
    "plt.title('Distribution of data in label: Toxic')\n",
    "plt.xlabel('Toxic Labels')\n",
    "plt.ylabel('Frequency [%]')\n",
    "plt.show()"
   ]
  },
  {
   "cell_type": "code",
   "execution_count": 8,
   "metadata": {
    "collapsed": true
   },
   "outputs": [],
   "source": [
    "X = df.comment_text\n",
    "y = df.toxic"
   ]
  },
  {
   "cell_type": "code",
   "execution_count": 9,
   "metadata": {},
   "outputs": [
    {
     "name": "stdout",
     "output_type": "stream",
     "text": [
      "(71888,)\n",
      "(23963,)\n",
      "(71888,)\n",
      "(23963,)\n",
      "____________________________________________________________________________________________________\n",
      "0    64958\n",
      "1     6930\n",
      "Name: toxic, dtype: int64\n",
      "____________________________________________________________________________________________________\n",
      "0    21656\n",
      "1     2307\n",
      "Name: toxic, dtype: int64\n"
     ]
    },
    {
     "name": "stderr",
     "output_type": "stream",
     "text": [
      "/anaconda3/lib/python3.6/site-packages/sklearn/cross_validation.py:41: DeprecationWarning: This module was deprecated in version 0.18 in favor of the model_selection module into which all the refactored classes and functions are moved. Also note that the interface of the new CV iterators are different from that of this module. This module will be removed in 0.20.\n",
      "  \"This module will be removed in 0.20.\", DeprecationWarning)\n"
     ]
    }
   ],
   "source": [
    "# split X and y into training and testing sets\n",
    "from sklearn.cross_validation import train_test_split\n",
    "X_train, X_test, y_train, y_test = train_test_split(X, y, random_state=1)\n",
    "print(X_train.shape)\n",
    "print(X_test.shape)\n",
    "print(y_train.shape)\n",
    "print(y_test.shape)\n",
    "print(100 *\"_\")\n",
    "print(y_train.value_counts())\n",
    "print(100 *\"_\")\n",
    "print(y_test.value_counts())"
   ]
  },
  {
   "cell_type": "code",
   "execution_count": 10,
   "metadata": {
    "collapsed": true
   },
   "outputs": [],
   "source": [
    "## Count vectorizer\n",
    "\n",
    "vec = CountVectorizer()\n",
    "X_train_vec  = vec.fit_transform(X_train)"
   ]
  },
  {
   "cell_type": "code",
   "execution_count": 11,
   "metadata": {},
   "outputs": [
    {
     "data": {
      "text/plain": [
       "<71888x117070 sparse matrix of type '<class 'numpy.int64'>'\n",
       "\twith 3126400 stored elements in Compressed Sparse Row format>"
      ]
     },
     "execution_count": 11,
     "metadata": {},
     "output_type": "execute_result"
    }
   ],
   "source": [
    "# examine the document-term matrix\n",
    "X_train_vec"
   ]
  },
  {
   "cell_type": "code",
   "execution_count": 12,
   "metadata": {},
   "outputs": [
    {
     "data": {
      "text/plain": [
       "<23963x117070 sparse matrix of type '<class 'numpy.int64'>'\n",
       "\twith 1025849 stored elements in Compressed Sparse Row format>"
      ]
     },
     "execution_count": 12,
     "metadata": {},
     "output_type": "execute_result"
    }
   ],
   "source": [
    "\n",
    "# transform testing data (using fitted vocabulary) into a document-term matrix\n",
    "X_test_vec = vec.transform(X_test)\n",
    "X_test_vec"
   ]
  },
  {
   "cell_type": "code",
   "execution_count": 13,
   "metadata": {
    "collapsed": true
   },
   "outputs": [],
   "source": [
    "# import and instantiate a Multinomial Naive Bayes model\n",
    "from sklearn.naive_bayes import MultinomialNB\n",
    "nb = MultinomialNB()"
   ]
  },
  {
   "cell_type": "code",
   "execution_count": 14,
   "metadata": {},
   "outputs": [
    {
     "name": "stdout",
     "output_type": "stream",
     "text": [
      "CPU times: user 50.7 ms, sys: 10.4 ms, total: 61.1 ms\n",
      "Wall time: 60.1 ms\n"
     ]
    },
    {
     "data": {
      "text/plain": [
       "MultinomialNB(alpha=1.0, class_prior=None, fit_prior=True)"
      ]
     },
     "execution_count": 14,
     "metadata": {},
     "output_type": "execute_result"
    }
   ],
   "source": [
    "# train the model using X_train_dtm (timing it with an IPython \"magic command\")\n",
    "%time nb.fit(X_train_vec, y_train)"
   ]
  },
  {
   "cell_type": "code",
   "execution_count": 15,
   "metadata": {
    "collapsed": true
   },
   "outputs": [],
   "source": [
    "# make class predictions for X_test_dtm\n",
    "y_pred_class = nb.predict(X_test_vec)"
   ]
  },
  {
   "cell_type": "code",
   "execution_count": 16,
   "metadata": {},
   "outputs": [
    {
     "data": {
      "text/plain": [
       "0.94750239953261273"
      ]
     },
     "execution_count": 16,
     "metadata": {},
     "output_type": "execute_result"
    }
   ],
   "source": [
    "# calculate accuracy of class predictions\n",
    "from sklearn import metrics\n",
    "metrics.accuracy_score(y_test, y_pred_class)"
   ]
  },
  {
   "cell_type": "code",
   "execution_count": 17,
   "metadata": {},
   "outputs": [
    {
     "name": "stdout",
     "output_type": "stream",
     "text": [
      "             precision    recall  f1-score   support\n",
      "\n",
      "          0       0.96      0.99      0.97     21656\n",
      "          1       0.82      0.59      0.68      2307\n",
      "\n",
      "avg / total       0.94      0.95      0.94     23963\n",
      "\n"
     ]
    }
   ],
   "source": [
    "from sklearn.metrics import classification_report\n",
    "print(classification_report(y_test, y_pred_class))"
   ]
  },
  {
   "cell_type": "code",
   "execution_count": 18,
   "metadata": {},
   "outputs": [
    {
     "data": {
      "text/plain": [
       "array([[21355,   301],\n",
       "       [  957,  1350]])"
      ]
     },
     "execution_count": 18,
     "metadata": {},
     "output_type": "execute_result"
    }
   ],
   "source": [
    "# print the confusion matrix\n",
    "metrics.confusion_matrix(y_test, y_pred_class)"
   ]
  },
  {
   "cell_type": "code",
   "execution_count": 19,
   "metadata": {},
   "outputs": [
    {
     "name": "stdout",
     "output_type": "stream",
     "text": [
      "301\n"
     ]
    },
    {
     "data": {
      "text/plain": [
       "53725                            LULZ \\n\\nHAHAHAHAHAHA ==>\n",
       "19327    Get a life Samaleks, go back to your skyscrape...\n",
       "4339     Wow dude.  As your physician I suggest you sli...\n",
       "39038    hey i like Jews hey i like Jews hey i like Jew...\n",
       "77313                              Budgiekiller is a panzy\n",
       "88927                     lalalalalala 5 4 3 2 1 blast off\n",
       "48834    \"\\n\\n Wah wah wah \\nThe \"\"authority\"\" rises to...\n",
       "39841                      ...lol! Smart, I say. Smart!! P\n",
       "29592    You're giving Montevideo & architects a bad na...\n",
       "58839                  Do ya! \\nDo ya like spongebob? (  )\n",
       "55108    \"\\nHilarious even without the en-dash thing: I...\n",
       "4763     George Stephenson, an Englishman chose Swedish...\n",
       "13220                   blah... blah... blah... blah......\n",
       "15257    \"\\n\\n?? Capitalism. What's wrong with the Cata...\n",
       "19155                                . Also, I am a donkey\n",
       "73283    \"wow eric...btw dont you like hentai too?\\n\"\"e...\n",
       "41921                         ..oh im sorry, you like him.\n",
       "86295           Emplying you love large Pen1s is outragous\n",
       "76972                    Hi\\n\\nHi, Bingo.  How's it going?\n",
       "41983                      yes i like to play with balls )\n",
       "10995    Rango \\n\\nCan you put back Angelique Carringto...\n",
       "59881    My Picture\\n\\nDude! What the hell happend to m...\n",
       "81937                              a far-right wing wanker\n",
       "15850    Stopped being funny? \\n\\nIt never stops being ...\n",
       "46706    Goodwin Is a Wonderfull Strider.71.120.128.212...\n",
       "70354    Gay propaganda .   \\n   \\n   \\n   \\nGay propag...\n",
       "35998                                I love you with mouth\n",
       "83061    A threat that is definitely DEADLY SERIOUS \\n\\...\n",
       "65002    nangparbat ==\\njust to let you know this aint ...\n",
       "7239     \"Excuse my poor conduct==\\nBut seriously, who ...\n",
       "                               ...                        \n",
       "7943           You obviously never attended college, moron\n",
       "27947    Ha-ha-ha, a good one! You are right those fish...\n",
       "72032       \"\\n\\n \"\"Any comments??\"\"\\n\\n Yeah. Buh bye.  \"\n",
       "35237                |Skater chick2012]]  skater chick2012\n",
       "7952     Ian Watkins==\\nIt's a realible source. It's a ...\n",
       "71432    try again 83.170.117.88  \\nstill not good enou...\n",
       "32104    Well said \\n\\nWell said mate. Cossde is a timi...\n",
       "25497           .. wow damn..Alison..Is that english?..lol\n",
       "72756    \" Seriously though, grow up. Flooding my user ...\n",
       "37513            \"\\noh ha ha ha, ain't you funny. -  T:C \"\n",
       "57042                    Yoo am mesed up, dont dew it agen\n",
       "64964    You're so awesome! It's been a pleasure workin...\n",
       "39057    ISIS Loves to liying,FBI And CIA Are Going to ...\n",
       "89563                 Death\\n\\nMan I'd kill for a cookie..\n",
       "10782    If he's your friend, then why are you outing h...\n",
       "35894    Tear... \\n\\nAwwwww! Your picture of that US so...\n",
       "33877                 OH GET A LIFE YOU PRICK 81.144.199.2\n",
       "21736    Dependency hell \\nI wonder why such bad system...\n",
       "92074    \"\\n\\n hey dipshit \\n\\nI made a contribution - ...\n",
       "93884    \"\\n\\n Geez Hesp, as well as being a coward you...\n",
       "41723                     . Also quit touching little boys\n",
       "54495                      how do yoU delete wiki akkount?\n",
       "45523             Hey! \\n\\nI'm back, mate. You know why.;)\n",
       "91946    , stop cencoring my words. Your manners are di...\n",
       "52518    .\\nI am a loser and I need your help to get a ...\n",
       "64750                    You are boring \\n\\nleave me alone\n",
       "43097    What, do you guys have a control room. Where a...\n",
       "93133    Ankit Fadia \\n\\nAnkit Fadia is not a white hat...\n",
       "46854    DREADSTAR GOT DESYSOPPED HAHAHAHHAA\\nDREADSTAR...\n",
       "15324    James an estranged that blocked me \\n\\nWho are...\n",
       "Name: comment_text, Length: 301, dtype: object"
      ]
     },
     "execution_count": 19,
     "metadata": {},
     "output_type": "execute_result"
    }
   ],
   "source": [
    "# print message text for the false positives (Not Toxic incorrectly classified as Toxic)\n",
    "print(len(X_test[y_test < y_pred_class]))\n",
    "X_test[y_test < y_pred_class]"
   ]
  },
  {
   "cell_type": "code",
   "execution_count": 20,
   "metadata": {},
   "outputs": [
    {
     "data": {
      "text/plain": [
       "50717    BTW, I could'nt even save it until I deleted A...\n",
       "92405    \"\\n\\n 3RR warning \\n\\nThree times today (28 Oc...\n",
       "46282    Er, what is the precise opposite of what the r...\n",
       "18811    Yo who the heeck wrote this and how the heck d...\n",
       "80943    \"\\n\\n Getting rid of time stamps  \\n\\nSTOP MAK...\n",
       "68681    DeCausa you are such an idiot. I was talking a...\n",
       "25747    you are ignorant and a liar.  i'm impressed no...\n",
       "62085    \"\\nWell, \"\"fuckhead\"\" seemed a little over the...\n",
       "92557    THIS IS YOUR LAST WARNING \\n\\nYou will be bloc...\n",
       "5975     well Alison - ur name and photo in ur user pag...\n",
       "60574                            – \\nDon't be stupid then!\n",
       "771      What's your concept for uncivic?? you are one ...\n",
       "7146     \"\\n\\nMacedonian point of view\\nWhy there is no...\n",
       "1989      JUDENSCWEIN TO THE OVENS !  LIARS ! ALL OF YOU !\n",
       "23067    fuck the police f\\nXRAP ROCK LIT POP COUNTRY R...\n",
       "45183    please remove this  massacres  bullshit .those...\n",
       "3938     \"\\n\\n Bye \\n\\nI'm not going to deal with the a...\n",
       "92158    Your hypocrisy amuses me. \\n\\nLook at your use...\n",
       "44944    Yeah \\n\\nIf you don't like the team, get the h...\n",
       "69383    Hating Wikipedia. Agree. But it seems that unt...\n",
       "32271    \"\\n\\n\"\"Harassment\"\" as in pointing out that Ga...\n",
       "19436    Did you see that I crossed it out? Typical sel...\n",
       "57981                          This IP is owned by a Nazi.\n",
       "78816    HAHAHA THAT'LL TEACH YOU TO WP:AGF 94.8.193.32...\n",
       "93259    \"\\n\\nIt is not disruptive, and does not appear...\n",
       "86442    That wasn't the question. I'm still trying to ...\n",
       "38926                                 u suckkkkkkkkkkkkkkk\n",
       "2594     So I was in the grocery store the other day, a...\n",
       "20664    Stop being idiotic\\n\\nStop screwing around wit...\n",
       "35686    What the heck? \\n\\nWhat the heck is a good mac...\n",
       "                               ...                        \n",
       "12790    , 9 April 2008 (UTC)\\n*cuts a loud fart* 136.1...\n",
       "70271           matt J! \\n\\nmatty j is a right winged nut!\n",
       "82209    Perhaps you missed the discussion at  \\nNo, I ...\n",
       "65780    \"  And I never got a chance to \"\"State my Case...\n",
       "95560    WE ARE JUST TRYING TO PROTEST THE MILITARY GOV...\n",
       "21922    \"\\n\\nAll my uploaded pdf-documents have been u...\n",
       "85251    (UTC)\\nChrist what a dumb question.21:37, 31 D...\n",
       "69587    Also, I have the fucking rights to advertise m...\n",
       "36768    Is this place run by girls????  That is the mo...\n",
       "72538    \"\\n\\n Go fuck yourself \\n\\n\"\"and the creator i...\n",
       "40567    I did NOT post that the Ex-Beeline are in serv...\n",
       "29962    Am I welcome on Wikipedia? My brother is an ab...\n",
       "95745    Who are you? \\n\\nI must admit, you are not the...\n",
       "48682    How come your name used to be Peter? Are you a...\n",
       "79147    whats vandal did i vandal why should i create ...\n",
       "39530    Please don't be an assclown. You've already fi...\n",
       "73072    Reasonable request \\n\\nI am going to piss on y...\n",
       "12966    Hey Defiance- this lady is CRAZY- she only edi...\n",
       "49055    Hans Adler is a Nazi!!!!! He kept discrimating...\n",
       "45546       EFFIN PEICE OF SHEET. \\nSUUCK A 8============>\n",
       "37394                   YOU ARE ONE SAD LITTLE INDIVIDUAL.\n",
       "77787    .  Feel free to silence the opposition with Ge...\n",
       "46189    stupid bots deleting pics\\n\\nI would like to a...\n",
       "7963     Hey loser. You have too many edits in talk nam...\n",
       "35307    What the FUCK are you doing? \\n\\nLay off my qu...\n",
       "82829    Don't Talk\\nGoogie Man, I got 2 simple words f...\n",
       "45261    2012 (UTC)\\n\\nThe fact that you're a dick prob...\n",
       "51210    Did, WHAT DID I JUST SAY!?  Sourcing VA's is u...\n",
       "43480    \"== \"\"mujahideen\"\" ==\\n\\nwheres your proof of ...\n",
       "77661    PLEASE, DO NOT ADD MORE UNCONFIRMED SERIES AND...\n",
       "Name: comment_text, Length: 957, dtype: object"
      ]
     },
     "execution_count": 20,
     "metadata": {},
     "output_type": "execute_result"
    }
   ],
   "source": [
    "X_test[y_test > y_pred_class]"
   ]
  },
  {
   "cell_type": "code",
   "execution_count": 21,
   "metadata": {},
   "outputs": [
    {
     "data": {
      "text/plain": [
       "\"PLEASE, DO NOT ADD MORE UNCONFIRMED SERIES AND BLOCKS THAT HAVE NOT BEEN ANNOUNCED!!!1 \\n\\nPlease, it's the fucking true, i hate the people that lies, and doing vandalism, i'm not doing vandalism, i say the fucking true, but you are an idiots, do not add more series and movies, that have not been anounced in latin america, they don't appears on ANMTV, for that reason, they will never air in Latin America, the following series that i montioned are:\\n The High Fructose Adventures of Annoying Orange\\n Secret Fort for Awesome\\n The Problem Solverz\\n DC Nation\\n DC Nation Shorts\\n Incredible Crew\\n\\nPlease, it's the very true, sorry for bad words and expresions, but is the true, please, protect the article, greetings!!!\""
      ]
     },
     "execution_count": 21,
     "metadata": {},
     "output_type": "execute_result"
    }
   ],
   "source": [
    "X_test[77661]"
   ]
  },
  {
   "cell_type": "code",
   "execution_count": 22,
   "metadata": {},
   "outputs": [
    {
     "data": {
      "text/plain": [
       "array([  2.81992267e-002,   1.91737754e-040,   5.92833238e-002, ...,\n",
       "         1.22811527e-139,   2.08389304e-030,   1.97910805e-019])"
      ]
     },
     "execution_count": 22,
     "metadata": {},
     "output_type": "execute_result"
    }
   ],
   "source": [
    "# calculate predicted probabilities for X_test_dtm (poorly calibrated)\n",
    "y_pred_prob = nb.predict_proba(X_test_vec)[:, 1]\n",
    "y_pred_prob"
   ]
  },
  {
   "cell_type": "code",
   "execution_count": 23,
   "metadata": {},
   "outputs": [
    {
     "data": {
      "text/plain": [
       "0.8926194574293973"
      ]
     },
     "execution_count": 23,
     "metadata": {},
     "output_type": "execute_result"
    }
   ],
   "source": [
    "# calculate AUC\n",
    "metrics.roc_auc_score(y_test, y_pred_prob)"
   ]
  },
  {
   "cell_type": "markdown",
   "metadata": {},
   "source": [
    "### Logistic Regression"
   ]
  },
  {
   "cell_type": "code",
   "execution_count": 24,
   "metadata": {
    "collapsed": true
   },
   "outputs": [],
   "source": [
    "# import and instantiate a logistic regression model\n",
    "from sklearn.linear_model import LogisticRegression\n",
    "logreg = LogisticRegression()"
   ]
  },
  {
   "cell_type": "code",
   "execution_count": 25,
   "metadata": {},
   "outputs": [
    {
     "name": "stdout",
     "output_type": "stream",
     "text": [
      "CPU times: user 12.2 s, sys: 207 ms, total: 12.4 s\n",
      "Wall time: 12.8 s\n"
     ]
    },
    {
     "data": {
      "text/plain": [
       "LogisticRegression(C=1.0, class_weight=None, dual=False, fit_intercept=True,\n",
       "          intercept_scaling=1, max_iter=100, multi_class='ovr', n_jobs=1,\n",
       "          penalty='l2', random_state=None, solver='liblinear', tol=0.0001,\n",
       "          verbose=0, warm_start=False)"
      ]
     },
     "execution_count": 25,
     "metadata": {},
     "output_type": "execute_result"
    }
   ],
   "source": [
    "# train the model using X_train_dtm\n",
    "%time logreg.fit(X_train_vec, y_train)"
   ]
  },
  {
   "cell_type": "code",
   "execution_count": 26,
   "metadata": {
    "collapsed": true
   },
   "outputs": [],
   "source": [
    "# make class predictions for X_test_dtm\n",
    "y_pred_class = logreg.predict(X_test_vec)"
   ]
  },
  {
   "cell_type": "code",
   "execution_count": 27,
   "metadata": {},
   "outputs": [
    {
     "data": {
      "text/plain": [
       "array([  7.80250840e-02,   1.09720690e-04,   5.72517958e-02, ...,\n",
       "         1.91926694e-13,   8.88867035e-03,   5.23020072e-01])"
      ]
     },
     "execution_count": 27,
     "metadata": {},
     "output_type": "execute_result"
    }
   ],
   "source": [
    "# calculate predicted probabilities for X_test_dtm (well calibrated)\n",
    "y_pred_prob = logreg.predict_proba(X_test_vec)[:, 1]\n",
    "y_pred_prob"
   ]
  },
  {
   "cell_type": "code",
   "execution_count": 28,
   "metadata": {},
   "outputs": [
    {
     "data": {
      "text/plain": [
       "0.94645912448357883"
      ]
     },
     "execution_count": 28,
     "metadata": {},
     "output_type": "execute_result"
    }
   ],
   "source": [
    "# calculate accuracy\n",
    "metrics.accuracy_score(y_test, y_pred_class)"
   ]
  },
  {
   "cell_type": "code",
   "execution_count": 29,
   "metadata": {},
   "outputs": [
    {
     "data": {
      "text/plain": [
       "0.9564368510159007"
      ]
     },
     "execution_count": 29,
     "metadata": {},
     "output_type": "execute_result"
    }
   ],
   "source": [
    "# calculate AUC\n",
    "metrics.roc_auc_score(y_test, y_pred_prob)"
   ]
  },
  {
   "cell_type": "code",
   "execution_count": 30,
   "metadata": {},
   "outputs": [
    {
     "name": "stdout",
     "output_type": "stream",
     "text": [
      "             precision    recall  f1-score   support\n",
      "\n",
      "          0       0.95      0.99      0.97     21656\n",
      "          1       0.88      0.51      0.65      2307\n",
      "\n",
      "avg / total       0.94      0.95      0.94     23963\n",
      "\n"
     ]
    }
   ],
   "source": [
    "from sklearn.metrics import classification_report\n",
    "print(classification_report(y_test, y_pred_class))"
   ]
  },
  {
   "cell_type": "markdown",
   "metadata": {},
   "source": [
    "### Exploring toxic and not toxic words"
   ]
  },
  {
   "cell_type": "code",
   "execution_count": 31,
   "metadata": {},
   "outputs": [
    {
     "data": {
      "text/plain": [
       "117070"
      ]
     },
     "execution_count": 31,
     "metadata": {},
     "output_type": "execute_result"
    }
   ],
   "source": [
    "\n",
    "# store the vocabulary of X_train\n",
    "X_train_tokens = vec.get_feature_names()\n",
    "len(X_train_tokens)"
   ]
  },
  {
   "cell_type": "code",
   "execution_count": 32,
   "metadata": {},
   "outputs": [
    {
     "data": {
      "text/plain": [
       "array([[ 349.,  870.,    5., ...,    1.,    1.,    1.],\n",
       "       [  11.,   19.,    0., ...,    0.,    0.,    0.]])"
      ]
     },
     "execution_count": 32,
     "metadata": {},
     "output_type": "execute_result"
    }
   ],
   "source": [
    "# Naive Bayes counts the number of times each token appears in each class\n",
    "nb.feature_count_"
   ]
  },
  {
   "cell_type": "code",
   "execution_count": 33,
   "metadata": {},
   "outputs": [
    {
     "data": {
      "text/plain": [
       "array([ 349.,  870.,    5., ...,    1.,    1.,    1.])"
      ]
     },
     "execution_count": 33,
     "metadata": {},
     "output_type": "execute_result"
    }
   ],
   "source": [
    "\n",
    "# number of times each token appears across all Not toxic messages\n",
    "Not_Toxic_token_count = nb.feature_count_[0, :]\n",
    "Not_Toxic_token_count"
   ]
  },
  {
   "cell_type": "code",
   "execution_count": 34,
   "metadata": {},
   "outputs": [
    {
     "data": {
      "text/plain": [
       "array([ 11.,  19.,   0., ...,   0.,   0.,   0.])"
      ]
     },
     "execution_count": 34,
     "metadata": {},
     "output_type": "execute_result"
    }
   ],
   "source": [
    "# number of times each token appears across all Toxic messages\n",
    "Toxic_token_count = nb.feature_count_[1, :]\n",
    "Toxic_token_count"
   ]
  },
  {
   "cell_type": "code",
   "execution_count": 35,
   "metadata": {},
   "outputs": [
    {
     "data": {
      "text/html": [
       "<div>\n",
       "<style>\n",
       "    .dataframe thead tr:only-child th {\n",
       "        text-align: right;\n",
       "    }\n",
       "\n",
       "    .dataframe thead th {\n",
       "        text-align: left;\n",
       "    }\n",
       "\n",
       "    .dataframe tbody tr th {\n",
       "        vertical-align: top;\n",
       "    }\n",
       "</style>\n",
       "<table border=\"1\" class=\"dataframe\">\n",
       "  <thead>\n",
       "    <tr style=\"text-align: right;\">\n",
       "      <th></th>\n",
       "      <th>Not_toxic</th>\n",
       "      <th>Toxic</th>\n",
       "    </tr>\n",
       "    <tr>\n",
       "      <th>token</th>\n",
       "      <th></th>\n",
       "      <th></th>\n",
       "    </tr>\n",
       "  </thead>\n",
       "  <tbody>\n",
       "    <tr>\n",
       "      <th>00</th>\n",
       "      <td>349.0</td>\n",
       "      <td>11.0</td>\n",
       "    </tr>\n",
       "    <tr>\n",
       "      <th>000</th>\n",
       "      <td>870.0</td>\n",
       "      <td>19.0</td>\n",
       "    </tr>\n",
       "    <tr>\n",
       "      <th>0000</th>\n",
       "      <td>5.0</td>\n",
       "      <td>0.0</td>\n",
       "    </tr>\n",
       "    <tr>\n",
       "      <th>000000</th>\n",
       "      <td>75.0</td>\n",
       "      <td>0.0</td>\n",
       "    </tr>\n",
       "    <tr>\n",
       "      <th>00000000</th>\n",
       "      <td>0.0</td>\n",
       "      <td>1.0</td>\n",
       "    </tr>\n",
       "  </tbody>\n",
       "</table>\n",
       "</div>"
      ],
      "text/plain": [
       "          Not_toxic  Toxic\n",
       "token                     \n",
       "00            349.0   11.0\n",
       "000           870.0   19.0\n",
       "0000            5.0    0.0\n",
       "000000         75.0    0.0\n",
       "00000000        0.0    1.0"
      ]
     },
     "execution_count": 35,
     "metadata": {},
     "output_type": "execute_result"
    }
   ],
   "source": [
    "# create a DataFrame of tokens with their separate not toxic and toxic counts\n",
    "tokens = pd.DataFrame({'token':X_train_tokens, 'Not_toxic':Not_Toxic_token_count, 'Toxic':Toxic_token_count}).set_index('token')\n",
    "tokens.head()"
   ]
  },
  {
   "cell_type": "code",
   "execution_count": 36,
   "metadata": {},
   "outputs": [
    {
     "data": {
      "text/html": [
       "<div>\n",
       "<style>\n",
       "    .dataframe thead tr:only-child th {\n",
       "        text-align: right;\n",
       "    }\n",
       "\n",
       "    .dataframe thead th {\n",
       "        text-align: left;\n",
       "    }\n",
       "\n",
       "    .dataframe tbody tr th {\n",
       "        vertical-align: top;\n",
       "    }\n",
       "</style>\n",
       "<table border=\"1\" class=\"dataframe\">\n",
       "  <thead>\n",
       "    <tr style=\"text-align: right;\">\n",
       "      <th></th>\n",
       "      <th>Not_toxic</th>\n",
       "      <th>Toxic</th>\n",
       "    </tr>\n",
       "    <tr>\n",
       "      <th>token</th>\n",
       "      <th></th>\n",
       "      <th></th>\n",
       "    </tr>\n",
       "  </thead>\n",
       "  <tbody>\n",
       "    <tr>\n",
       "      <th>horse</th>\n",
       "      <td>110.0</td>\n",
       "      <td>28.0</td>\n",
       "    </tr>\n",
       "    <tr>\n",
       "      <th>radislav</th>\n",
       "      <td>1.0</td>\n",
       "      <td>0.0</td>\n",
       "    </tr>\n",
       "    <tr>\n",
       "      <th>livlehoods</th>\n",
       "      <td>1.0</td>\n",
       "      <td>0.0</td>\n",
       "    </tr>\n",
       "    <tr>\n",
       "      <th>mumtaz</th>\n",
       "      <td>5.0</td>\n",
       "      <td>0.0</td>\n",
       "    </tr>\n",
       "    <tr>\n",
       "      <th>rumination</th>\n",
       "      <td>3.0</td>\n",
       "      <td>0.0</td>\n",
       "    </tr>\n",
       "  </tbody>\n",
       "</table>\n",
       "</div>"
      ],
      "text/plain": [
       "            Not_toxic  Toxic\n",
       "token                       \n",
       "horse           110.0   28.0\n",
       "radislav          1.0    0.0\n",
       "livlehoods        1.0    0.0\n",
       "mumtaz            5.0    0.0\n",
       "rumination        3.0    0.0"
      ]
     },
     "execution_count": 36,
     "metadata": {},
     "output_type": "execute_result"
    }
   ],
   "source": [
    "# examine 5 random DataFrame rows\n",
    "tokens.sample(5, random_state=123)"
   ]
  },
  {
   "cell_type": "code",
   "execution_count": 37,
   "metadata": {},
   "outputs": [
    {
     "data": {
      "text/plain": [
       "array([ 64958.,   6930.])"
      ]
     },
     "execution_count": 37,
     "metadata": {},
     "output_type": "execute_result"
    }
   ],
   "source": [
    "# Naive Bayes counts the number of observations in each class\n",
    "nb.class_count_"
   ]
  },
  {
   "cell_type": "code",
   "execution_count": 38,
   "metadata": {},
   "outputs": [
    {
     "data": {
      "text/html": [
       "<div>\n",
       "<style>\n",
       "    .dataframe thead tr:only-child th {\n",
       "        text-align: right;\n",
       "    }\n",
       "\n",
       "    .dataframe thead th {\n",
       "        text-align: left;\n",
       "    }\n",
       "\n",
       "    .dataframe tbody tr th {\n",
       "        vertical-align: top;\n",
       "    }\n",
       "</style>\n",
       "<table border=\"1\" class=\"dataframe\">\n",
       "  <thead>\n",
       "    <tr style=\"text-align: right;\">\n",
       "      <th></th>\n",
       "      <th>Not_toxic</th>\n",
       "      <th>Toxic</th>\n",
       "    </tr>\n",
       "    <tr>\n",
       "      <th>token</th>\n",
       "      <th></th>\n",
       "      <th></th>\n",
       "    </tr>\n",
       "  </thead>\n",
       "  <tbody>\n",
       "    <tr>\n",
       "      <th>horse</th>\n",
       "      <td>111.0</td>\n",
       "      <td>29.0</td>\n",
       "    </tr>\n",
       "    <tr>\n",
       "      <th>radislav</th>\n",
       "      <td>2.0</td>\n",
       "      <td>1.0</td>\n",
       "    </tr>\n",
       "    <tr>\n",
       "      <th>livlehoods</th>\n",
       "      <td>2.0</td>\n",
       "      <td>1.0</td>\n",
       "    </tr>\n",
       "    <tr>\n",
       "      <th>mumtaz</th>\n",
       "      <td>6.0</td>\n",
       "      <td>1.0</td>\n",
       "    </tr>\n",
       "    <tr>\n",
       "      <th>rumination</th>\n",
       "      <td>4.0</td>\n",
       "      <td>1.0</td>\n",
       "    </tr>\n",
       "  </tbody>\n",
       "</table>\n",
       "</div>"
      ],
      "text/plain": [
       "            Not_toxic  Toxic\n",
       "token                       \n",
       "horse           111.0   29.0\n",
       "radislav          2.0    1.0\n",
       "livlehoods        2.0    1.0\n",
       "mumtaz            6.0    1.0\n",
       "rumination        4.0    1.0"
      ]
     },
     "execution_count": 38,
     "metadata": {},
     "output_type": "execute_result"
    }
   ],
   "source": [
    "# add 1 to not toxic and toxic counts to avoid dividing by 0\n",
    "tokens['Not_toxic'] = tokens.Not_toxic + 1\n",
    "tokens['Toxic'] = tokens.Toxic + 1\n",
    "tokens.sample(5, random_state=123)"
   ]
  },
  {
   "cell_type": "code",
   "execution_count": 39,
   "metadata": {},
   "outputs": [
    {
     "data": {
      "text/html": [
       "<div>\n",
       "<style>\n",
       "    .dataframe thead tr:only-child th {\n",
       "        text-align: right;\n",
       "    }\n",
       "\n",
       "    .dataframe thead th {\n",
       "        text-align: left;\n",
       "    }\n",
       "\n",
       "    .dataframe tbody tr th {\n",
       "        vertical-align: top;\n",
       "    }\n",
       "</style>\n",
       "<table border=\"1\" class=\"dataframe\">\n",
       "  <thead>\n",
       "    <tr style=\"text-align: right;\">\n",
       "      <th></th>\n",
       "      <th>Not_toxic</th>\n",
       "      <th>Toxic</th>\n",
       "    </tr>\n",
       "    <tr>\n",
       "      <th>token</th>\n",
       "      <th></th>\n",
       "      <th></th>\n",
       "    </tr>\n",
       "  </thead>\n",
       "  <tbody>\n",
       "    <tr>\n",
       "      <th>horse</th>\n",
       "      <td>0.001709</td>\n",
       "      <td>0.004185</td>\n",
       "    </tr>\n",
       "    <tr>\n",
       "      <th>radislav</th>\n",
       "      <td>0.000031</td>\n",
       "      <td>0.000144</td>\n",
       "    </tr>\n",
       "    <tr>\n",
       "      <th>livlehoods</th>\n",
       "      <td>0.000031</td>\n",
       "      <td>0.000144</td>\n",
       "    </tr>\n",
       "    <tr>\n",
       "      <th>mumtaz</th>\n",
       "      <td>0.000092</td>\n",
       "      <td>0.000144</td>\n",
       "    </tr>\n",
       "    <tr>\n",
       "      <th>rumination</th>\n",
       "      <td>0.000062</td>\n",
       "      <td>0.000144</td>\n",
       "    </tr>\n",
       "  </tbody>\n",
       "</table>\n",
       "</div>"
      ],
      "text/plain": [
       "            Not_toxic     Toxic\n",
       "token                          \n",
       "horse        0.001709  0.004185\n",
       "radislav     0.000031  0.000144\n",
       "livlehoods   0.000031  0.000144\n",
       "mumtaz       0.000092  0.000144\n",
       "rumination   0.000062  0.000144"
      ]
     },
     "execution_count": 39,
     "metadata": {},
     "output_type": "execute_result"
    }
   ],
   "source": [
    "# convert the ham and spam counts into frequencies\n",
    "tokens['Not_toxic']  = tokens.Not_toxic  / nb.class_count_[0]\n",
    "tokens['Toxic']  = tokens.Toxic / nb.class_count_[1]\n",
    "tokens.sample(5, random_state=123)"
   ]
  },
  {
   "cell_type": "code",
   "execution_count": 40,
   "metadata": {},
   "outputs": [
    {
     "data": {
      "text/html": [
       "<div>\n",
       "<style>\n",
       "    .dataframe thead tr:only-child th {\n",
       "        text-align: right;\n",
       "    }\n",
       "\n",
       "    .dataframe thead th {\n",
       "        text-align: left;\n",
       "    }\n",
       "\n",
       "    .dataframe tbody tr th {\n",
       "        vertical-align: top;\n",
       "    }\n",
       "</style>\n",
       "<table border=\"1\" class=\"dataframe\">\n",
       "  <thead>\n",
       "    <tr style=\"text-align: right;\">\n",
       "      <th></th>\n",
       "      <th>Not_toxic</th>\n",
       "      <th>Toxic</th>\n",
       "      <th>spam_ratio</th>\n",
       "    </tr>\n",
       "    <tr>\n",
       "      <th>token</th>\n",
       "      <th></th>\n",
       "      <th></th>\n",
       "      <th></th>\n",
       "    </tr>\n",
       "  </thead>\n",
       "  <tbody>\n",
       "    <tr>\n",
       "      <th>horse</th>\n",
       "      <td>0.001709</td>\n",
       "      <td>0.004185</td>\n",
       "      <td>2.448919</td>\n",
       "    </tr>\n",
       "    <tr>\n",
       "      <th>radislav</th>\n",
       "      <td>0.000031</td>\n",
       "      <td>0.000144</td>\n",
       "      <td>4.686724</td>\n",
       "    </tr>\n",
       "    <tr>\n",
       "      <th>livlehoods</th>\n",
       "      <td>0.000031</td>\n",
       "      <td>0.000144</td>\n",
       "      <td>4.686724</td>\n",
       "    </tr>\n",
       "    <tr>\n",
       "      <th>mumtaz</th>\n",
       "      <td>0.000092</td>\n",
       "      <td>0.000144</td>\n",
       "      <td>1.562241</td>\n",
       "    </tr>\n",
       "    <tr>\n",
       "      <th>rumination</th>\n",
       "      <td>0.000062</td>\n",
       "      <td>0.000144</td>\n",
       "      <td>2.343362</td>\n",
       "    </tr>\n",
       "    <tr>\n",
       "      <th>hurlock</th>\n",
       "      <td>0.000031</td>\n",
       "      <td>0.000144</td>\n",
       "      <td>4.686724</td>\n",
       "    </tr>\n",
       "    <tr>\n",
       "      <th>angelides</th>\n",
       "      <td>0.000031</td>\n",
       "      <td>0.000144</td>\n",
       "      <td>4.686724</td>\n",
       "    </tr>\n",
       "    <tr>\n",
       "      <th>pixelated</th>\n",
       "      <td>0.000077</td>\n",
       "      <td>0.000144</td>\n",
       "      <td>1.874690</td>\n",
       "    </tr>\n",
       "    <tr>\n",
       "      <th>καληνύχτα</th>\n",
       "      <td>0.000031</td>\n",
       "      <td>0.000144</td>\n",
       "      <td>4.686724</td>\n",
       "    </tr>\n",
       "    <tr>\n",
       "      <th>awide</th>\n",
       "      <td>0.000031</td>\n",
       "      <td>0.000144</td>\n",
       "      <td>4.686724</td>\n",
       "    </tr>\n",
       "  </tbody>\n",
       "</table>\n",
       "</div>"
      ],
      "text/plain": [
       "            Not_toxic     Toxic  spam_ratio\n",
       "token                                      \n",
       "horse        0.001709  0.004185    2.448919\n",
       "radislav     0.000031  0.000144    4.686724\n",
       "livlehoods   0.000031  0.000144    4.686724\n",
       "mumtaz       0.000092  0.000144    1.562241\n",
       "rumination   0.000062  0.000144    2.343362\n",
       "hurlock      0.000031  0.000144    4.686724\n",
       "angelides    0.000031  0.000144    4.686724\n",
       "pixelated    0.000077  0.000144    1.874690\n",
       "καληνύχτα    0.000031  0.000144    4.686724\n",
       "awide        0.000031  0.000144    4.686724"
      ]
     },
     "execution_count": 40,
     "metadata": {},
     "output_type": "execute_result"
    }
   ],
   "source": [
    "# calculate the ratio of toxic to non-toxic for each token\n",
    "tokens['spam_ratio'] = tokens.Toxic/ tokens.Not_toxic\n",
    "tokens.sample(10, random_state=123)"
   ]
  },
  {
   "cell_type": "code",
   "execution_count": 41,
   "metadata": {},
   "outputs": [
    {
     "data": {
      "text/html": [
       "<div>\n",
       "<style>\n",
       "    .dataframe thead tr:only-child th {\n",
       "        text-align: right;\n",
       "    }\n",
       "\n",
       "    .dataframe thead th {\n",
       "        text-align: left;\n",
       "    }\n",
       "\n",
       "    .dataframe tbody tr th {\n",
       "        vertical-align: top;\n",
       "    }\n",
       "</style>\n",
       "<table border=\"1\" class=\"dataframe\">\n",
       "  <thead>\n",
       "    <tr style=\"text-align: right;\">\n",
       "      <th></th>\n",
       "      <th>Not_toxic</th>\n",
       "      <th>Toxic</th>\n",
       "      <th>spam_ratio</th>\n",
       "    </tr>\n",
       "    <tr>\n",
       "      <th>token</th>\n",
       "      <th></th>\n",
       "      <th></th>\n",
       "      <th></th>\n",
       "    </tr>\n",
       "  </thead>\n",
       "  <tbody>\n",
       "    <tr>\n",
       "      <th>yourselfgo</th>\n",
       "      <td>0.000015</td>\n",
       "      <td>0.089755</td>\n",
       "      <td>5830.285137</td>\n",
       "    </tr>\n",
       "    <tr>\n",
       "      <th>offfuck</th>\n",
       "      <td>0.000015</td>\n",
       "      <td>0.052092</td>\n",
       "      <td>3383.815007</td>\n",
       "    </tr>\n",
       "    <tr>\n",
       "      <th>niggas</th>\n",
       "      <td>0.000015</td>\n",
       "      <td>0.049351</td>\n",
       "      <td>3205.719481</td>\n",
       "    </tr>\n",
       "    <tr>\n",
       "      <th>sexsex</th>\n",
       "      <td>0.000015</td>\n",
       "      <td>0.048052</td>\n",
       "      <td>3121.358442</td>\n",
       "    </tr>\n",
       "    <tr>\n",
       "      <th>cocksucker</th>\n",
       "      <td>0.000015</td>\n",
       "      <td>0.047763</td>\n",
       "      <td>3102.611544</td>\n",
       "    </tr>\n",
       "    <tr>\n",
       "      <th>mothjer</th>\n",
       "      <td>0.000015</td>\n",
       "      <td>0.044012</td>\n",
       "      <td>2858.901876</td>\n",
       "    </tr>\n",
       "    <tr>\n",
       "      <th>hanibal911you</th>\n",
       "      <td>0.000015</td>\n",
       "      <td>0.037374</td>\n",
       "      <td>2427.723232</td>\n",
       "    </tr>\n",
       "    <tr>\n",
       "      <th>cougar</th>\n",
       "      <td>0.000015</td>\n",
       "      <td>0.032323</td>\n",
       "      <td>2099.652525</td>\n",
       "    </tr>\n",
       "    <tr>\n",
       "      <th>ancestryfuck</th>\n",
       "      <td>0.000015</td>\n",
       "      <td>0.030159</td>\n",
       "      <td>1959.050794</td>\n",
       "    </tr>\n",
       "    <tr>\n",
       "      <th>fggt</th>\n",
       "      <td>0.000015</td>\n",
       "      <td>0.030014</td>\n",
       "      <td>1949.677345</td>\n",
       "    </tr>\n",
       "    <tr>\n",
       "      <th>wanker</th>\n",
       "      <td>0.000062</td>\n",
       "      <td>0.110967</td>\n",
       "      <td>1802.045527</td>\n",
       "    </tr>\n",
       "    <tr>\n",
       "      <th>licker</th>\n",
       "      <td>0.000015</td>\n",
       "      <td>0.027128</td>\n",
       "      <td>1762.208369</td>\n",
       "    </tr>\n",
       "    <tr>\n",
       "      <th>ullmann</th>\n",
       "      <td>0.000015</td>\n",
       "      <td>0.026696</td>\n",
       "      <td>1734.088023</td>\n",
       "    </tr>\n",
       "    <tr>\n",
       "      <th>cocksucking</th>\n",
       "      <td>0.000015</td>\n",
       "      <td>0.026551</td>\n",
       "      <td>1724.714574</td>\n",
       "    </tr>\n",
       "    <tr>\n",
       "      <th>shitfuck</th>\n",
       "      <td>0.000015</td>\n",
       "      <td>0.026407</td>\n",
       "      <td>1715.341126</td>\n",
       "    </tr>\n",
       "    <tr>\n",
       "      <th>bleachanhero</th>\n",
       "      <td>0.000015</td>\n",
       "      <td>0.021501</td>\n",
       "      <td>1396.643867</td>\n",
       "    </tr>\n",
       "    <tr>\n",
       "      <th>bitchmattythewhite</th>\n",
       "      <td>0.000015</td>\n",
       "      <td>0.020202</td>\n",
       "      <td>1312.282828</td>\n",
       "    </tr>\n",
       "    <tr>\n",
       "      <th>yaaa</th>\n",
       "      <td>0.000015</td>\n",
       "      <td>0.018615</td>\n",
       "      <td>1209.174892</td>\n",
       "    </tr>\n",
       "    <tr>\n",
       "      <th>yaaaa</th>\n",
       "      <td>0.000015</td>\n",
       "      <td>0.018615</td>\n",
       "      <td>1209.174892</td>\n",
       "    </tr>\n",
       "    <tr>\n",
       "      <th>haahhahahah</th>\n",
       "      <td>0.000015</td>\n",
       "      <td>0.018615</td>\n",
       "      <td>1209.174892</td>\n",
       "    </tr>\n",
       "    <tr>\n",
       "      <th>bark</th>\n",
       "      <td>0.000123</td>\n",
       "      <td>0.144589</td>\n",
       "      <td>1174.024459</td>\n",
       "    </tr>\n",
       "    <tr>\n",
       "      <th>noobs</th>\n",
       "      <td>0.000062</td>\n",
       "      <td>0.065657</td>\n",
       "      <td>1066.229798</td>\n",
       "    </tr>\n",
       "    <tr>\n",
       "      <th>chula</th>\n",
       "      <td>0.000015</td>\n",
       "      <td>0.015729</td>\n",
       "      <td>1021.705916</td>\n",
       "    </tr>\n",
       "    <tr>\n",
       "      <th>pennnis</th>\n",
       "      <td>0.000015</td>\n",
       "      <td>0.015296</td>\n",
       "      <td>993.585570</td>\n",
       "    </tr>\n",
       "    <tr>\n",
       "      <th>pensnsnniensnsn</th>\n",
       "      <td>0.000015</td>\n",
       "      <td>0.015296</td>\n",
       "      <td>993.585570</td>\n",
       "    </tr>\n",
       "    <tr>\n",
       "      <th>pneis</th>\n",
       "      <td>0.000015</td>\n",
       "      <td>0.015296</td>\n",
       "      <td>993.585570</td>\n",
       "    </tr>\n",
       "    <tr>\n",
       "      <th>notrhbysouthbanof</th>\n",
       "      <td>0.000015</td>\n",
       "      <td>0.014574</td>\n",
       "      <td>946.718326</td>\n",
       "    </tr>\n",
       "    <tr>\n",
       "      <th>cuntbag</th>\n",
       "      <td>0.000015</td>\n",
       "      <td>0.014430</td>\n",
       "      <td>937.344877</td>\n",
       "    </tr>\n",
       "    <tr>\n",
       "      <th>gayfrozen</th>\n",
       "      <td>0.000015</td>\n",
       "      <td>0.013564</td>\n",
       "      <td>881.104185</td>\n",
       "    </tr>\n",
       "    <tr>\n",
       "      <th>nigger</th>\n",
       "      <td>0.000339</td>\n",
       "      <td>0.283838</td>\n",
       "      <td>838.071534</td>\n",
       "    </tr>\n",
       "    <tr>\n",
       "      <th>...</th>\n",
       "      <td>...</td>\n",
       "      <td>...</td>\n",
       "      <td>...</td>\n",
       "    </tr>\n",
       "    <tr>\n",
       "      <th>seven</th>\n",
       "      <td>0.003094</td>\n",
       "      <td>0.000144</td>\n",
       "      <td>0.046634</td>\n",
       "    </tr>\n",
       "    <tr>\n",
       "      <th>speedily</th>\n",
       "      <td>0.006389</td>\n",
       "      <td>0.000289</td>\n",
       "      <td>0.045173</td>\n",
       "    </tr>\n",
       "    <tr>\n",
       "      <th>width</th>\n",
       "      <td>0.009622</td>\n",
       "      <td>0.000433</td>\n",
       "      <td>0.044993</td>\n",
       "    </tr>\n",
       "    <tr>\n",
       "      <th>indicate</th>\n",
       "      <td>0.009699</td>\n",
       "      <td>0.000433</td>\n",
       "      <td>0.044635</td>\n",
       "    </tr>\n",
       "    <tr>\n",
       "      <th>guideline</th>\n",
       "      <td>0.006497</td>\n",
       "      <td>0.000289</td>\n",
       "      <td>0.044424</td>\n",
       "    </tr>\n",
       "    <tr>\n",
       "      <th>introduction</th>\n",
       "      <td>0.006604</td>\n",
       "      <td>0.000289</td>\n",
       "      <td>0.043699</td>\n",
       "    </tr>\n",
       "    <tr>\n",
       "      <th>gfdl</th>\n",
       "      <td>0.003418</td>\n",
       "      <td>0.000144</td>\n",
       "      <td>0.042223</td>\n",
       "    </tr>\n",
       "    <tr>\n",
       "      <th>tests</th>\n",
       "      <td>0.006881</td>\n",
       "      <td>0.000289</td>\n",
       "      <td>0.041939</td>\n",
       "    </tr>\n",
       "    <tr>\n",
       "      <th>unclear</th>\n",
       "      <td>0.003479</td>\n",
       "      <td>0.000144</td>\n",
       "      <td>0.041475</td>\n",
       "    </tr>\n",
       "    <tr>\n",
       "      <th>expand</th>\n",
       "      <td>0.003495</td>\n",
       "      <td>0.000144</td>\n",
       "      <td>0.041293</td>\n",
       "    </tr>\n",
       "    <tr>\n",
       "      <th>altered</th>\n",
       "      <td>0.003510</td>\n",
       "      <td>0.000144</td>\n",
       "      <td>0.041112</td>\n",
       "    </tr>\n",
       "    <tr>\n",
       "      <th>specified</th>\n",
       "      <td>0.003649</td>\n",
       "      <td>0.000144</td>\n",
       "      <td>0.039550</td>\n",
       "    </tr>\n",
       "    <tr>\n",
       "      <th>philippineslong</th>\n",
       "      <td>0.004003</td>\n",
       "      <td>0.000144</td>\n",
       "      <td>0.036052</td>\n",
       "    </tr>\n",
       "    <tr>\n",
       "      <th>07</th>\n",
       "      <td>0.004049</td>\n",
       "      <td>0.000144</td>\n",
       "      <td>0.035640</td>\n",
       "    </tr>\n",
       "    <tr>\n",
       "      <th>db</th>\n",
       "      <td>0.004064</td>\n",
       "      <td>0.000144</td>\n",
       "      <td>0.035505</td>\n",
       "    </tr>\n",
       "    <tr>\n",
       "      <th>criterion</th>\n",
       "      <td>0.004126</td>\n",
       "      <td>0.000144</td>\n",
       "      <td>0.034976</td>\n",
       "    </tr>\n",
       "    <tr>\n",
       "      <th>tildes</th>\n",
       "      <td>0.009468</td>\n",
       "      <td>0.000289</td>\n",
       "      <td>0.030483</td>\n",
       "    </tr>\n",
       "    <tr>\n",
       "      <th>japan</th>\n",
       "      <td>0.004772</td>\n",
       "      <td>0.000144</td>\n",
       "      <td>0.030237</td>\n",
       "    </tr>\n",
       "    <tr>\n",
       "      <th>freezer</th>\n",
       "      <td>0.009545</td>\n",
       "      <td>0.000289</td>\n",
       "      <td>0.030237</td>\n",
       "    </tr>\n",
       "    <tr>\n",
       "      <th>lawdy</th>\n",
       "      <td>0.004818</td>\n",
       "      <td>0.000144</td>\n",
       "      <td>0.029947</td>\n",
       "    </tr>\n",
       "    <tr>\n",
       "      <th>pagedelete</th>\n",
       "      <td>0.004818</td>\n",
       "      <td>0.000144</td>\n",
       "      <td>0.029947</td>\n",
       "    </tr>\n",
       "    <tr>\n",
       "      <th>f5fffa</th>\n",
       "      <td>0.004880</td>\n",
       "      <td>0.000144</td>\n",
       "      <td>0.029569</td>\n",
       "    </tr>\n",
       "    <tr>\n",
       "      <th>experimenting</th>\n",
       "      <td>0.004957</td>\n",
       "      <td>0.000144</td>\n",
       "      <td>0.029110</td>\n",
       "    </tr>\n",
       "    <tr>\n",
       "      <th>deneid</th>\n",
       "      <td>0.005111</td>\n",
       "      <td>0.000144</td>\n",
       "      <td>0.028233</td>\n",
       "    </tr>\n",
       "    <tr>\n",
       "      <th>helpme</th>\n",
       "      <td>0.005265</td>\n",
       "      <td>0.000144</td>\n",
       "      <td>0.027408</td>\n",
       "    </tr>\n",
       "    <tr>\n",
       "      <th>external</th>\n",
       "      <td>0.011577</td>\n",
       "      <td>0.000289</td>\n",
       "      <td>0.024929</td>\n",
       "    </tr>\n",
       "    <tr>\n",
       "      <th>uploading</th>\n",
       "      <td>0.005819</td>\n",
       "      <td>0.000144</td>\n",
       "      <td>0.024797</td>\n",
       "    </tr>\n",
       "    <tr>\n",
       "      <th>tutorial</th>\n",
       "      <td>0.007913</td>\n",
       "      <td>0.000144</td>\n",
       "      <td>0.018236</td>\n",
       "    </tr>\n",
       "    <tr>\n",
       "      <th>pillars</th>\n",
       "      <td>0.008113</td>\n",
       "      <td>0.000144</td>\n",
       "      <td>0.017786</td>\n",
       "    </tr>\n",
       "    <tr>\n",
       "      <th>manual</th>\n",
       "      <td>0.009729</td>\n",
       "      <td>0.000144</td>\n",
       "      <td>0.014831</td>\n",
       "    </tr>\n",
       "  </tbody>\n",
       "</table>\n",
       "<p>117070 rows × 3 columns</p>\n",
       "</div>"
      ],
      "text/plain": [
       "                    Not_toxic     Toxic   spam_ratio\n",
       "token                                               \n",
       "yourselfgo           0.000015  0.089755  5830.285137\n",
       "offfuck              0.000015  0.052092  3383.815007\n",
       "niggas               0.000015  0.049351  3205.719481\n",
       "sexsex               0.000015  0.048052  3121.358442\n",
       "cocksucker           0.000015  0.047763  3102.611544\n",
       "mothjer              0.000015  0.044012  2858.901876\n",
       "hanibal911you        0.000015  0.037374  2427.723232\n",
       "cougar               0.000015  0.032323  2099.652525\n",
       "ancestryfuck         0.000015  0.030159  1959.050794\n",
       "fggt                 0.000015  0.030014  1949.677345\n",
       "wanker               0.000062  0.110967  1802.045527\n",
       "licker               0.000015  0.027128  1762.208369\n",
       "ullmann              0.000015  0.026696  1734.088023\n",
       "cocksucking          0.000015  0.026551  1724.714574\n",
       "shitfuck             0.000015  0.026407  1715.341126\n",
       "bleachanhero         0.000015  0.021501  1396.643867\n",
       "bitchmattythewhite   0.000015  0.020202  1312.282828\n",
       "yaaa                 0.000015  0.018615  1209.174892\n",
       "yaaaa                0.000015  0.018615  1209.174892\n",
       "haahhahahah          0.000015  0.018615  1209.174892\n",
       "bark                 0.000123  0.144589  1174.024459\n",
       "noobs                0.000062  0.065657  1066.229798\n",
       "chula                0.000015  0.015729  1021.705916\n",
       "pennnis              0.000015  0.015296   993.585570\n",
       "pensnsnniensnsn      0.000015  0.015296   993.585570\n",
       "pneis                0.000015  0.015296   993.585570\n",
       "notrhbysouthbanof    0.000015  0.014574   946.718326\n",
       "cuntbag              0.000015  0.014430   937.344877\n",
       "gayfrozen            0.000015  0.013564   881.104185\n",
       "nigger               0.000339  0.283838   838.071534\n",
       "...                       ...       ...          ...\n",
       "seven                0.003094  0.000144     0.046634\n",
       "speedily             0.006389  0.000289     0.045173\n",
       "width                0.009622  0.000433     0.044993\n",
       "indicate             0.009699  0.000433     0.044635\n",
       "guideline            0.006497  0.000289     0.044424\n",
       "introduction         0.006604  0.000289     0.043699\n",
       "gfdl                 0.003418  0.000144     0.042223\n",
       "tests                0.006881  0.000289     0.041939\n",
       "unclear              0.003479  0.000144     0.041475\n",
       "expand               0.003495  0.000144     0.041293\n",
       "altered              0.003510  0.000144     0.041112\n",
       "specified            0.003649  0.000144     0.039550\n",
       "philippineslong      0.004003  0.000144     0.036052\n",
       "07                   0.004049  0.000144     0.035640\n",
       "db                   0.004064  0.000144     0.035505\n",
       "criterion            0.004126  0.000144     0.034976\n",
       "tildes               0.009468  0.000289     0.030483\n",
       "japan                0.004772  0.000144     0.030237\n",
       "freezer              0.009545  0.000289     0.030237\n",
       "lawdy                0.004818  0.000144     0.029947\n",
       "pagedelete           0.004818  0.000144     0.029947\n",
       "f5fffa               0.004880  0.000144     0.029569\n",
       "experimenting        0.004957  0.000144     0.029110\n",
       "deneid               0.005111  0.000144     0.028233\n",
       "helpme               0.005265  0.000144     0.027408\n",
       "external             0.011577  0.000289     0.024929\n",
       "uploading            0.005819  0.000144     0.024797\n",
       "tutorial             0.007913  0.000144     0.018236\n",
       "pillars              0.008113  0.000144     0.017786\n",
       "manual               0.009729  0.000144     0.014831\n",
       "\n",
       "[117070 rows x 3 columns]"
      ]
     },
     "execution_count": 41,
     "metadata": {},
     "output_type": "execute_result"
    }
   ],
   "source": [
    "# examine the DataFrame sorted by spam_ratio\n",
    "tokens.sort_values('spam_ratio', ascending=False)"
   ]
  },
  {
   "cell_type": "markdown",
   "metadata": {},
   "source": [
    "### Using ngram: tuples of words toghther"
   ]
  },
  {
   "cell_type": "code",
   "execution_count": 42,
   "metadata": {},
   "outputs": [
    {
     "name": "stdout",
     "output_type": "stream",
     "text": [
      "CPU times: user 194 ms, sys: 48 ms, total: 242 ms\n",
      "Wall time: 242 ms\n"
     ]
    },
    {
     "data": {
      "text/plain": [
       "0.93615156699912361"
      ]
     },
     "execution_count": 42,
     "metadata": {},
     "output_type": "execute_result"
    }
   ],
   "source": [
    "vec = CountVectorizer(ngram_range=(1, 2))\n",
    "X_train_vec  = vec.fit_transform(X_train)\n",
    "X_train_vec\n",
    "X_test_vec = vec.transform(X_test)\n",
    "X_test_vec\n",
    "from sklearn.naive_bayes import MultinomialNB\n",
    "nb = MultinomialNB()\n",
    "%time nb.fit(X_train_vec, y_train)\n",
    "y_pred_class = nb.predict(X_test_vec)\n",
    "metrics.accuracy_score(y_test, y_pred_class)"
   ]
  },
  {
   "cell_type": "code",
   "execution_count": 43,
   "metadata": {},
   "outputs": [
    {
     "data": {
      "text/plain": [
       "array([[21587,    69],\n",
       "       [ 1461,   846]])"
      ]
     },
     "execution_count": 43,
     "metadata": {},
     "output_type": "execute_result"
    }
   ],
   "source": [
    "metrics.confusion_matrix(y_test, y_pred_class)"
   ]
  }
 ],
 "metadata": {
  "kernelspec": {
   "display_name": "Python 3",
   "language": "python",
   "name": "python3"
  },
  "language_info": {
   "codemirror_mode": {
    "name": "ipython",
    "version": 3
   },
   "file_extension": ".py",
   "mimetype": "text/x-python",
   "name": "python",
   "nbconvert_exporter": "python",
   "pygments_lexer": "ipython3",
   "version": "3.6.3"
  }
 },
 "nbformat": 4,
 "nbformat_minor": 2
}
