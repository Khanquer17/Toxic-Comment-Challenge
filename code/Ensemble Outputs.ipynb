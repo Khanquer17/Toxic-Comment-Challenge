{
 "cells": [
  {
   "cell_type": "code",
   "execution_count": 1,
   "metadata": {
    "collapsed": true
   },
   "outputs": [],
   "source": [
    "import pandas as pd"
   ]
  },
  {
   "cell_type": "code",
   "execution_count": 4,
   "metadata": {
    "collapsed": true
   },
   "outputs": [],
   "source": [
    "toxic = pd.read_csv(\"submission/toxic_lr.csv\")\n",
    "lstm = pd.read_csv(\"submission/Ensemble.csv\")\n",
    "log_binary = pd.read_csv(\"submission/sub_log_binary.csv\")\n",
    "log_chains = pd.read_csv(\"submission/sub_log_chain.csv\")\n",
    "text_blob = pd.read_csv(\"submission/text_blob.csv\")\n",
    "\n",
    "\n",
    "target = ['toxic','severe_toxic','obscene','threat','insult','identity_hate']"
   ]
  },
  {
   "cell_type": "code",
   "execution_count": 5,
   "metadata": {},
   "outputs": [],
   "source": [
    "ann = pd.read_csv('submission/prediction_ann.csv')\n",
    "lr_frnd = pd.read_csv('submission/prediction_frnd.csv')\n",
    "lr = pd.read_csv('submission/prediction_lr.csv')\n",
    "ensem = pd.read_csv('submission/blending.csv')"
   ]
  },
  {
   "cell_type": "code",
   "execution_count": 10,
   "metadata": {
    "collapsed": true
   },
   "outputs": [],
   "source": [
    "submission_combined = pd.read_csv(\"output/sample_submission.csv\")\n",
    "for label in target:\n",
    "    submission_combined[label]= pd.concat([toxic[label],lstm[label],log_binary[label],log_chains[label],text_blob[label],\n",
    "                                          ann[label],lr_frnd[label],lr[label],ensem[label]],\n",
    "                                          axis =1).max(axis =1)"
   ]
  },
  {
   "cell_type": "code",
   "execution_count": 11,
   "metadata": {},
   "outputs": [
    {
     "data": {
      "text/html": [
       "<div>\n",
       "<style>\n",
       "    .dataframe thead tr:only-child th {\n",
       "        text-align: right;\n",
       "    }\n",
       "\n",
       "    .dataframe thead th {\n",
       "        text-align: left;\n",
       "    }\n",
       "\n",
       "    .dataframe tbody tr th {\n",
       "        vertical-align: top;\n",
       "    }\n",
       "</style>\n",
       "<table border=\"1\" class=\"dataframe\">\n",
       "  <thead>\n",
       "    <tr style=\"text-align: right;\">\n",
       "      <th></th>\n",
       "      <th>id</th>\n",
       "      <th>toxic</th>\n",
       "      <th>severe_toxic</th>\n",
       "      <th>obscene</th>\n",
       "      <th>threat</th>\n",
       "      <th>insult</th>\n",
       "      <th>identity_hate</th>\n",
       "    </tr>\n",
       "  </thead>\n",
       "  <tbody>\n",
       "    <tr>\n",
       "      <th>0</th>\n",
       "      <td>00001cee341fdb12</td>\n",
       "      <td>0.999997</td>\n",
       "      <td>0.463398</td>\n",
       "      <td>0.999985</td>\n",
       "      <td>0.085391</td>\n",
       "      <td>0.994413</td>\n",
       "      <td>0.662095</td>\n",
       "    </tr>\n",
       "    <tr>\n",
       "      <th>1</th>\n",
       "      <td>0000247867823ef7</td>\n",
       "      <td>0.017640</td>\n",
       "      <td>0.002732</td>\n",
       "      <td>0.009910</td>\n",
       "      <td>0.002070</td>\n",
       "      <td>0.012078</td>\n",
       "      <td>0.004490</td>\n",
       "    </tr>\n",
       "    <tr>\n",
       "      <th>2</th>\n",
       "      <td>00013b17ad220c46</td>\n",
       "      <td>0.522099</td>\n",
       "      <td>0.037899</td>\n",
       "      <td>0.639222</td>\n",
       "      <td>0.086896</td>\n",
       "      <td>0.722270</td>\n",
       "      <td>0.012759</td>\n",
       "    </tr>\n",
       "    <tr>\n",
       "      <th>3</th>\n",
       "      <td>00017563c3f7919a</td>\n",
       "      <td>0.015216</td>\n",
       "      <td>0.002514</td>\n",
       "      <td>0.009477</td>\n",
       "      <td>0.001834</td>\n",
       "      <td>0.011777</td>\n",
       "      <td>0.003867</td>\n",
       "    </tr>\n",
       "    <tr>\n",
       "      <th>4</th>\n",
       "      <td>00017695ad8997eb</td>\n",
       "      <td>0.074723</td>\n",
       "      <td>0.003396</td>\n",
       "      <td>0.024665</td>\n",
       "      <td>0.002929</td>\n",
       "      <td>0.030315</td>\n",
       "      <td>0.004297</td>\n",
       "    </tr>\n",
       "  </tbody>\n",
       "</table>\n",
       "</div>"
      ],
      "text/plain": [
       "                 id     toxic  severe_toxic   obscene    threat    insult  \\\n",
       "0  00001cee341fdb12  0.999997      0.463398  0.999985  0.085391  0.994413   \n",
       "1  0000247867823ef7  0.017640      0.002732  0.009910  0.002070  0.012078   \n",
       "2  00013b17ad220c46  0.522099      0.037899  0.639222  0.086896  0.722270   \n",
       "3  00017563c3f7919a  0.015216      0.002514  0.009477  0.001834  0.011777   \n",
       "4  00017695ad8997eb  0.074723      0.003396  0.024665  0.002929  0.030315   \n",
       "\n",
       "   identity_hate  \n",
       "0       0.662095  \n",
       "1       0.004490  \n",
       "2       0.012759  \n",
       "3       0.003867  \n",
       "4       0.004297  "
      ]
     },
     "execution_count": 11,
     "metadata": {},
     "output_type": "execute_result"
    }
   ],
   "source": [
    "submission_combined.to_csv('output/8plus_ensemble.csv',index=False)\n",
    "submission_combined.head()"
   ]
  },
  {
   "cell_type": "code",
   "execution_count": 13,
   "metadata": {},
   "outputs": [
    {
     "data": {
      "text/html": [
       "<div>\n",
       "<style>\n",
       "    .dataframe thead tr:only-child th {\n",
       "        text-align: right;\n",
       "    }\n",
       "\n",
       "    .dataframe thead th {\n",
       "        text-align: left;\n",
       "    }\n",
       "\n",
       "    .dataframe tbody tr th {\n",
       "        vertical-align: top;\n",
       "    }\n",
       "</style>\n",
       "<table border=\"1\" class=\"dataframe\">\n",
       "  <thead>\n",
       "    <tr style=\"text-align: right;\">\n",
       "      <th></th>\n",
       "      <th>id</th>\n",
       "      <th>toxic</th>\n",
       "      <th>severe_toxic</th>\n",
       "      <th>obscene</th>\n",
       "      <th>threat</th>\n",
       "      <th>insult</th>\n",
       "      <th>identity_hate</th>\n",
       "    </tr>\n",
       "  </thead>\n",
       "  <tbody>\n",
       "    <tr>\n",
       "      <th>0</th>\n",
       "      <td>00001cee341fdb12</td>\n",
       "      <td>0.969533</td>\n",
       "      <td>0.425509</td>\n",
       "      <td>0.959153</td>\n",
       "      <td>0.076376</td>\n",
       "      <td>0.957986</td>\n",
       "      <td>0.614149</td>\n",
       "    </tr>\n",
       "    <tr>\n",
       "      <th>1</th>\n",
       "      <td>0000247867823ef7</td>\n",
       "      <td>0.002712</td>\n",
       "      <td>0.001431</td>\n",
       "      <td>0.001729</td>\n",
       "      <td>0.000295</td>\n",
       "      <td>0.002937</td>\n",
       "      <td>0.001094</td>\n",
       "    </tr>\n",
       "    <tr>\n",
       "      <th>2</th>\n",
       "      <td>00013b17ad220c46</td>\n",
       "      <td>0.009929</td>\n",
       "      <td>0.002142</td>\n",
       "      <td>0.005189</td>\n",
       "      <td>0.000325</td>\n",
       "      <td>0.006509</td>\n",
       "      <td>0.001120</td>\n",
       "    </tr>\n",
       "    <tr>\n",
       "      <th>3</th>\n",
       "      <td>00017563c3f7919a</td>\n",
       "      <td>0.001997</td>\n",
       "      <td>0.001905</td>\n",
       "      <td>0.000987</td>\n",
       "      <td>0.000234</td>\n",
       "      <td>0.000955</td>\n",
       "      <td>0.000134</td>\n",
       "    </tr>\n",
       "    <tr>\n",
       "      <th>4</th>\n",
       "      <td>00017695ad8997eb</td>\n",
       "      <td>0.017264</td>\n",
       "      <td>0.001287</td>\n",
       "      <td>0.001297</td>\n",
       "      <td>0.000543</td>\n",
       "      <td>0.007375</td>\n",
       "      <td>0.000507</td>\n",
       "    </tr>\n",
       "  </tbody>\n",
       "</table>\n",
       "</div>"
      ],
      "text/plain": [
       "                 id     toxic  severe_toxic   obscene    threat    insult  \\\n",
       "0  00001cee341fdb12  0.969533      0.425509  0.959153  0.076376  0.957986   \n",
       "1  0000247867823ef7  0.002712      0.001431  0.001729  0.000295  0.002937   \n",
       "2  00013b17ad220c46  0.009929      0.002142  0.005189  0.000325  0.006509   \n",
       "3  00017563c3f7919a  0.001997      0.001905  0.000987  0.000234  0.000955   \n",
       "4  00017695ad8997eb  0.017264      0.001287  0.001297  0.000543  0.007375   \n",
       "\n",
       "   identity_hate  \n",
       "0       0.614149  \n",
       "1       0.001094  \n",
       "2       0.001120  \n",
       "3       0.000134  \n",
       "4       0.000507  "
      ]
     },
     "execution_count": 13,
     "metadata": {},
     "output_type": "execute_result"
    }
   ],
   "source": [
    "ensem.head()"
   ]
  },
  {
   "cell_type": "code",
   "execution_count": null,
   "metadata": {
    "collapsed": true
   },
   "outputs": [],
   "source": []
  }
 ],
 "metadata": {
  "kernelspec": {
   "display_name": "Python [conda root]",
   "language": "python",
   "name": "conda-root-py"
  },
  "language_info": {
   "codemirror_mode": {
    "name": "ipython",
    "version": 3
   },
   "file_extension": ".py",
   "mimetype": "text/x-python",
   "name": "python",
   "nbconvert_exporter": "python",
   "pygments_lexer": "ipython3",
   "version": "3.6.3"
  }
 },
 "nbformat": 4,
 "nbformat_minor": 2
}
