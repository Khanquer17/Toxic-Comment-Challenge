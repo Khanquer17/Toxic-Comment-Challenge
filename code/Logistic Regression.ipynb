{
 "cells": [
  {
   "cell_type": "markdown",
   "metadata": {},
   "source": [
    "# Ensemble: Logistic Regresion\n",
    "### In this workbook, we will use multiple models of Logistic Regression to get predcitions on which various ensemble methods can be used. we would not do "
   ]
  },
  {
   "cell_type": "code",
   "execution_count": 1,
   "metadata": {
    "collapsed": true
   },
   "outputs": [],
   "source": [
    "import numpy as np\n",
    "import pandas as pd\n",
    "from matplotlib import pyplot as plt\n",
    "%matplotlib inline\n",
    "import seaborn as sns\n",
    "import re"
   ]
  },
  {
   "cell_type": "code",
   "execution_count": 2,
   "metadata": {},
   "outputs": [
    {
     "data": {
      "text/html": [
       "\n",
       "<style>\n",
       ".output_png {\n",
       "    display: table-cell;\n",
       "    text-align: center;\n",
       "    vertical-align: middle;\n",
       "}\n",
       "</style>\n"
      ],
      "text/plain": [
       "<IPython.core.display.HTML object>"
      ]
     },
     "execution_count": 2,
     "metadata": {},
     "output_type": "execute_result"
    }
   ],
   "source": [
    "from IPython.core.display import HTML\n",
    "HTML(\"\"\"\n",
    "<style>\n",
    ".output_png {\n",
    "    display: table-cell;\n",
    "    text-align: center;\n",
    "    vertical-align: middle;\n",
    "}\n",
    "</style>\n",
    "\"\"\")"
   ]
  },
  {
   "cell_type": "code",
   "execution_count": 3,
   "metadata": {
    "collapsed": true
   },
   "outputs": [],
   "source": [
    "train_df = pd.read_csv(\"data/Train.csv\")\n",
    "test_df = pd.read_csv(\"data/test.csv\")"
   ]
  },
  {
   "cell_type": "code",
   "execution_count": 4,
   "metadata": {},
   "outputs": [
    {
     "data": {
      "text/plain": [
       "<matplotlib.axes._subplots.AxesSubplot at 0x112fe60b8>"
      ]
     },
     "execution_count": 4,
     "metadata": {},
     "output_type": "execute_result"
    },
    {
     "data": {
      "image/png": "[encoded data removed]",
      "text/plain": [
       "<matplotlib.figure.Figure at 0x1a1ea00048>"
      ]
     },
     "metadata": {},
     "output_type": "display_data"
    }
   ],
   "source": [
    "fig,ax = plt.subplots(2,3,figsize=(16,10))\n",
    "ax1,ax2,ax3,ax4,ax5,ax6 = ax.flatten()\n",
    "sns.countplot(train_df['toxic'],palette= 'viridis',ax=ax1)\n",
    "sns.countplot(train_df['severe_toxic'], palette= 'viridis',ax=ax2)\n",
    "sns.countplot(train_df['obscene'], palette= 'viridis',ax=ax3)\n",
    "sns.countplot(train_df['threat'], palette= 'viridis',ax = ax4)\n",
    "sns.countplot(train_df['insult'], palette = 'viridis',ax=ax5)\n",
    "sns.countplot(train_df['identity_hate'], palette = 'viridis', ax = ax6)"
   ]
  },
  {
   "cell_type": "code",
   "execution_count": 5,
   "metadata": {
    "collapsed": true
   },
   "outputs": [],
   "source": [
    "target = ['toxic','severe_toxic','obscene','threat','insult','identity_hate']"
   ]
  },
  {
   "cell_type": "code",
   "execution_count": 6,
   "metadata": {},
   "outputs": [
    {
     "name": "stdout",
     "output_type": "stream",
     "text": [
      "Base Accuracy for Each Label\n",
      "toxic: 90.41555169799024\n",
      "severe_toxic: 99.00044494300343\n",
      "obscene: 94.7051782592075\n",
      "threat: 99.70044682304429\n",
      "insult: 95.06363938309592\n",
      "identity_hate: 99.11951419744189\n",
      "__________________________________________________\n",
      "[90.415551697990239, 99.00044494300343, 94.7051782592075, 99.700446823044288, 95.063639383095918, 99.119514197441887]\n"
     ]
    }
   ],
   "source": [
    "#[x for x in target train_df[x].sum()/len(train_df)]\n",
    "\n",
    "base_accuracy = []\n",
    "print(\"Base Accuracy for Each Label\")\n",
    "for i in target:\n",
    "    base_acc = ((train_df[i] == 0).sum()/len(train_df[i]))*100\n",
    "    print(i+':' ,format(base_acc))\n",
    "    base_accuracy.append(base_acc)\n",
    "print(50*'_')\n",
    "print(base_accuracy)"
   ]
  },
  {
   "cell_type": "markdown",
   "metadata": {
    "collapsed": true
   },
   "source": [
    "### Text pre-processing"
   ]
  },
  {
   "cell_type": "code",
   "execution_count": 7,
   "metadata": {
    "collapsed": true
   },
   "outputs": [],
   "source": [
    "def clean_text(text):\n",
    "    text = text.lower()\n",
    "    text = re.sub(r\"what's\", \"what is \", text)\n",
    "    text = re.sub(r\"\\'s\", \" \", text)\n",
    "    text = re.sub(r\"\\'ve\", \" have \", text)\n",
    "    text = re.sub(r\"can't\", \"cannot \", text)\n",
    "    text = re.sub(r\"n't\", \" not \", text)\n",
    "    text = re.sub(r\"i'm\", \"i am \", text)\n",
    "    text = re.sub(r\"\\'re\", \" are \", text)\n",
    "    text = re.sub(r\"\\'d\", \" would \", text)\n",
    "    text = re.sub(r\"\\'ll\", \" will \", text)\n",
    "    text = re.sub(r\"\\'scuse\", \" excuse \", text)\n",
    "    text = re.sub('\\W', ' ', text)\n",
    "    text = re.sub('\\s+', ' ', text)\n",
    "    text = text.strip(' ')\n",
    "    return text"
   ]
  },
  {
   "cell_type": "code",
   "execution_count": 8,
   "metadata": {
    "collapsed": true
   },
   "outputs": [],
   "source": [
    "# clean the comment_text in train_df\n",
    "cleaned_train_comment = []\n",
    "for i in range(0,len(train_df)):\n",
    "    cleaned_comment = clean_text(train_df['comment_text'][i])\n",
    "    cleaned_train_comment.append(cleaned_comment)\n",
    "train_df['comment_text'] = pd.Series(cleaned_train_comment).astype(str)"
   ]
  },
  {
   "cell_type": "code",
   "execution_count": 9,
   "metadata": {
    "collapsed": true
   },
   "outputs": [],
   "source": [
    "## Test set\n",
    "cleaned_test_comment = []\n",
    "for i in range(0,len(test_df)):\n",
    "    cleaned_comment = clean_text(test_df['comment_text'][i])\n",
    "    cleaned_test_comment.append(cleaned_comment)\n",
    "test_df['comment_text'] = pd.Series(cleaned_test_comment).astype(str)"
   ]
  },
  {
   "cell_type": "code",
   "execution_count": 10,
   "metadata": {
    "collapsed": true
   },
   "outputs": [],
   "source": [
    "X = train_df.comment_text\n",
    "test_X = test_df.comment_text"
   ]
  },
  {
   "cell_type": "code",
   "execution_count": 11,
   "metadata": {},
   "outputs": [
    {
     "data": {
      "text/plain": [
       "TfidfVectorizer(analyzer='word', binary=False, decode_error='strict',\n",
       "        dtype=<class 'numpy.int64'>, encoding='utf-8', input='content',\n",
       "        lowercase=True, max_df=1.0, max_features=40000, min_df=1,\n",
       "        ngram_range=(1, 1), norm='l2', preprocessor=None, smooth_idf=True,\n",
       "        stop_words='english', strip_accents=None, sublinear_tf=False,\n",
       "        token_pattern='(?u)\\\\b\\\\w\\\\w+\\\\b', tokenizer=None, use_idf=True,\n",
       "        vocabulary=None)"
      ]
     },
     "execution_count": 11,
     "metadata": {},
     "output_type": "execute_result"
    }
   ],
   "source": [
    "from sklearn.feature_extraction.text import CountVectorizer\n",
    "from sklearn.feature_extraction.text import TfidfVectorizer\n",
    "vect = TfidfVectorizer(max_features=40000,stop_words='english')\n",
    "vect"
   ]
  },
  {
   "cell_type": "code",
   "execution_count": 12,
   "metadata": {},
   "outputs": [
    {
     "data": {
      "text/plain": [
       "<159571x40000 sparse matrix of type '<class 'numpy.float64'>'\n",
       "\twith 3813245 stored elements in Compressed Sparse Row format>"
      ]
     },
     "execution_count": 12,
     "metadata": {},
     "output_type": "execute_result"
    }
   ],
   "source": [
    "# learn the vocabulary in the training data, then use it to create a document-term matrix\n",
    "X_dtm = vect.fit_transform(X)\n",
    "# examine the document-term matrix created from X_train\n",
    "X_dtm"
   ]
  },
  {
   "cell_type": "code",
   "execution_count": 13,
   "metadata": {},
   "outputs": [
    {
     "data": {
      "text/plain": [
       "<153164x40000 sparse matrix of type '<class 'numpy.float64'>'\n",
       "\twith 3168492 stored elements in Compressed Sparse Row format>"
      ]
     },
     "execution_count": 13,
     "metadata": {},
     "output_type": "execute_result"
    }
   ],
   "source": [
    "test_X_dtm = vect.transform(test_X)\n",
    "# examine the document-term matrix from X_test\n",
    "test_X_dtm"
   ]
  },
  {
   "cell_type": "markdown",
   "metadata": {},
   "source": [
    "Binary Relevance - build a multi-label classifier using Logistic Regression"
   ]
  },
  {
   "cell_type": "code",
   "execution_count": 14,
   "metadata": {},
   "outputs": [
    {
     "name": "stdout",
     "output_type": "stream",
     "text": [
      "... Processing toxic\n",
      "toxic is:  90.415551698\n",
      "Training accuracy is         97.89811431901786\n",
      "Increase from Base accuracy is 7.4825626210276255\n",
      "\n",
      "__________________________________________________\n",
      "... Processing severe_toxic\n",
      "severe_toxic is:  99.000444943\n",
      "Training accuracy is         99.41092053067287\n",
      "Increase from Base accuracy is 0.41047558766943837\n",
      "\n",
      "__________________________________________________\n",
      "... Processing obscene\n",
      "obscene is:  94.7051782592\n",
      "Training accuracy is         98.99229809927868\n",
      "Increase from Base accuracy is 4.287119840071185\n",
      "\n",
      "__________________________________________________\n",
      "... Processing threat\n",
      "threat is:  99.700446823\n",
      "Training accuracy is         99.87027718069072\n",
      "Increase from Base accuracy is 0.16983035764643262\n",
      "\n",
      "__________________________________________________\n",
      "... Processing insult\n",
      "insult is:  95.0636393831\n",
      "Training accuracy is         98.46275325717079\n",
      "Increase from Base accuracy is 3.399113874074871\n",
      "\n",
      "__________________________________________________\n",
      "... Processing identity_hate\n",
      "identity_hate is:  99.1195141974\n",
      "Training accuracy is         99.60205801806093\n",
      "Increase from Base accuracy is 0.48254382061904266\n",
      "\n",
      "__________________________________________________\n"
     ]
    }
   ],
   "source": [
    "#import and instantiate the Logistic Regression model\n",
    "from sklearn.linear_model import LogisticRegression\n",
    "from sklearn.metrics import accuracy_score\n",
    "logreg = LogisticRegression(C=12.0)\n",
    "\n",
    "# create submission file\n",
    "submission_binary = pd.read_csv(\"output/sample_submission.csv\")\n",
    "\n",
    "change_acc_bin = []\n",
    "for i,label in enumerate(target):\n",
    "    print('... Processing {}'.format(label))\n",
    "    print(label+\" is: \",base_accuracy[i])\n",
    "    y = train_df[label]\n",
    "    # train the model using X_dtm & y\n",
    "    logreg.fit(X_dtm, y)\n",
    "    # compute the training accuracy\n",
    "    y_pred_X = logreg.predict(X_dtm)\n",
    "    print('Training accuracy is         {}'.format(accuracy_score(y, y_pred_X)*100))\n",
    "    print(\"Increase from Base accuracy is {}\".format(accuracy_score(y, y_pred_X)*100 - base_accuracy[i]))\n",
    "    change_acc_bin.append(accuracy_score(y, y_pred_X)*100 - base_accuracy[i])\n",
    "    print(\"\")\n",
    "    print(50*'_')\n",
    "    # compute the predicted probabilities for X_test_dtm\n",
    "    test_y_prob = logreg.predict_proba(test_X_dtm)[:,1]\n",
    "    submission_binary[label] = test_y_prob\n"
   ]
  },
  {
   "cell_type": "code",
   "execution_count": 15,
   "metadata": {},
   "outputs": [
    {
     "data": {
      "image/png": "[encoded data removed]",
      "text/plain": [
       "<matplotlib.figure.Figure at 0x112fbf5c0>"
      ]
     },
     "metadata": {},
     "output_type": "display_data"
    }
   ],
   "source": [
    "plt.bar(target,change_acc_bin)\n",
    "plt.ylabel(\"% Increase in Accuracy from base line\")\n",
    "plt.xlabel(\"Labels\")\n",
    "plt.gcf().set_size_inches(10,4)\n",
    "plt.tick_params(labelsize=13)\n",
    "plt.show()"
   ]
  },
  {
   "cell_type": "markdown",
   "metadata": {},
   "source": [
    "#### We see an that our model has predictive capability as we see that there is increase in accuracy "
   ]
  },
  {
   "cell_type": "code",
   "execution_count": null,
   "metadata": {
    "collapsed": true
   },
   "outputs": [],
   "source": []
  },
  {
   "cell_type": "markdown",
   "metadata": {},
   "source": [
    "## Classifier Chains"
   ]
  },
  {
   "cell_type": "code",
   "execution_count": 16,
   "metadata": {
    "collapsed": true
   },
   "outputs": [],
   "source": [
    "# create submission file\n",
    "submission_chains = pd.read_csv('output/sample_submission.csv')\n",
    "\n",
    "# create a function to add features\n",
    "def add_feature(X, feature_to_add):\n",
    "    '''\n",
    "    Returns sparse feature matrix with added feature.\n",
    "    feature_to_add can also be a list of features.\n",
    "    '''\n",
    "    from scipy.sparse import csr_matrix, hstack\n",
    "    return hstack([X, csr_matrix(feature_to_add).T], 'csr')"
   ]
  },
  {
   "cell_type": "code",
   "execution_count": 17,
   "metadata": {},
   "outputs": [
    {
     "name": "stdout",
     "output_type": "stream",
     "text": [
      "... Processing toxic\n",
      "Base Accuracy for toxic is:  90.415551698\n",
      "Training Accuracy is 97.89811431901786\n",
      "Increase from Base accuracy is 7.4825626210276255\n",
      "\n",
      "Shape of X_dtm is now (159571, 40001)\n",
      "Shape of test_X_dtm is now (153164, 40001)\n",
      "\n",
      "__________________________________________________\n",
      "... Processing severe_toxic\n",
      "Base Accuracy for severe_toxic is:  99.000444943\n",
      "Training Accuracy is 99.5149494582349\n",
      "Increase from Base accuracy is 0.5145045152314651\n",
      "\n",
      "Shape of X_dtm is now (159571, 40002)\n",
      "Shape of test_X_dtm is now (153164, 40002)\n",
      "\n",
      "__________________________________________________\n",
      "... Processing obscene\n",
      "Base Accuracy for obscene is:  94.7051782592\n",
      "Training Accuracy is 99.15586165405995\n",
      "Increase from Base accuracy is 4.450683394852447\n",
      "\n",
      "Shape of X_dtm is now (159571, 40003)\n",
      "Shape of test_X_dtm is now (153164, 40003)\n",
      "\n",
      "__________________________________________________\n",
      "... Processing threat\n",
      "Base Accuracy for threat is:  99.700446823\n",
      "Training Accuracy is 99.90098451473011\n",
      "Increase from Base accuracy is 0.20053769168582392\n",
      "\n",
      "Shape of X_dtm is now (159571, 40004)\n",
      "Shape of test_X_dtm is now (153164, 40004)\n",
      "\n",
      "__________________________________________________\n",
      "... Processing insult\n",
      "Base Accuracy for insult is:  95.0636393831\n",
      "Training Accuracy is 98.95595064266062\n",
      "Increase from Base accuracy is 3.892311259564707\n",
      "\n",
      "Shape of X_dtm is now (159571, 40005)\n",
      "Shape of test_X_dtm is now (153164, 40005)\n",
      "\n",
      "__________________________________________________\n",
      "... Processing identity_hate\n",
      "Base Accuracy for identity_hate is:  99.1195141974\n",
      "Training Accuracy is 99.73679427966235\n",
      "Increase from Base accuracy is 0.6172800822204607\n",
      "\n",
      "Shape of X_dtm is now (159571, 40006)\n",
      "Shape of test_X_dtm is now (153164, 40006)\n",
      "\n",
      "__________________________________________________\n"
     ]
    }
   ],
   "source": [
    "change_acc_chain = []\n",
    "for i,label in enumerate(target):\n",
    "    print('... Processing {}'.format(label))\n",
    "    print(\"Base Accuracy for \"+label+\" is: \",base_accuracy[i])\n",
    "    \n",
    "    y = train_df[label]\n",
    "    \n",
    "    # train the model using X_dtm & y\n",
    "    logreg.fit(X_dtm,y)\n",
    "    \n",
    "    # compute the training accuracy\n",
    "    y_pred_X = logreg.predict(X_dtm)\n",
    "    print('Training Accuracy is {}'.format(accuracy_score(y,y_pred_X)*100))\n",
    "    print(\"Increase from Base accuracy is {}\".format(accuracy_score(y, y_pred_X)*100 - base_accuracy[i]))\n",
    "    change_acc_chain.append(accuracy_score(y, y_pred_X)*100 - base_accuracy[i])\n",
    "    print(\"\")\n",
    "    # make predictions from test_X\n",
    "    test_y = logreg.predict(test_X_dtm)\n",
    "    test_y_prob = logreg.predict_proba(test_X_dtm)[:,1]\n",
    "    submission_chains[label] = test_y_prob\n",
    "    \n",
    "    # chain current label to X_dtm\n",
    "    X_dtm = add_feature(X_dtm, y)\n",
    "    print('Shape of X_dtm is now {}'.format(X_dtm.shape))\n",
    "    \n",
    "    # chain current label predictions to test_X_dtm\n",
    "    test_X_dtm = add_feature(test_X_dtm, test_y)\n",
    "    print('Shape of test_X_dtm is now {}'.format(test_X_dtm.shape))\n",
    "    print('')\n",
    "    print(50*'_')"
   ]
  },
  {
   "cell_type": "code",
   "execution_count": 18,
   "metadata": {},
   "outputs": [
    {
     "data": {
      "image/png": "[encoded data removed]",
      "text/plain": [
       "<matplotlib.figure.Figure at 0x1a281b14a8>"
      ]
     },
     "metadata": {},
     "output_type": "display_data"
    }
   ],
   "source": [
    "# create plot\n",
    "fig, ax = plt.subplots()\n",
    "index = np.arange(len(target))\n",
    "bar_width = 0.35\n",
    "opacity = 0.8\n",
    " \n",
    "rects1 = plt.bar(index, change_acc_bin, bar_width,\n",
    "                 alpha=opacity,\n",
    "                 color='b',\n",
    "                 label='Binary')\n",
    " \n",
    "rects2 = plt.bar(index + bar_width, change_acc_chain, bar_width,\n",
    "                 alpha=opacity,\n",
    "                 color='g',\n",
    "                 label='Chains')\n",
    " \n",
    "plt.ylabel('% Change')\n",
    "plt.title('% Change in Accuracy')\n",
    "plt.xticks(index + bar_width, ('toxic','severe_toxic','obscene','threat','insult','identity_hate'))\n",
    "plt.legend()\n",
    "plt.gcf().set_size_inches(13,7)\n",
    "plt.tick_params(labelsize=15) \n",
    "plt.show()"
   ]
  },
  {
   "cell_type": "code",
   "execution_count": null,
   "metadata": {
    "collapsed": true
   },
   "outputs": [],
   "source": []
  },
  {
   "cell_type": "markdown",
   "metadata": {},
   "source": [
    "Let's use Feature's generated using Text blob"
   ]
  },
  {
   "cell_type": "code",
   "execution_count": 19,
   "metadata": {
    "collapsed": true
   },
   "outputs": [],
   "source": [
    "train_df_pol = pd.read_csv(\"Data/train_blob.csv\")\n",
    "test_df_pol = pd.read_csv('Data/test_blob.csv')"
   ]
  },
  {
   "cell_type": "code",
   "execution_count": 20,
   "metadata": {},
   "outputs": [
    {
     "data": {
      "text/html": [
       "<div>\n",
       "<style>\n",
       "    .dataframe thead tr:only-child th {\n",
       "        text-align: right;\n",
       "    }\n",
       "\n",
       "    .dataframe thead th {\n",
       "        text-align: left;\n",
       "    }\n",
       "\n",
       "    .dataframe tbody tr th {\n",
       "        vertical-align: top;\n",
       "    }\n",
       "</style>\n",
       "<table border=\"1\" class=\"dataframe\">\n",
       "  <thead>\n",
       "    <tr style=\"text-align: right;\">\n",
       "      <th></th>\n",
       "      <th>id</th>\n",
       "      <th>comment_text</th>\n",
       "      <th>toxic</th>\n",
       "      <th>severe_toxic</th>\n",
       "      <th>obscene</th>\n",
       "      <th>threat</th>\n",
       "      <th>insult</th>\n",
       "      <th>identity_hate</th>\n",
       "      <th>polarity</th>\n",
       "    </tr>\n",
       "  </thead>\n",
       "  <tbody>\n",
       "    <tr>\n",
       "      <th>0</th>\n",
       "      <td>0000997932d777bf</td>\n",
       "      <td>Explanation\\nWhy the edits made under my usern...</td>\n",
       "      <td>0</td>\n",
       "      <td>0</td>\n",
       "      <td>0</td>\n",
       "      <td>0</td>\n",
       "      <td>0</td>\n",
       "      <td>0</td>\n",
       "      <td>1</td>\n",
       "    </tr>\n",
       "    <tr>\n",
       "      <th>1</th>\n",
       "      <td>000103f0d9cfb60f</td>\n",
       "      <td>D'aww! He matches this background colour I'm s...</td>\n",
       "      <td>0</td>\n",
       "      <td>0</td>\n",
       "      <td>0</td>\n",
       "      <td>0</td>\n",
       "      <td>0</td>\n",
       "      <td>0</td>\n",
       "      <td>2</td>\n",
       "    </tr>\n",
       "    <tr>\n",
       "      <th>2</th>\n",
       "      <td>000113f07ec002fd</td>\n",
       "      <td>Hey man, I'm really not trying to edit war. It...</td>\n",
       "      <td>0</td>\n",
       "      <td>0</td>\n",
       "      <td>0</td>\n",
       "      <td>0</td>\n",
       "      <td>0</td>\n",
       "      <td>0</td>\n",
       "      <td>1</td>\n",
       "    </tr>\n",
       "    <tr>\n",
       "      <th>3</th>\n",
       "      <td>0001b41b1c6bb37e</td>\n",
       "      <td>\"\\nMore\\nI can't make any real suggestions on ...</td>\n",
       "      <td>0</td>\n",
       "      <td>0</td>\n",
       "      <td>0</td>\n",
       "      <td>0</td>\n",
       "      <td>0</td>\n",
       "      <td>0</td>\n",
       "      <td>2</td>\n",
       "    </tr>\n",
       "    <tr>\n",
       "      <th>4</th>\n",
       "      <td>0001d958c54c6e35</td>\n",
       "      <td>You, sir, are my hero. Any chance you remember...</td>\n",
       "      <td>0</td>\n",
       "      <td>0</td>\n",
       "      <td>0</td>\n",
       "      <td>0</td>\n",
       "      <td>0</td>\n",
       "      <td>0</td>\n",
       "      <td>0</td>\n",
       "    </tr>\n",
       "    <tr>\n",
       "      <th>5</th>\n",
       "      <td>00025465d4725e87</td>\n",
       "      <td>\"\\n\\nCongratulations from me as well, use the ...</td>\n",
       "      <td>0</td>\n",
       "      <td>0</td>\n",
       "      <td>0</td>\n",
       "      <td>0</td>\n",
       "      <td>0</td>\n",
       "      <td>0</td>\n",
       "      <td>0</td>\n",
       "    </tr>\n",
       "    <tr>\n",
       "      <th>6</th>\n",
       "      <td>0002bcb3da6cb337</td>\n",
       "      <td>COCKSUCKER BEFORE YOU PISS AROUND ON MY WORK</td>\n",
       "      <td>1</td>\n",
       "      <td>1</td>\n",
       "      <td>1</td>\n",
       "      <td>0</td>\n",
       "      <td>1</td>\n",
       "      <td>0</td>\n",
       "      <td>0</td>\n",
       "    </tr>\n",
       "    <tr>\n",
       "      <th>7</th>\n",
       "      <td>00031b1e95af7921</td>\n",
       "      <td>Your vandalism to the Matt Shirvington article...</td>\n",
       "      <td>0</td>\n",
       "      <td>0</td>\n",
       "      <td>0</td>\n",
       "      <td>0</td>\n",
       "      <td>0</td>\n",
       "      <td>0</td>\n",
       "      <td>0</td>\n",
       "    </tr>\n",
       "    <tr>\n",
       "      <th>8</th>\n",
       "      <td>00037261f536c51d</td>\n",
       "      <td>Sorry if the word 'nonsense' was offensive to ...</td>\n",
       "      <td>0</td>\n",
       "      <td>0</td>\n",
       "      <td>0</td>\n",
       "      <td>0</td>\n",
       "      <td>0</td>\n",
       "      <td>0</td>\n",
       "      <td>-1</td>\n",
       "    </tr>\n",
       "    <tr>\n",
       "      <th>9</th>\n",
       "      <td>00040093b2687caa</td>\n",
       "      <td>alignment on this subject and which are contra...</td>\n",
       "      <td>0</td>\n",
       "      <td>0</td>\n",
       "      <td>0</td>\n",
       "      <td>0</td>\n",
       "      <td>0</td>\n",
       "      <td>0</td>\n",
       "      <td>-1</td>\n",
       "    </tr>\n",
       "    <tr>\n",
       "      <th>10</th>\n",
       "      <td>0005300084f90edc</td>\n",
       "      <td>\"\\nFair use rationale for Image:Wonju.jpg\\n\\nT...</td>\n",
       "      <td>0</td>\n",
       "      <td>0</td>\n",
       "      <td>0</td>\n",
       "      <td>0</td>\n",
       "      <td>0</td>\n",
       "      <td>0</td>\n",
       "      <td>2</td>\n",
       "    </tr>\n",
       "    <tr>\n",
       "      <th>11</th>\n",
       "      <td>00054a5e18b50dd4</td>\n",
       "      <td>bbq \\n\\nbe a man and lets discuss it-maybe ove...</td>\n",
       "      <td>0</td>\n",
       "      <td>0</td>\n",
       "      <td>0</td>\n",
       "      <td>0</td>\n",
       "      <td>0</td>\n",
       "      <td>0</td>\n",
       "      <td>0</td>\n",
       "    </tr>\n",
       "    <tr>\n",
       "      <th>12</th>\n",
       "      <td>0005c987bdfc9d4b</td>\n",
       "      <td>Hey... what is it..\\n@ | talk .\\nWhat is it......</td>\n",
       "      <td>1</td>\n",
       "      <td>0</td>\n",
       "      <td>0</td>\n",
       "      <td>0</td>\n",
       "      <td>0</td>\n",
       "      <td>0</td>\n",
       "      <td>0</td>\n",
       "    </tr>\n",
       "    <tr>\n",
       "      <th>13</th>\n",
       "      <td>0006f16e4e9f292e</td>\n",
       "      <td>Before you start throwing accusations and warn...</td>\n",
       "      <td>0</td>\n",
       "      <td>0</td>\n",
       "      <td>0</td>\n",
       "      <td>0</td>\n",
       "      <td>0</td>\n",
       "      <td>0</td>\n",
       "      <td>1</td>\n",
       "    </tr>\n",
       "    <tr>\n",
       "      <th>14</th>\n",
       "      <td>00070ef96486d6f9</td>\n",
       "      <td>Oh, and the girl above started her arguments w...</td>\n",
       "      <td>0</td>\n",
       "      <td>0</td>\n",
       "      <td>0</td>\n",
       "      <td>0</td>\n",
       "      <td>0</td>\n",
       "      <td>0</td>\n",
       "      <td>1</td>\n",
       "    </tr>\n",
       "    <tr>\n",
       "      <th>15</th>\n",
       "      <td>00078f8ce7eb276d</td>\n",
       "      <td>\"\\n\\nJuelz Santanas Age\\n\\nIn 2002, Juelz Sant...</td>\n",
       "      <td>0</td>\n",
       "      <td>0</td>\n",
       "      <td>0</td>\n",
       "      <td>0</td>\n",
       "      <td>0</td>\n",
       "      <td>0</td>\n",
       "      <td>1</td>\n",
       "    </tr>\n",
       "    <tr>\n",
       "      <th>16</th>\n",
       "      <td>0007e25b2121310b</td>\n",
       "      <td>Bye! \\n\\nDon't look, come or think of comming ...</td>\n",
       "      <td>1</td>\n",
       "      <td>0</td>\n",
       "      <td>0</td>\n",
       "      <td>0</td>\n",
       "      <td>0</td>\n",
       "      <td>0</td>\n",
       "      <td>0</td>\n",
       "    </tr>\n",
       "    <tr>\n",
       "      <th>17</th>\n",
       "      <td>000897889268bc93</td>\n",
       "      <td>REDIRECT Talk:Voydan Pop Georgiev- Chernodrinski</td>\n",
       "      <td>0</td>\n",
       "      <td>0</td>\n",
       "      <td>0</td>\n",
       "      <td>0</td>\n",
       "      <td>0</td>\n",
       "      <td>0</td>\n",
       "      <td>0</td>\n",
       "    </tr>\n",
       "    <tr>\n",
       "      <th>18</th>\n",
       "      <td>0009801bd85e5806</td>\n",
       "      <td>The Mitsurugi point made no sense - why not ar...</td>\n",
       "      <td>0</td>\n",
       "      <td>0</td>\n",
       "      <td>0</td>\n",
       "      <td>0</td>\n",
       "      <td>0</td>\n",
       "      <td>0</td>\n",
       "      <td>5</td>\n",
       "    </tr>\n",
       "    <tr>\n",
       "      <th>19</th>\n",
       "      <td>0009eaea3325de8c</td>\n",
       "      <td>Don't mean to bother you \\n\\nI see that you're...</td>\n",
       "      <td>0</td>\n",
       "      <td>0</td>\n",
       "      <td>0</td>\n",
       "      <td>0</td>\n",
       "      <td>0</td>\n",
       "      <td>0</td>\n",
       "      <td>2</td>\n",
       "    </tr>\n",
       "  </tbody>\n",
       "</table>\n",
       "</div>"
      ],
      "text/plain": [
       "                  id                                       comment_text  \\\n",
       "0   0000997932d777bf  Explanation\\nWhy the edits made under my usern...   \n",
       "1   000103f0d9cfb60f  D'aww! He matches this background colour I'm s...   \n",
       "2   000113f07ec002fd  Hey man, I'm really not trying to edit war. It...   \n",
       "3   0001b41b1c6bb37e  \"\\nMore\\nI can't make any real suggestions on ...   \n",
       "4   0001d958c54c6e35  You, sir, are my hero. Any chance you remember...   \n",
       "5   00025465d4725e87  \"\\n\\nCongratulations from me as well, use the ...   \n",
       "6   0002bcb3da6cb337       COCKSUCKER BEFORE YOU PISS AROUND ON MY WORK   \n",
       "7   00031b1e95af7921  Your vandalism to the Matt Shirvington article...   \n",
       "8   00037261f536c51d  Sorry if the word 'nonsense' was offensive to ...   \n",
       "9   00040093b2687caa  alignment on this subject and which are contra...   \n",
       "10  0005300084f90edc  \"\\nFair use rationale for Image:Wonju.jpg\\n\\nT...   \n",
       "11  00054a5e18b50dd4  bbq \\n\\nbe a man and lets discuss it-maybe ove...   \n",
       "12  0005c987bdfc9d4b  Hey... what is it..\\n@ | talk .\\nWhat is it......   \n",
       "13  0006f16e4e9f292e  Before you start throwing accusations and warn...   \n",
       "14  00070ef96486d6f9  Oh, and the girl above started her arguments w...   \n",
       "15  00078f8ce7eb276d  \"\\n\\nJuelz Santanas Age\\n\\nIn 2002, Juelz Sant...   \n",
       "16  0007e25b2121310b  Bye! \\n\\nDon't look, come or think of comming ...   \n",
       "17  000897889268bc93   REDIRECT Talk:Voydan Pop Georgiev- Chernodrinski   \n",
       "18  0009801bd85e5806  The Mitsurugi point made no sense - why not ar...   \n",
       "19  0009eaea3325de8c  Don't mean to bother you \\n\\nI see that you're...   \n",
       "\n",
       "    toxic  severe_toxic  obscene  threat  insult  identity_hate  polarity  \n",
       "0       0             0        0       0       0              0         1  \n",
       "1       0             0        0       0       0              0         2  \n",
       "2       0             0        0       0       0              0         1  \n",
       "3       0             0        0       0       0              0         2  \n",
       "4       0             0        0       0       0              0         0  \n",
       "5       0             0        0       0       0              0         0  \n",
       "6       1             1        1       0       1              0         0  \n",
       "7       0             0        0       0       0              0         0  \n",
       "8       0             0        0       0       0              0        -1  \n",
       "9       0             0        0       0       0              0        -1  \n",
       "10      0             0        0       0       0              0         2  \n",
       "11      0             0        0       0       0              0         0  \n",
       "12      1             0        0       0       0              0         0  \n",
       "13      0             0        0       0       0              0         1  \n",
       "14      0             0        0       0       0              0         1  \n",
       "15      0             0        0       0       0              0         1  \n",
       "16      1             0        0       0       0              0         0  \n",
       "17      0             0        0       0       0              0         0  \n",
       "18      0             0        0       0       0              0         5  \n",
       "19      0             0        0       0       0              0         2  "
      ]
     },
     "execution_count": 20,
     "metadata": {},
     "output_type": "execute_result"
    }
   ],
   "source": [
    "train_df_pol.head(20)"
   ]
  },
  {
   "cell_type": "markdown",
   "metadata": {},
   "source": [
    "### Let's Clean the data "
   ]
  },
  {
   "cell_type": "code",
   "execution_count": 21,
   "metadata": {},
   "outputs": [
    {
     "name": "stdout",
     "output_type": "stream",
     "text": [
      "references\n",
      "I don't feel qualified to add these without further confirmation. These are offered in an attempt to respond to Category:Unreferenced_BLPs clean up and provide specific references for Fattouh's bio. I don't feel confident vetting the following online sources and would prefer to have some more closely edited resources as primary sources:\n",
      "\n",
      " http://www.webgaza.net/gaza_strip/rafah/people_profiles/Fattouh_Rawhi.htm\n",
      " http://www.multaqa.org/access/persons.php?c=r\n",
      " Letter to Bethlehem University President, Brother Vincent Malham, in thanks for condolences on the death of President Yasser Arafat http://www.bethlehem.edu/archives/2004/2004_081.shtml\n",
      "____________________________________________________________________________________________________\n"
     ]
    },
    {
     "data": {
      "text/plain": [
       "\"Apology \\n\\nYou blocked me once  under another IP and it angered me. I was determined to take revenge. Then I discovered your wife is an honest to god African prostitute with AIDS and I realized  nothing I could do would make your life worse than it is. A married virgin, and you'll probably die a virgin. You're like the unicorn of white nights. This is gold man, thanks so much, honestly.  -107.77.76.15\""
      ]
     },
     "execution_count": 21,
     "metadata": {},
     "output_type": "execute_result"
    }
   ],
   "source": [
    "text_link = train_df_pol.comment_text[31045]\n",
    "print(text_link)\n",
    "print(100*'_')\n",
    "\n",
    "text_num = train_df_pol.comment_text[2590]\n",
    "text_num"
   ]
  },
  {
   "cell_type": "code",
   "execution_count": 22,
   "metadata": {},
   "outputs": [
    {
     "data": {
      "text/plain": [
       "\"references\\nI don't feel qualified to add these without further confirmation. These are offered in an attempt to respond to Category:Unreferenced_BLPs clean up and provide specific references for Fattouh's bio. I don't feel confident vetting the following online sources and would prefer to have some more closely edited resources as primary sources:\\n\\n \\n \\n Letter to Bethlehem University President, Brother Vincent Malham, in thanks for condolences on the death of President Yasser Arafat \""
      ]
     },
     "execution_count": 22,
     "metadata": {},
     "output_type": "execute_result"
    }
   ],
   "source": [
    "## Remove URL Links\n",
    "text_link= re.sub(r'http\\S+', '', text_link)\n",
    "text_link"
   ]
  },
  {
   "cell_type": "code",
   "execution_count": 23,
   "metadata": {
    "collapsed": true
   },
   "outputs": [],
   "source": [
    "def clean_text(text):\n",
    "    text= re.sub(r'http\\S+', '', text)\n",
    "    text = text.lower()\n",
    "    text = re.sub(r\"what's\", \"what is \", text)\n",
    "    text = re.sub(r\"\\'s\", \" \", text)\n",
    "    text = re.sub(r\"\\'ve\", \" have \", text)\n",
    "    text = re.sub(r\"can't\", \"cannot \", text)\n",
    "    text = re.sub(r\"n't\", \" not \", text)\n",
    "    text = re.sub(r\"i'm\", \"i am \", text)\n",
    "    text = re.sub(r\"\\'re\", \" are \", text)\n",
    "    text = re.sub(r\"\\'d\", \" would \", text)\n",
    "    text = re.sub(r\"\\'ll\", \" will \", text)\n",
    "    text = re.sub(r\"\\'scuse\", \" excuse \", text)\n",
    "    text = re.sub(r\"don't\", \" do not\", text)\n",
    "    text = re.sub('\\W', ' ', text)\n",
    "    text = re.sub('\\s+', ' ', text)\n",
    "    text = re.sub('\\n','',text)\n",
    "    text = re.sub(r\"\\'ll\",\"will\",text)\n",
    "    text = text.strip(' ')\n",
    "    return text"
   ]
  },
  {
   "cell_type": "code",
   "execution_count": 24,
   "metadata": {},
   "outputs": [
    {
     "data": {
      "text/plain": [
       "'references i do not feel qualified to add these without further confirmation these are offered in an attempt to respond to category unreferenced_blps clean up and provide specific references for fattouh bio i do not feel confident vetting the following online sources and would prefer to have some more closely edited resources as primary sources letter to bethlehem university president brother vincent malham in thanks for condolences on the death of president yasser arafat'"
      ]
     },
     "execution_count": 24,
     "metadata": {},
     "output_type": "execute_result"
    }
   ],
   "source": [
    "text_link = clean_text(text_link)\n",
    "text_link"
   ]
  },
  {
   "cell_type": "code",
   "execution_count": 25,
   "metadata": {},
   "outputs": [
    {
     "data": {
      "text/plain": [
       "'apology you blocked me once under another ip and it angered me i was determined to take revenge then i discovered your wife is an honest to god african prostitute with aids and i realized nothing i could do would make your life worse than it is a married virgin and you will probably die a virgin you are like the unicorn of white nights this is gold man thanks so much honestly'"
      ]
     },
     "execution_count": 25,
     "metadata": {},
     "output_type": "execute_result"
    }
   ],
   "source": [
    "def is_digit(word):\n",
    "    try:\n",
    "        int(word)\n",
    "        return True\n",
    "    except ValueError:\n",
    "        return False\n",
    "\n",
    "new_line = []\n",
    "\n",
    "text_num= text_num.replace('.','')\n",
    "for word in text_num.split():\n",
    "    if not is_digit(word):\n",
    "        new_line.append(word)\n",
    "text_num = \" \".join(new_line)\n",
    "\n",
    "\n",
    "text_num = clean_text(text_num)\n",
    "text_num"
   ]
  },
  {
   "cell_type": "code",
   "execution_count": 26,
   "metadata": {
    "collapsed": true
   },
   "outputs": [],
   "source": [
    "def clean_text(text):\n",
    "    text= re.sub(r'http\\S+', '', text)\n",
    "    text = text.lower()\n",
    "    text = re.sub(r\"what's\", \"what is \", text)\n",
    "    text = re.sub(r\"\\'s\", \" \", text)\n",
    "    text = re.sub(r\"\\'ve\", \" have \", text)\n",
    "    text = re.sub(r\"can't\", \"cannot \", text)\n",
    "    text = re.sub(r\"n't\", \" not \", text)\n",
    "    text = re.sub(r\"i'm\", \"i am \", text)\n",
    "    text = re.sub(r\"\\'re\", \" are \", text)\n",
    "    text = re.sub(r\"\\'d\", \" would \", text)\n",
    "    text = re.sub(r\"\\'ll\", \" will \", text)\n",
    "    text = re.sub(r\"\\'scuse\", \" excuse \", text)\n",
    "    text = re.sub(r\"don't\", \" do not\", text)\n",
    "    text = re.sub('\\W', ' ', text)\n",
    "    text = re.sub('\\s+', ' ', text)\n",
    "    text = re.sub('\\n','',text)\n",
    "    text = re.sub(r\"\\'ll\",\"will\",text)\n",
    "    text = text.strip(' ')\n",
    "    \n",
    "    new_line = []\n",
    "    text= text.replace('.','')\n",
    "    \n",
    "    for word in text.split():\n",
    "        if not is_digit(word):\n",
    "            new_line.append(word)\n",
    "        \n",
    "    text = \" \".join(new_line)\n",
    "    text = text.translate(str.maketrans('','','1234567890'))\n",
    "    \n",
    "    return text"
   ]
  },
  {
   "cell_type": "code",
   "execution_count": 27,
   "metadata": {},
   "outputs": [
    {
     "name": "stdout",
     "output_type": "stream",
     "text": [
      "references i do not feel qualified to add these without further confirmation these are offered in an attempt to respond to category unreferenced_blps clean up and provide specific references for fattouh bio i do not feel confident vetting the following online sources and would prefer to have some more closely edited resources as primary sources letter to bethlehem university president brother vincent malham in thanks for condolences on the death of president yasser arafat\n",
      "__________________________________________________________________________________________________________________________________________________________________________________________________________________________________________\n",
      "apology you blocked me once under another ip and it angered me i was determined to take revenge then i discovered your wife is an honest to god african prostitute with aids and i realized nothing i could do would make your life worse than it is a married virgin and you will probably die a virgin you are like the unicorn of white nights this is gold man thanks so much honestly\n"
     ]
    }
   ],
   "source": [
    "print(clean_text(train_df_pol.comment_text[31045]))\n",
    "print(234*'_')\n",
    "print(clean_text(train_df_pol.comment_text[2590]))"
   ]
  },
  {
   "cell_type": "code",
   "execution_count": 28,
   "metadata": {
    "collapsed": true
   },
   "outputs": [],
   "source": [
    "train_df_pol.comment_text = train_df_pol.comment_text.apply(clean_text)"
   ]
  },
  {
   "cell_type": "code",
   "execution_count": 29,
   "metadata": {
    "collapsed": true
   },
   "outputs": [],
   "source": [
    "test_df_pol.comment_text = test_df_pol.comment_text.apply(clean_text)"
   ]
  },
  {
   "cell_type": "markdown",
   "metadata": {},
   "source": [
    "### Let's print 10 random comment and see how our cleaning step performed on test data"
   ]
  },
  {
   "cell_type": "code",
   "execution_count": 30,
   "metadata": {},
   "outputs": [
    {
     "name": "stdout",
     "output_type": "stream",
     "text": [
      "Comment number 0\n",
      "\n",
      "license tagging for image alfred hunt jpg thanks for uploading image alfred hunt jpg wikipedia gets thousands of images uploaded every day and in order to verify that the images can be legally used on wikipedia the source and copyright status must be indicated images need to have an image tag applied to the image description page indicating the copyright status of the image this uniform and easy to understand method of indicating the license status allows potential re users of the images to know what they are allowed to do with the images for more information on using images see the following pages wikipedia image use policy wikipedia image copyright tags this is an automated notice by if you need help on selecting a tag to use or in adding the tag to the image description feel free to post a message at wikipedia media copyright questions\n",
      "__________________________________________________________________________________________________________________________________________________________________________________________________________________________________________\n",
      "Comment number 1\n",
      "\n",
      "i have copied your comments above to talk james george lee steere and will address them there we should continue the conversationon the article talk page rather than here thanks\n",
      "__________________________________________________________________________________________________________________________________________________________________________________________________________________________________________\n",
      "Comment number 2\n",
      "\n",
      "final warning from your recent edit patterns and history you appear to be under quite a few misconceptions about how wikipedia works we are not a discussion forum and expect all editors to interact in a polite and collegiate way when discussing improvements to articles furthermore our core article writing policies require that all articles are written in a neutral non partisan manner wikipedia is not a soapbox and specifically forbid causing disruption to make a point if you cannot adhere to these policies or operate effectively in a collaborative environment such as this i suggest that perhaps wikipedia is not the best site for you you may be happier in a military history forum or discussion group of which there are many out there\n",
      "__________________________________________________________________________________________________________________________________________________________________________________________________________________________________________\n",
      "Comment number 3\n",
      "\n",
      "haida language name skidegate is afaik haida in origin if anyone can provide the proper haida language spelling and meaning that would be great btw this and masset both need better write ups as the two largest communities on the qci no\n",
      "__________________________________________________________________________________________________________________________________________________________________________________________________________________________________________\n",
      "Comment number 4\n",
      "\n",
      "it should definitely not say taxa in the pygopodidae because it includes the sheltopusik which is in anguidae imho what might be best would be to describe it as this category contains articles on genera and families of legless lizards list all legless and reduced limb lizard genera and modify the legless lizard article so that the family list at the end is replaced with a link to this category page would it be possible to format the category page by family so that it says and links to anguidae then lists the legless anguids then has another big heading link to pygopodidae then a list of those genera then dibamidae etc i do not know the first thing about formatting and rules and such so i do not know if that possible maybe with a note by each family saying a few some all members of the family have reduced no external limbs as appropriate thanks for the heads up on the existence of such a category\n",
      "__________________________________________________________________________________________________________________________________________________________________________________________________________________________________________\n",
      "Comment number 5\n",
      "\n",
      "some of the most productive and helpful developers on this project have been blocked or run off the site so good luck finding someone like i said they reward mediocrity here and ban and block anyone and anything that actually improves the place all they seem to be interested in doing here is creating more and more bureaucracy the very thing we should be destroying\n",
      "__________________________________________________________________________________________________________________________________________________________________________________________________________________________________________\n",
      "Comment number 6\n",
      "\n",
      "rawr rwar rawr cluebots a faggot\n",
      "__________________________________________________________________________________________________________________________________________________________________________________________________________________________________________\n",
      "Comment number 7\n",
      "\n",
      "mea culpa thanks for pointing that out\n",
      "__________________________________________________________________________________________________________________________________________________________________________________________________________________________________________\n",
      "Comment number 8\n",
      "\n",
      "the image is legally free i do not see how it violates criterion what additional information do i need to provide\n",
      "__________________________________________________________________________________________________________________________________________________________________________________________________________________________________________\n",
      "Comment number 9\n",
      "\n",
      "christ aphex fans are ridiculous if he has been editing this page so fucking what he only flesh and blood like you and me he is not the buddha or something as for the person who thought it might have been him because the ips are in england jesus wept how can you be so stupid for fuck sake over million people live in england exactly how inadequate is that brain of yours\n",
      "__________________________________________________________________________________________________________________________________________________________________________________________________________________________________________\n"
     ]
    }
   ],
   "source": [
    "for i in range(10):\n",
    "    print(\"Comment number {}\".format(i))\n",
    "    print('')\n",
    "    print(np.random.choice(test_df_pol.comment_text))\n",
    "    print(234*'_')"
   ]
  },
  {
   "cell_type": "markdown",
   "metadata": {},
   "source": [
    "### Revisiting sentiment analysis"
   ]
  },
  {
   "cell_type": "code",
   "execution_count": 31,
   "metadata": {
    "scrolled": true
   },
   "outputs": [
    {
     "name": "stderr",
     "output_type": "stream",
     "text": [
      "/Users/bobbyvegi/anaconda3/lib/python3.6/site-packages/sklearn/cross_validation.py:41: DeprecationWarning: This module was deprecated in version 0.18 in favor of the model_selection module into which all the refactored classes and functions are moved. Also note that the interface of the new CV iterators are different from that of this module. This module will be removed in 0.20.\n",
      "  \"This module will be removed in 0.20.\", DeprecationWarning)\n",
      "/Users/bobbyvegi/anaconda3/lib/python3.6/site-packages/sklearn/grid_search.py:42: DeprecationWarning: This module was deprecated in version 0.18 in favor of the model_selection module into which all the refactored classes and functions are moved. This module will be removed in 0.20.\n",
      "  DeprecationWarning)\n",
      "/Users/bobbyvegi/anaconda3/lib/python3.6/site-packages/sklearn/learning_curve.py:22: DeprecationWarning: This module was deprecated in version 0.18 in favor of the model_selection module into which all the functions are moved. This module will be removed in 0.20\n",
      "  DeprecationWarning)\n"
     ]
    }
   ],
   "source": [
    "from sklearn import *\n",
    "from textblob import TextBlob"
   ]
  },
  {
   "cell_type": "code",
   "execution_count": 32,
   "metadata": {
    "collapsed": true
   },
   "outputs": [],
   "source": [
    "zpolarity = {0:'zero',1:'one',2:'two',3:'three',4:'four',5:'five',6:'six',7:'seven',8:'eight',9:'nine',10:'ten'}\n",
    "zsign = {-1:'negative',  0.: 'neutral', 1:'positive'}"
   ]
  },
  {
   "cell_type": "code",
   "execution_count": 33,
   "metadata": {
    "collapsed": true
   },
   "outputs": [],
   "source": [
    "train_df_pol['polarity_clean'] = train_df['comment_text'].map(lambda x: int(TextBlob(x).sentiment.polarity * 10))\n",
    "test_df_pol['polarity_clean'] = test_df['comment_text'].map(lambda x: int(TextBlob(x).sentiment.polarity * 10))"
   ]
  },
  {
   "cell_type": "code",
   "execution_count": 34,
   "metadata": {
    "scrolled": true
   },
   "outputs": [
    {
     "data": {
      "text/html": [
       "<div>\n",
       "<style>\n",
       "    .dataframe thead tr:only-child th {\n",
       "        text-align: right;\n",
       "    }\n",
       "\n",
       "    .dataframe thead th {\n",
       "        text-align: left;\n",
       "    }\n",
       "\n",
       "    .dataframe tbody tr th {\n",
       "        vertical-align: top;\n",
       "    }\n",
       "</style>\n",
       "<table border=\"1\" class=\"dataframe\">\n",
       "  <thead>\n",
       "    <tr style=\"text-align: right;\">\n",
       "      <th></th>\n",
       "      <th>id</th>\n",
       "      <th>comment_text</th>\n",
       "      <th>polarity</th>\n",
       "      <th>polarity_clean</th>\n",
       "    </tr>\n",
       "  </thead>\n",
       "  <tbody>\n",
       "    <tr>\n",
       "      <th>0</th>\n",
       "      <td>00001cee341fdb12</td>\n",
       "      <td>yo bitch ja rule is more succesful then you wi...</td>\n",
       "      <td>0</td>\n",
       "      <td>0</td>\n",
       "    </tr>\n",
       "    <tr>\n",
       "      <th>1</th>\n",
       "      <td>0000247867823ef7</td>\n",
       "      <td>from rfc the title is fine as it is imo</td>\n",
       "      <td>4</td>\n",
       "      <td>4</td>\n",
       "    </tr>\n",
       "    <tr>\n",
       "      <th>2</th>\n",
       "      <td>00013b17ad220c46</td>\n",
       "      <td>sources zawe ashton on lapland</td>\n",
       "      <td>0</td>\n",
       "      <td>0</td>\n",
       "    </tr>\n",
       "    <tr>\n",
       "      <th>3</th>\n",
       "      <td>00017563c3f7919a</td>\n",
       "      <td>if you have a look back at the source the info...</td>\n",
       "      <td>0</td>\n",
       "      <td>0</td>\n",
       "    </tr>\n",
       "    <tr>\n",
       "      <th>4</th>\n",
       "      <td>00017695ad8997eb</td>\n",
       "      <td>i do not anonymously edit articles at all</td>\n",
       "      <td>0</td>\n",
       "      <td>0</td>\n",
       "    </tr>\n",
       "    <tr>\n",
       "      <th>5</th>\n",
       "      <td>0001ea8717f6de06</td>\n",
       "      <td>thank you for understanding i think very highl...</td>\n",
       "      <td>2</td>\n",
       "      <td>2</td>\n",
       "    </tr>\n",
       "    <tr>\n",
       "      <th>6</th>\n",
       "      <td>00024115d4cbde0f</td>\n",
       "      <td>please do not add nonsense to wikipedia such e...</td>\n",
       "      <td>1</td>\n",
       "      <td>1</td>\n",
       "    </tr>\n",
       "    <tr>\n",
       "      <th>7</th>\n",
       "      <td>000247e83dcc1211</td>\n",
       "      <td>dear god this site is horrible</td>\n",
       "      <td>-10</td>\n",
       "      <td>-10</td>\n",
       "    </tr>\n",
       "    <tr>\n",
       "      <th>8</th>\n",
       "      <td>00025358d4737918</td>\n",
       "      <td>only a fool can believe in such numbers the co...</td>\n",
       "      <td>1</td>\n",
       "      <td>1</td>\n",
       "    </tr>\n",
       "    <tr>\n",
       "      <th>9</th>\n",
       "      <td>00026d1092fe71cc</td>\n",
       "      <td>double redirects when fixing double redirects ...</td>\n",
       "      <td>0</td>\n",
       "      <td>0</td>\n",
       "    </tr>\n",
       "  </tbody>\n",
       "</table>\n",
       "</div>"
      ],
      "text/plain": [
       "                 id                                       comment_text  \\\n",
       "0  00001cee341fdb12  yo bitch ja rule is more succesful then you wi...   \n",
       "1  0000247867823ef7            from rfc the title is fine as it is imo   \n",
       "2  00013b17ad220c46                     sources zawe ashton on lapland   \n",
       "3  00017563c3f7919a  if you have a look back at the source the info...   \n",
       "4  00017695ad8997eb          i do not anonymously edit articles at all   \n",
       "5  0001ea8717f6de06  thank you for understanding i think very highl...   \n",
       "6  00024115d4cbde0f  please do not add nonsense to wikipedia such e...   \n",
       "7  000247e83dcc1211                     dear god this site is horrible   \n",
       "8  00025358d4737918  only a fool can believe in such numbers the co...   \n",
       "9  00026d1092fe71cc  double redirects when fixing double redirects ...   \n",
       "\n",
       "   polarity  polarity_clean  \n",
       "0         0               0  \n",
       "1         4               4  \n",
       "2         0               0  \n",
       "3         0               0  \n",
       "4         0               0  \n",
       "5         2               2  \n",
       "6         1               1  \n",
       "7       -10             -10  \n",
       "8         1               1  \n",
       "9         0               0  "
      ]
     },
     "execution_count": 34,
     "metadata": {},
     "output_type": "execute_result"
    }
   ],
   "source": [
    "test_df_pol.head(10)"
   ]
  },
  {
   "cell_type": "markdown",
   "metadata": {},
   "source": [
    "### Let's see if they is change in sentiment when using clean data"
   ]
  },
  {
   "cell_type": "code",
   "execution_count": 35,
   "metadata": {},
   "outputs": [
    {
     "name": "stdout",
     "output_type": "stream",
     "text": [
      "Percentage change in sentiment polarity before and after cleaning the training data: 7.730%\n"
     ]
    },
    {
     "data": {
      "image/png": "[encoded data removed]",
      "text/plain": [
       "<matplotlib.figure.Figure at 0x1a323ebb38>"
      ]
     },
     "metadata": {},
     "output_type": "display_data"
    }
   ],
   "source": [
    "train_aftr_pol = (train_df_pol.polarity == train_df_pol.polarity_clean)\n",
    "train_aftr_pol.value_counts().plot(kind='bar')\n",
    "print(\"Percentage change in sentiment polarity before and after cleaning the training data: {0:.3f}%\".format(train_aftr_pol.value_counts(True)[0]*100))"
   ]
  },
  {
   "cell_type": "code",
   "execution_count": 36,
   "metadata": {},
   "outputs": [
    {
     "name": "stdout",
     "output_type": "stream",
     "text": [
      "Percentage change in sentiment polarity before and after cleaning the test data: 8.577%\n"
     ]
    },
    {
     "data": {
      "image/png": "[encoded data removed]",
      "text/plain": [
       "<matplotlib.figure.Figure at 0x1a3239c9e8>"
      ]
     },
     "metadata": {},
     "output_type": "display_data"
    }
   ],
   "source": [
    "test_aftr_pol = (test_df_pol.polarity == test_df_pol.polarity_clean)\n",
    "print(\"Percentage change in sentiment polarity before and after cleaning the test data: {0:.3f}%\".format(test_aftr_pol.value_counts(True)[0]*100))\n",
    "test_aftr_pol.value_counts().plot(kind='bar')\n",
    "plt.show()"
   ]
  },
  {
   "cell_type": "code",
   "execution_count": 37,
   "metadata": {
    "collapsed": true
   },
   "outputs": [],
   "source": [
    "### Adding Sentiment polarity "
   ]
  },
  {
   "cell_type": "code",
   "execution_count": 38,
   "metadata": {
    "collapsed": true
   },
   "outputs": [],
   "source": [
    "train_df_pol['comment_text'] = train_df_pol.apply(lambda r: str(r['comment_text']) + \n",
    "                                                  ' polarity' +  zsign[np.sign(r['polarity'])] + \n",
    "                                                  zpolarity[np.abs(r['polarity'])], axis=1)\n",
    "test_df_pol['comment_text'] = test_df_pol.apply(lambda r: str(r['comment_text']) + \n",
    "                                                ' polarity' +  zsign[np.sign(r['polarity'])] + \n",
    "                                                zpolarity[np.abs(r['polarity'])], axis=1)"
   ]
  },
  {
   "cell_type": "code",
   "execution_count": 39,
   "metadata": {},
   "outputs": [
    {
     "data": {
      "text/plain": [
       "'hey man i am really not trying to edit war it just that this guy is constantly removing relevant information and talking to me through edits instead of my talk page he seems to care more about the formatting than the actual info polaritypositiveone'"
      ]
     },
     "execution_count": 39,
     "metadata": {},
     "output_type": "execute_result"
    }
   ],
   "source": [
    "train_df_pol.comment_text[2]"
   ]
  },
  {
   "cell_type": "code",
   "execution_count": 40,
   "metadata": {},
   "outputs": [
    {
     "data": {
      "text/html": [
       "<div>\n",
       "<style>\n",
       "    .dataframe thead tr:only-child th {\n",
       "        text-align: right;\n",
       "    }\n",
       "\n",
       "    .dataframe thead th {\n",
       "        text-align: left;\n",
       "    }\n",
       "\n",
       "    .dataframe tbody tr th {\n",
       "        vertical-align: top;\n",
       "    }\n",
       "</style>\n",
       "<table border=\"1\" class=\"dataframe\">\n",
       "  <thead>\n",
       "    <tr style=\"text-align: right;\">\n",
       "      <th></th>\n",
       "      <th>id</th>\n",
       "      <th>comment_text</th>\n",
       "      <th>toxic</th>\n",
       "      <th>severe_toxic</th>\n",
       "      <th>obscene</th>\n",
       "      <th>threat</th>\n",
       "      <th>insult</th>\n",
       "      <th>identity_hate</th>\n",
       "      <th>polarity</th>\n",
       "      <th>polarity_clean</th>\n",
       "    </tr>\n",
       "  </thead>\n",
       "  <tbody>\n",
       "    <tr>\n",
       "      <th>0</th>\n",
       "      <td>0000997932d777bf</td>\n",
       "      <td>explanation why the edits made under my userna...</td>\n",
       "      <td>0</td>\n",
       "      <td>0</td>\n",
       "      <td>0</td>\n",
       "      <td>0</td>\n",
       "      <td>0</td>\n",
       "      <td>0</td>\n",
       "      <td>1</td>\n",
       "      <td>1</td>\n",
       "    </tr>\n",
       "    <tr>\n",
       "      <th>1</th>\n",
       "      <td>000103f0d9cfb60f</td>\n",
       "      <td>d aww he matches this background colour i am s...</td>\n",
       "      <td>0</td>\n",
       "      <td>0</td>\n",
       "      <td>0</td>\n",
       "      <td>0</td>\n",
       "      <td>0</td>\n",
       "      <td>0</td>\n",
       "      <td>2</td>\n",
       "      <td>2</td>\n",
       "    </tr>\n",
       "    <tr>\n",
       "      <th>2</th>\n",
       "      <td>000113f07ec002fd</td>\n",
       "      <td>hey man i am really not trying to edit war it ...</td>\n",
       "      <td>0</td>\n",
       "      <td>0</td>\n",
       "      <td>0</td>\n",
       "      <td>0</td>\n",
       "      <td>0</td>\n",
       "      <td>0</td>\n",
       "      <td>1</td>\n",
       "      <td>1</td>\n",
       "    </tr>\n",
       "    <tr>\n",
       "      <th>3</th>\n",
       "      <td>0001b41b1c6bb37e</td>\n",
       "      <td>more i cannot make any real suggestions on imp...</td>\n",
       "      <td>0</td>\n",
       "      <td>0</td>\n",
       "      <td>0</td>\n",
       "      <td>0</td>\n",
       "      <td>0</td>\n",
       "      <td>0</td>\n",
       "      <td>2</td>\n",
       "      <td>2</td>\n",
       "    </tr>\n",
       "    <tr>\n",
       "      <th>4</th>\n",
       "      <td>0001d958c54c6e35</td>\n",
       "      <td>you sir are my hero any chance you remember wh...</td>\n",
       "      <td>0</td>\n",
       "      <td>0</td>\n",
       "      <td>0</td>\n",
       "      <td>0</td>\n",
       "      <td>0</td>\n",
       "      <td>0</td>\n",
       "      <td>0</td>\n",
       "      <td>0</td>\n",
       "    </tr>\n",
       "    <tr>\n",
       "      <th>5</th>\n",
       "      <td>00025465d4725e87</td>\n",
       "      <td>congratulations from me as well use the tools ...</td>\n",
       "      <td>0</td>\n",
       "      <td>0</td>\n",
       "      <td>0</td>\n",
       "      <td>0</td>\n",
       "      <td>0</td>\n",
       "      <td>0</td>\n",
       "      <td>0</td>\n",
       "      <td>0</td>\n",
       "    </tr>\n",
       "    <tr>\n",
       "      <th>6</th>\n",
       "      <td>0002bcb3da6cb337</td>\n",
       "      <td>cocksucker before you piss around on my work p...</td>\n",
       "      <td>1</td>\n",
       "      <td>1</td>\n",
       "      <td>1</td>\n",
       "      <td>0</td>\n",
       "      <td>1</td>\n",
       "      <td>0</td>\n",
       "      <td>0</td>\n",
       "      <td>0</td>\n",
       "    </tr>\n",
       "    <tr>\n",
       "      <th>7</th>\n",
       "      <td>00031b1e95af7921</td>\n",
       "      <td>your vandalism to the matt shirvington article...</td>\n",
       "      <td>0</td>\n",
       "      <td>0</td>\n",
       "      <td>0</td>\n",
       "      <td>0</td>\n",
       "      <td>0</td>\n",
       "      <td>0</td>\n",
       "      <td>0</td>\n",
       "      <td>0</td>\n",
       "    </tr>\n",
       "    <tr>\n",
       "      <th>8</th>\n",
       "      <td>00037261f536c51d</td>\n",
       "      <td>sorry if the word nonsense was offensive to yo...</td>\n",
       "      <td>0</td>\n",
       "      <td>0</td>\n",
       "      <td>0</td>\n",
       "      <td>0</td>\n",
       "      <td>0</td>\n",
       "      <td>0</td>\n",
       "      <td>-1</td>\n",
       "      <td>-1</td>\n",
       "    </tr>\n",
       "    <tr>\n",
       "      <th>9</th>\n",
       "      <td>00040093b2687caa</td>\n",
       "      <td>alignment on this subject and which are contra...</td>\n",
       "      <td>0</td>\n",
       "      <td>0</td>\n",
       "      <td>0</td>\n",
       "      <td>0</td>\n",
       "      <td>0</td>\n",
       "      <td>0</td>\n",
       "      <td>-1</td>\n",
       "      <td>-1</td>\n",
       "    </tr>\n",
       "    <tr>\n",
       "      <th>10</th>\n",
       "      <td>0005300084f90edc</td>\n",
       "      <td>fair use rationale for image wonju jpg thanks ...</td>\n",
       "      <td>0</td>\n",
       "      <td>0</td>\n",
       "      <td>0</td>\n",
       "      <td>0</td>\n",
       "      <td>0</td>\n",
       "      <td>0</td>\n",
       "      <td>2</td>\n",
       "      <td>3</td>\n",
       "    </tr>\n",
       "    <tr>\n",
       "      <th>11</th>\n",
       "      <td>00054a5e18b50dd4</td>\n",
       "      <td>bbq be a man and lets discuss it maybe over th...</td>\n",
       "      <td>0</td>\n",
       "      <td>0</td>\n",
       "      <td>0</td>\n",
       "      <td>0</td>\n",
       "      <td>0</td>\n",
       "      <td>0</td>\n",
       "      <td>0</td>\n",
       "      <td>0</td>\n",
       "    </tr>\n",
       "    <tr>\n",
       "      <th>12</th>\n",
       "      <td>0005c987bdfc9d4b</td>\n",
       "      <td>hey what is it talk what is it an exclusive gr...</td>\n",
       "      <td>1</td>\n",
       "      <td>0</td>\n",
       "      <td>0</td>\n",
       "      <td>0</td>\n",
       "      <td>0</td>\n",
       "      <td>0</td>\n",
       "      <td>0</td>\n",
       "      <td>0</td>\n",
       "    </tr>\n",
       "    <tr>\n",
       "      <th>13</th>\n",
       "      <td>0006f16e4e9f292e</td>\n",
       "      <td>before you start throwing accusations and warn...</td>\n",
       "      <td>0</td>\n",
       "      <td>0</td>\n",
       "      <td>0</td>\n",
       "      <td>0</td>\n",
       "      <td>0</td>\n",
       "      <td>0</td>\n",
       "      <td>1</td>\n",
       "      <td>1</td>\n",
       "    </tr>\n",
       "    <tr>\n",
       "      <th>14</th>\n",
       "      <td>00070ef96486d6f9</td>\n",
       "      <td>oh and the girl above started her arguments wi...</td>\n",
       "      <td>0</td>\n",
       "      <td>0</td>\n",
       "      <td>0</td>\n",
       "      <td>0</td>\n",
       "      <td>0</td>\n",
       "      <td>0</td>\n",
       "      <td>1</td>\n",
       "      <td>1</td>\n",
       "    </tr>\n",
       "    <tr>\n",
       "      <th>15</th>\n",
       "      <td>00078f8ce7eb276d</td>\n",
       "      <td>juelz santanas age in juelz santana was years ...</td>\n",
       "      <td>0</td>\n",
       "      <td>0</td>\n",
       "      <td>0</td>\n",
       "      <td>0</td>\n",
       "      <td>0</td>\n",
       "      <td>0</td>\n",
       "      <td>1</td>\n",
       "      <td>1</td>\n",
       "    </tr>\n",
       "    <tr>\n",
       "      <th>16</th>\n",
       "      <td>0007e25b2121310b</td>\n",
       "      <td>bye do not look come or think of comming back ...</td>\n",
       "      <td>1</td>\n",
       "      <td>0</td>\n",
       "      <td>0</td>\n",
       "      <td>0</td>\n",
       "      <td>0</td>\n",
       "      <td>0</td>\n",
       "      <td>0</td>\n",
       "      <td>0</td>\n",
       "    </tr>\n",
       "    <tr>\n",
       "      <th>17</th>\n",
       "      <td>000897889268bc93</td>\n",
       "      <td>redirect talk voydan pop georgiev chernodrinsk...</td>\n",
       "      <td>0</td>\n",
       "      <td>0</td>\n",
       "      <td>0</td>\n",
       "      <td>0</td>\n",
       "      <td>0</td>\n",
       "      <td>0</td>\n",
       "      <td>0</td>\n",
       "      <td>0</td>\n",
       "    </tr>\n",
       "    <tr>\n",
       "      <th>18</th>\n",
       "      <td>0009801bd85e5806</td>\n",
       "      <td>the mitsurugi point made no sense why not argu...</td>\n",
       "      <td>0</td>\n",
       "      <td>0</td>\n",
       "      <td>0</td>\n",
       "      <td>0</td>\n",
       "      <td>0</td>\n",
       "      <td>0</td>\n",
       "      <td>5</td>\n",
       "      <td>5</td>\n",
       "    </tr>\n",
       "    <tr>\n",
       "      <th>19</th>\n",
       "      <td>0009eaea3325de8c</td>\n",
       "      <td>do not mean to bother you i see that you are w...</td>\n",
       "      <td>0</td>\n",
       "      <td>0</td>\n",
       "      <td>0</td>\n",
       "      <td>0</td>\n",
       "      <td>0</td>\n",
       "      <td>0</td>\n",
       "      <td>2</td>\n",
       "      <td>3</td>\n",
       "    </tr>\n",
       "    <tr>\n",
       "      <th>20</th>\n",
       "      <td>000b08c464718505</td>\n",
       "      <td>regarding your recent edits once again please ...</td>\n",
       "      <td>0</td>\n",
       "      <td>0</td>\n",
       "      <td>0</td>\n",
       "      <td>0</td>\n",
       "      <td>0</td>\n",
       "      <td>0</td>\n",
       "      <td>0</td>\n",
       "      <td>0</td>\n",
       "    </tr>\n",
       "    <tr>\n",
       "      <th>21</th>\n",
       "      <td>000bfd0867774845</td>\n",
       "      <td>good to know about me yeah i am studying now d...</td>\n",
       "      <td>0</td>\n",
       "      <td>0</td>\n",
       "      <td>0</td>\n",
       "      <td>0</td>\n",
       "      <td>0</td>\n",
       "      <td>0</td>\n",
       "      <td>7</td>\n",
       "      <td>7</td>\n",
       "    </tr>\n",
       "    <tr>\n",
       "      <th>22</th>\n",
       "      <td>000c0dfd995809fa</td>\n",
       "      <td>snowflakes are not always symmetrical under ge...</td>\n",
       "      <td>0</td>\n",
       "      <td>0</td>\n",
       "      <td>0</td>\n",
       "      <td>0</td>\n",
       "      <td>0</td>\n",
       "      <td>0</td>\n",
       "      <td>0</td>\n",
       "      <td>0</td>\n",
       "    </tr>\n",
       "    <tr>\n",
       "      <th>23</th>\n",
       "      <td>000c6a3f0cd3ba8e</td>\n",
       "      <td>the signpost september read this signpost in f...</td>\n",
       "      <td>0</td>\n",
       "      <td>0</td>\n",
       "      <td>0</td>\n",
       "      <td>0</td>\n",
       "      <td>0</td>\n",
       "      <td>0</td>\n",
       "      <td>3</td>\n",
       "      <td>1</td>\n",
       "    </tr>\n",
       "    <tr>\n",
       "      <th>24</th>\n",
       "      <td>000cfee90f50d471</td>\n",
       "      <td>re considering st paragraph edit i do not unde...</td>\n",
       "      <td>0</td>\n",
       "      <td>0</td>\n",
       "      <td>0</td>\n",
       "      <td>0</td>\n",
       "      <td>0</td>\n",
       "      <td>0</td>\n",
       "      <td>0</td>\n",
       "      <td>0</td>\n",
       "    </tr>\n",
       "    <tr>\n",
       "      <th>25</th>\n",
       "      <td>000eefc67a2c930f</td>\n",
       "      <td>radial symmetry several now extinct lineages i...</td>\n",
       "      <td>0</td>\n",
       "      <td>0</td>\n",
       "      <td>0</td>\n",
       "      <td>0</td>\n",
       "      <td>0</td>\n",
       "      <td>0</td>\n",
       "      <td>-1</td>\n",
       "      <td>-1</td>\n",
       "    </tr>\n",
       "    <tr>\n",
       "      <th>26</th>\n",
       "      <td>000f35deef84dc4a</td>\n",
       "      <td>there no need to apologize a wikipedia article...</td>\n",
       "      <td>0</td>\n",
       "      <td>0</td>\n",
       "      <td>0</td>\n",
       "      <td>0</td>\n",
       "      <td>0</td>\n",
       "      <td>0</td>\n",
       "      <td>0</td>\n",
       "      <td>0</td>\n",
       "    </tr>\n",
       "    <tr>\n",
       "      <th>27</th>\n",
       "      <td>000ffab30195c5e1</td>\n",
       "      <td>yes because the mother of the child in the cas...</td>\n",
       "      <td>0</td>\n",
       "      <td>0</td>\n",
       "      <td>0</td>\n",
       "      <td>0</td>\n",
       "      <td>0</td>\n",
       "      <td>0</td>\n",
       "      <td>-2</td>\n",
       "      <td>-2</td>\n",
       "    </tr>\n",
       "    <tr>\n",
       "      <th>28</th>\n",
       "      <td>0010307a3a50a353</td>\n",
       "      <td>ok but it will take a bit of work but i cannot...</td>\n",
       "      <td>0</td>\n",
       "      <td>0</td>\n",
       "      <td>0</td>\n",
       "      <td>0</td>\n",
       "      <td>0</td>\n",
       "      <td>0</td>\n",
       "      <td>-8</td>\n",
       "      <td>-1</td>\n",
       "    </tr>\n",
       "    <tr>\n",
       "      <th>29</th>\n",
       "      <td>0010833a96e1f886</td>\n",
       "      <td>a barnstar for you the real life barnstar lets...</td>\n",
       "      <td>0</td>\n",
       "      <td>0</td>\n",
       "      <td>0</td>\n",
       "      <td>0</td>\n",
       "      <td>0</td>\n",
       "      <td>0</td>\n",
       "      <td>2</td>\n",
       "      <td>2</td>\n",
       "    </tr>\n",
       "    <tr>\n",
       "      <th>...</th>\n",
       "      <td>...</td>\n",
       "      <td>...</td>\n",
       "      <td>...</td>\n",
       "      <td>...</td>\n",
       "      <td>...</td>\n",
       "      <td>...</td>\n",
       "      <td>...</td>\n",
       "      <td>...</td>\n",
       "      <td>...</td>\n",
       "      <td>...</td>\n",
       "    </tr>\n",
       "    <tr>\n",
       "      <th>159541</th>\n",
       "      <td>ffa33d3122b599d6</td>\n",
       "      <td>your absurd edits your absurd edits on great w...</td>\n",
       "      <td>1</td>\n",
       "      <td>0</td>\n",
       "      <td>1</td>\n",
       "      <td>0</td>\n",
       "      <td>1</td>\n",
       "      <td>0</td>\n",
       "      <td>0</td>\n",
       "      <td>0</td>\n",
       "    </tr>\n",
       "    <tr>\n",
       "      <th>159542</th>\n",
       "      <td>ffa95244f261527f</td>\n",
       "      <td>maybe he got better things to do than spend al...</td>\n",
       "      <td>0</td>\n",
       "      <td>0</td>\n",
       "      <td>0</td>\n",
       "      <td>0</td>\n",
       "      <td>0</td>\n",
       "      <td>0</td>\n",
       "      <td>3</td>\n",
       "      <td>3</td>\n",
       "    </tr>\n",
       "    <tr>\n",
       "      <th>159543</th>\n",
       "      <td>ffad104337fe9891</td>\n",
       "      <td>scrap that it does meet criteria and its gone ...</td>\n",
       "      <td>0</td>\n",
       "      <td>0</td>\n",
       "      <td>0</td>\n",
       "      <td>0</td>\n",
       "      <td>0</td>\n",
       "      <td>0</td>\n",
       "      <td>0</td>\n",
       "      <td>0</td>\n",
       "    </tr>\n",
       "    <tr>\n",
       "      <th>159544</th>\n",
       "      <td>ffaed63c487a2b42</td>\n",
       "      <td>you could do worse polaritynegativefour</td>\n",
       "      <td>0</td>\n",
       "      <td>0</td>\n",
       "      <td>0</td>\n",
       "      <td>0</td>\n",
       "      <td>0</td>\n",
       "      <td>0</td>\n",
       "      <td>-4</td>\n",
       "      <td>-4</td>\n",
       "    </tr>\n",
       "    <tr>\n",
       "      <th>159545</th>\n",
       "      <td>ffb268f37788a011</td>\n",
       "      <td>march utc are you also user bmattson what is t...</td>\n",
       "      <td>0</td>\n",
       "      <td>0</td>\n",
       "      <td>0</td>\n",
       "      <td>0</td>\n",
       "      <td>0</td>\n",
       "      <td>0</td>\n",
       "      <td>0</td>\n",
       "      <td>0</td>\n",
       "    </tr>\n",
       "    <tr>\n",
       "      <th>159546</th>\n",
       "      <td>ffb47123b2d82762</td>\n",
       "      <td>hey listen do not you ever delete my edits eve...</td>\n",
       "      <td>1</td>\n",
       "      <td>0</td>\n",
       "      <td>0</td>\n",
       "      <td>0</td>\n",
       "      <td>1</td>\n",
       "      <td>0</td>\n",
       "      <td>-1</td>\n",
       "      <td>-2</td>\n",
       "    </tr>\n",
       "    <tr>\n",
       "      <th>159547</th>\n",
       "      <td>ffb7b4c3d3ae5842</td>\n",
       "      <td>thank you very very much polaritypositivetwo</td>\n",
       "      <td>0</td>\n",
       "      <td>0</td>\n",
       "      <td>0</td>\n",
       "      <td>0</td>\n",
       "      <td>0</td>\n",
       "      <td>0</td>\n",
       "      <td>2</td>\n",
       "      <td>2</td>\n",
       "    </tr>\n",
       "    <tr>\n",
       "      <th>159548</th>\n",
       "      <td>ffb93b0a0a1e78f9</td>\n",
       "      <td>talkback september polarityneutralzero</td>\n",
       "      <td>0</td>\n",
       "      <td>0</td>\n",
       "      <td>0</td>\n",
       "      <td>0</td>\n",
       "      <td>0</td>\n",
       "      <td>0</td>\n",
       "      <td>0</td>\n",
       "      <td>0</td>\n",
       "    </tr>\n",
       "    <tr>\n",
       "      <th>159549</th>\n",
       "      <td>ffb998f9749bd83e</td>\n",
       "      <td>utc mar polarityneutralzero</td>\n",
       "      <td>0</td>\n",
       "      <td>0</td>\n",
       "      <td>0</td>\n",
       "      <td>0</td>\n",
       "      <td>0</td>\n",
       "      <td>0</td>\n",
       "      <td>0</td>\n",
       "      <td>0</td>\n",
       "    </tr>\n",
       "    <tr>\n",
       "      <th>159550</th>\n",
       "      <td>ffba5332d6b8fd14</td>\n",
       "      <td>i agree on another note lil wayne is a talentl...</td>\n",
       "      <td>0</td>\n",
       "      <td>0</td>\n",
       "      <td>0</td>\n",
       "      <td>0</td>\n",
       "      <td>0</td>\n",
       "      <td>0</td>\n",
       "      <td>1</td>\n",
       "      <td>1</td>\n",
       "    </tr>\n",
       "    <tr>\n",
       "      <th>159551</th>\n",
       "      <td>ffbc2db4225258dd</td>\n",
       "      <td>while about half the references are from byu i...</td>\n",
       "      <td>0</td>\n",
       "      <td>0</td>\n",
       "      <td>0</td>\n",
       "      <td>0</td>\n",
       "      <td>0</td>\n",
       "      <td>0</td>\n",
       "      <td>1</td>\n",
       "      <td>1</td>\n",
       "    </tr>\n",
       "    <tr>\n",
       "      <th>159552</th>\n",
       "      <td>ffbcd64a71775e04</td>\n",
       "      <td>prague spring i think that prague spring deser...</td>\n",
       "      <td>0</td>\n",
       "      <td>0</td>\n",
       "      <td>0</td>\n",
       "      <td>0</td>\n",
       "      <td>0</td>\n",
       "      <td>0</td>\n",
       "      <td>5</td>\n",
       "      <td>5</td>\n",
       "    </tr>\n",
       "    <tr>\n",
       "      <th>159553</th>\n",
       "      <td>ffbd331a3aa269b9</td>\n",
       "      <td>i see this as having been merged undoing one s...</td>\n",
       "      <td>0</td>\n",
       "      <td>0</td>\n",
       "      <td>0</td>\n",
       "      <td>0</td>\n",
       "      <td>0</td>\n",
       "      <td>0</td>\n",
       "      <td>1</td>\n",
       "      <td>1</td>\n",
       "    </tr>\n",
       "    <tr>\n",
       "      <th>159554</th>\n",
       "      <td>ffbdbb0483ed0841</td>\n",
       "      <td>and i am going to keep posting the stuff u del...</td>\n",
       "      <td>1</td>\n",
       "      <td>0</td>\n",
       "      <td>1</td>\n",
       "      <td>0</td>\n",
       "      <td>1</td>\n",
       "      <td>0</td>\n",
       "      <td>-3</td>\n",
       "      <td>-3</td>\n",
       "    </tr>\n",
       "    <tr>\n",
       "      <th>159555</th>\n",
       "      <td>ffc2f409658571f1</td>\n",
       "      <td>how come when you download that mp it titled o...</td>\n",
       "      <td>0</td>\n",
       "      <td>0</td>\n",
       "      <td>0</td>\n",
       "      <td>0</td>\n",
       "      <td>0</td>\n",
       "      <td>0</td>\n",
       "      <td>0</td>\n",
       "      <td>0</td>\n",
       "    </tr>\n",
       "    <tr>\n",
       "      <th>159556</th>\n",
       "      <td>ffc671f2acdd80e1</td>\n",
       "      <td>i will be on irc too if you have a more specif...</td>\n",
       "      <td>0</td>\n",
       "      <td>0</td>\n",
       "      <td>0</td>\n",
       "      <td>0</td>\n",
       "      <td>0</td>\n",
       "      <td>0</td>\n",
       "      <td>2</td>\n",
       "      <td>2</td>\n",
       "    </tr>\n",
       "    <tr>\n",
       "      <th>159557</th>\n",
       "      <td>ffc7bbb177c3c966</td>\n",
       "      <td>it is my opinion that that happens to be off t...</td>\n",
       "      <td>0</td>\n",
       "      <td>0</td>\n",
       "      <td>0</td>\n",
       "      <td>0</td>\n",
       "      <td>0</td>\n",
       "      <td>0</td>\n",
       "      <td>2</td>\n",
       "      <td>2</td>\n",
       "    </tr>\n",
       "    <tr>\n",
       "      <th>159558</th>\n",
       "      <td>ffca1e81aefc48ac</td>\n",
       "      <td>please stop removing content from wikipedia it...</td>\n",
       "      <td>0</td>\n",
       "      <td>0</td>\n",
       "      <td>0</td>\n",
       "      <td>0</td>\n",
       "      <td>0</td>\n",
       "      <td>0</td>\n",
       "      <td>0</td>\n",
       "      <td>0</td>\n",
       "    </tr>\n",
       "    <tr>\n",
       "      <th>159559</th>\n",
       "      <td>ffca8d71d71a3fae</td>\n",
       "      <td>image barack obama mother jpg listed for delet...</td>\n",
       "      <td>0</td>\n",
       "      <td>0</td>\n",
       "      <td>0</td>\n",
       "      <td>0</td>\n",
       "      <td>0</td>\n",
       "      <td>0</td>\n",
       "      <td>2</td>\n",
       "      <td>2</td>\n",
       "    </tr>\n",
       "    <tr>\n",
       "      <th>159560</th>\n",
       "      <td>ffcdcb71854f6d8a</td>\n",
       "      <td>editing of article without consensus removal o...</td>\n",
       "      <td>0</td>\n",
       "      <td>0</td>\n",
       "      <td>0</td>\n",
       "      <td>0</td>\n",
       "      <td>0</td>\n",
       "      <td>0</td>\n",
       "      <td>1</td>\n",
       "      <td>1</td>\n",
       "    </tr>\n",
       "    <tr>\n",
       "      <th>159561</th>\n",
       "      <td>ffd2e85b07b3c7e4</td>\n",
       "      <td>no he did not read it again i would have thoug...</td>\n",
       "      <td>0</td>\n",
       "      <td>0</td>\n",
       "      <td>0</td>\n",
       "      <td>0</td>\n",
       "      <td>0</td>\n",
       "      <td>0</td>\n",
       "      <td>2</td>\n",
       "      <td>2</td>\n",
       "    </tr>\n",
       "    <tr>\n",
       "      <th>159562</th>\n",
       "      <td>ffd72e9766c09c97</td>\n",
       "      <td>auto guides and the motoring press are not goo...</td>\n",
       "      <td>0</td>\n",
       "      <td>0</td>\n",
       "      <td>0</td>\n",
       "      <td>0</td>\n",
       "      <td>0</td>\n",
       "      <td>0</td>\n",
       "      <td>0</td>\n",
       "      <td>0</td>\n",
       "    </tr>\n",
       "    <tr>\n",
       "      <th>159563</th>\n",
       "      <td>ffe029a7c79dc7fe</td>\n",
       "      <td>please identify what part of blp applies becau...</td>\n",
       "      <td>0</td>\n",
       "      <td>0</td>\n",
       "      <td>0</td>\n",
       "      <td>0</td>\n",
       "      <td>0</td>\n",
       "      <td>0</td>\n",
       "      <td>0</td>\n",
       "      <td>0</td>\n",
       "    </tr>\n",
       "    <tr>\n",
       "      <th>159564</th>\n",
       "      <td>ffe897e7f7182c90</td>\n",
       "      <td>catalan independentism is the social movement ...</td>\n",
       "      <td>0</td>\n",
       "      <td>0</td>\n",
       "      <td>0</td>\n",
       "      <td>0</td>\n",
       "      <td>0</td>\n",
       "      <td>0</td>\n",
       "      <td>1</td>\n",
       "      <td>1</td>\n",
       "    </tr>\n",
       "    <tr>\n",
       "      <th>159565</th>\n",
       "      <td>ffe8b9316245be30</td>\n",
       "      <td>the numbers in parentheses are the additional ...</td>\n",
       "      <td>0</td>\n",
       "      <td>0</td>\n",
       "      <td>0</td>\n",
       "      <td>0</td>\n",
       "      <td>0</td>\n",
       "      <td>0</td>\n",
       "      <td>1</td>\n",
       "      <td>1</td>\n",
       "    </tr>\n",
       "    <tr>\n",
       "      <th>159566</th>\n",
       "      <td>ffe987279560d7ff</td>\n",
       "      <td>and for the second time of asking when your vi...</td>\n",
       "      <td>0</td>\n",
       "      <td>0</td>\n",
       "      <td>0</td>\n",
       "      <td>0</td>\n",
       "      <td>0</td>\n",
       "      <td>0</td>\n",
       "      <td>2</td>\n",
       "      <td>2</td>\n",
       "    </tr>\n",
       "    <tr>\n",
       "      <th>159567</th>\n",
       "      <td>ffea4adeee384e90</td>\n",
       "      <td>you should be ashamed of yourself that is a ho...</td>\n",
       "      <td>0</td>\n",
       "      <td>0</td>\n",
       "      <td>0</td>\n",
       "      <td>0</td>\n",
       "      <td>0</td>\n",
       "      <td>0</td>\n",
       "      <td>-10</td>\n",
       "      <td>-10</td>\n",
       "    </tr>\n",
       "    <tr>\n",
       "      <th>159568</th>\n",
       "      <td>ffee36eab5c267c9</td>\n",
       "      <td>spitzer umm theres no actual article for prost...</td>\n",
       "      <td>0</td>\n",
       "      <td>0</td>\n",
       "      <td>0</td>\n",
       "      <td>0</td>\n",
       "      <td>0</td>\n",
       "      <td>0</td>\n",
       "      <td>0</td>\n",
       "      <td>0</td>\n",
       "    </tr>\n",
       "    <tr>\n",
       "      <th>159569</th>\n",
       "      <td>fff125370e4aaaf3</td>\n",
       "      <td>and it looks like it was actually you who put ...</td>\n",
       "      <td>0</td>\n",
       "      <td>0</td>\n",
       "      <td>0</td>\n",
       "      <td>0</td>\n",
       "      <td>0</td>\n",
       "      <td>0</td>\n",
       "      <td>1</td>\n",
       "      <td>1</td>\n",
       "    </tr>\n",
       "    <tr>\n",
       "      <th>159570</th>\n",
       "      <td>fff46fc426af1f9a</td>\n",
       "      <td>and i really do not think you understand i cam...</td>\n",
       "      <td>0</td>\n",
       "      <td>0</td>\n",
       "      <td>0</td>\n",
       "      <td>0</td>\n",
       "      <td>0</td>\n",
       "      <td>0</td>\n",
       "      <td>0</td>\n",
       "      <td>-1</td>\n",
       "    </tr>\n",
       "  </tbody>\n",
       "</table>\n",
       "<p>159571 rows × 10 columns</p>\n",
       "</div>"
      ],
      "text/plain": [
       "                      id                                       comment_text  \\\n",
       "0       0000997932d777bf  explanation why the edits made under my userna...   \n",
       "1       000103f0d9cfb60f  d aww he matches this background colour i am s...   \n",
       "2       000113f07ec002fd  hey man i am really not trying to edit war it ...   \n",
       "3       0001b41b1c6bb37e  more i cannot make any real suggestions on imp...   \n",
       "4       0001d958c54c6e35  you sir are my hero any chance you remember wh...   \n",
       "5       00025465d4725e87  congratulations from me as well use the tools ...   \n",
       "6       0002bcb3da6cb337  cocksucker before you piss around on my work p...   \n",
       "7       00031b1e95af7921  your vandalism to the matt shirvington article...   \n",
       "8       00037261f536c51d  sorry if the word nonsense was offensive to yo...   \n",
       "9       00040093b2687caa  alignment on this subject and which are contra...   \n",
       "10      0005300084f90edc  fair use rationale for image wonju jpg thanks ...   \n",
       "11      00054a5e18b50dd4  bbq be a man and lets discuss it maybe over th...   \n",
       "12      0005c987bdfc9d4b  hey what is it talk what is it an exclusive gr...   \n",
       "13      0006f16e4e9f292e  before you start throwing accusations and warn...   \n",
       "14      00070ef96486d6f9  oh and the girl above started her arguments wi...   \n",
       "15      00078f8ce7eb276d  juelz santanas age in juelz santana was years ...   \n",
       "16      0007e25b2121310b  bye do not look come or think of comming back ...   \n",
       "17      000897889268bc93  redirect talk voydan pop georgiev chernodrinsk...   \n",
       "18      0009801bd85e5806  the mitsurugi point made no sense why not argu...   \n",
       "19      0009eaea3325de8c  do not mean to bother you i see that you are w...   \n",
       "20      000b08c464718505  regarding your recent edits once again please ...   \n",
       "21      000bfd0867774845  good to know about me yeah i am studying now d...   \n",
       "22      000c0dfd995809fa  snowflakes are not always symmetrical under ge...   \n",
       "23      000c6a3f0cd3ba8e  the signpost september read this signpost in f...   \n",
       "24      000cfee90f50d471  re considering st paragraph edit i do not unde...   \n",
       "25      000eefc67a2c930f  radial symmetry several now extinct lineages i...   \n",
       "26      000f35deef84dc4a  there no need to apologize a wikipedia article...   \n",
       "27      000ffab30195c5e1  yes because the mother of the child in the cas...   \n",
       "28      0010307a3a50a353  ok but it will take a bit of work but i cannot...   \n",
       "29      0010833a96e1f886  a barnstar for you the real life barnstar lets...   \n",
       "...                  ...                                                ...   \n",
       "159541  ffa33d3122b599d6  your absurd edits your absurd edits on great w...   \n",
       "159542  ffa95244f261527f  maybe he got better things to do than spend al...   \n",
       "159543  ffad104337fe9891  scrap that it does meet criteria and its gone ...   \n",
       "159544  ffaed63c487a2b42            you could do worse polaritynegativefour   \n",
       "159545  ffb268f37788a011  march utc are you also user bmattson what is t...   \n",
       "159546  ffb47123b2d82762  hey listen do not you ever delete my edits eve...   \n",
       "159547  ffb7b4c3d3ae5842       thank you very very much polaritypositivetwo   \n",
       "159548  ffb93b0a0a1e78f9             talkback september polarityneutralzero   \n",
       "159549  ffb998f9749bd83e                        utc mar polarityneutralzero   \n",
       "159550  ffba5332d6b8fd14  i agree on another note lil wayne is a talentl...   \n",
       "159551  ffbc2db4225258dd  while about half the references are from byu i...   \n",
       "159552  ffbcd64a71775e04  prague spring i think that prague spring deser...   \n",
       "159553  ffbd331a3aa269b9  i see this as having been merged undoing one s...   \n",
       "159554  ffbdbb0483ed0841  and i am going to keep posting the stuff u del...   \n",
       "159555  ffc2f409658571f1  how come when you download that mp it titled o...   \n",
       "159556  ffc671f2acdd80e1  i will be on irc too if you have a more specif...   \n",
       "159557  ffc7bbb177c3c966  it is my opinion that that happens to be off t...   \n",
       "159558  ffca1e81aefc48ac  please stop removing content from wikipedia it...   \n",
       "159559  ffca8d71d71a3fae  image barack obama mother jpg listed for delet...   \n",
       "159560  ffcdcb71854f6d8a  editing of article without consensus removal o...   \n",
       "159561  ffd2e85b07b3c7e4  no he did not read it again i would have thoug...   \n",
       "159562  ffd72e9766c09c97  auto guides and the motoring press are not goo...   \n",
       "159563  ffe029a7c79dc7fe  please identify what part of blp applies becau...   \n",
       "159564  ffe897e7f7182c90  catalan independentism is the social movement ...   \n",
       "159565  ffe8b9316245be30  the numbers in parentheses are the additional ...   \n",
       "159566  ffe987279560d7ff  and for the second time of asking when your vi...   \n",
       "159567  ffea4adeee384e90  you should be ashamed of yourself that is a ho...   \n",
       "159568  ffee36eab5c267c9  spitzer umm theres no actual article for prost...   \n",
       "159569  fff125370e4aaaf3  and it looks like it was actually you who put ...   \n",
       "159570  fff46fc426af1f9a  and i really do not think you understand i cam...   \n",
       "\n",
       "        toxic  severe_toxic  obscene  threat  insult  identity_hate  polarity  \\\n",
       "0           0             0        0       0       0              0         1   \n",
       "1           0             0        0       0       0              0         2   \n",
       "2           0             0        0       0       0              0         1   \n",
       "3           0             0        0       0       0              0         2   \n",
       "4           0             0        0       0       0              0         0   \n",
       "5           0             0        0       0       0              0         0   \n",
       "6           1             1        1       0       1              0         0   \n",
       "7           0             0        0       0       0              0         0   \n",
       "8           0             0        0       0       0              0        -1   \n",
       "9           0             0        0       0       0              0        -1   \n",
       "10          0             0        0       0       0              0         2   \n",
       "11          0             0        0       0       0              0         0   \n",
       "12          1             0        0       0       0              0         0   \n",
       "13          0             0        0       0       0              0         1   \n",
       "14          0             0        0       0       0              0         1   \n",
       "15          0             0        0       0       0              0         1   \n",
       "16          1             0        0       0       0              0         0   \n",
       "17          0             0        0       0       0              0         0   \n",
       "18          0             0        0       0       0              0         5   \n",
       "19          0             0        0       0       0              0         2   \n",
       "20          0             0        0       0       0              0         0   \n",
       "21          0             0        0       0       0              0         7   \n",
       "22          0             0        0       0       0              0         0   \n",
       "23          0             0        0       0       0              0         3   \n",
       "24          0             0        0       0       0              0         0   \n",
       "25          0             0        0       0       0              0        -1   \n",
       "26          0             0        0       0       0              0         0   \n",
       "27          0             0        0       0       0              0        -2   \n",
       "28          0             0        0       0       0              0        -8   \n",
       "29          0             0        0       0       0              0         2   \n",
       "...       ...           ...      ...     ...     ...            ...       ...   \n",
       "159541      1             0        1       0       1              0         0   \n",
       "159542      0             0        0       0       0              0         3   \n",
       "159543      0             0        0       0       0              0         0   \n",
       "159544      0             0        0       0       0              0        -4   \n",
       "159545      0             0        0       0       0              0         0   \n",
       "159546      1             0        0       0       1              0        -1   \n",
       "159547      0             0        0       0       0              0         2   \n",
       "159548      0             0        0       0       0              0         0   \n",
       "159549      0             0        0       0       0              0         0   \n",
       "159550      0             0        0       0       0              0         1   \n",
       "159551      0             0        0       0       0              0         1   \n",
       "159552      0             0        0       0       0              0         5   \n",
       "159553      0             0        0       0       0              0         1   \n",
       "159554      1             0        1       0       1              0        -3   \n",
       "159555      0             0        0       0       0              0         0   \n",
       "159556      0             0        0       0       0              0         2   \n",
       "159557      0             0        0       0       0              0         2   \n",
       "159558      0             0        0       0       0              0         0   \n",
       "159559      0             0        0       0       0              0         2   \n",
       "159560      0             0        0       0       0              0         1   \n",
       "159561      0             0        0       0       0              0         2   \n",
       "159562      0             0        0       0       0              0         0   \n",
       "159563      0             0        0       0       0              0         0   \n",
       "159564      0             0        0       0       0              0         1   \n",
       "159565      0             0        0       0       0              0         1   \n",
       "159566      0             0        0       0       0              0         2   \n",
       "159567      0             0        0       0       0              0       -10   \n",
       "159568      0             0        0       0       0              0         0   \n",
       "159569      0             0        0       0       0              0         1   \n",
       "159570      0             0        0       0       0              0         0   \n",
       "\n",
       "        polarity_clean  \n",
       "0                    1  \n",
       "1                    2  \n",
       "2                    1  \n",
       "3                    2  \n",
       "4                    0  \n",
       "5                    0  \n",
       "6                    0  \n",
       "7                    0  \n",
       "8                   -1  \n",
       "9                   -1  \n",
       "10                   3  \n",
       "11                   0  \n",
       "12                   0  \n",
       "13                   1  \n",
       "14                   1  \n",
       "15                   1  \n",
       "16                   0  \n",
       "17                   0  \n",
       "18                   5  \n",
       "19                   3  \n",
       "20                   0  \n",
       "21                   7  \n",
       "22                   0  \n",
       "23                   1  \n",
       "24                   0  \n",
       "25                  -1  \n",
       "26                   0  \n",
       "27                  -2  \n",
       "28                  -1  \n",
       "29                   2  \n",
       "...                ...  \n",
       "159541               0  \n",
       "159542               3  \n",
       "159543               0  \n",
       "159544              -4  \n",
       "159545               0  \n",
       "159546              -2  \n",
       "159547               2  \n",
       "159548               0  \n",
       "159549               0  \n",
       "159550               1  \n",
       "159551               1  \n",
       "159552               5  \n",
       "159553               1  \n",
       "159554              -3  \n",
       "159555               0  \n",
       "159556               2  \n",
       "159557               2  \n",
       "159558               0  \n",
       "159559               2  \n",
       "159560               1  \n",
       "159561               2  \n",
       "159562               0  \n",
       "159563               0  \n",
       "159564               1  \n",
       "159565               1  \n",
       "159566               2  \n",
       "159567             -10  \n",
       "159568               0  \n",
       "159569               1  \n",
       "159570              -1  \n",
       "\n",
       "[159571 rows x 10 columns]"
      ]
     },
     "execution_count": 40,
     "metadata": {},
     "output_type": "execute_result"
    }
   ],
   "source": [
    "train_df_pol"
   ]
  },
  {
   "cell_type": "code",
   "execution_count": 41,
   "metadata": {},
   "outputs": [
    {
     "data": {
      "text/plain": [
       "TfidfVectorizer(analyzer='word', binary=False, decode_error='strict',\n",
       "        dtype=<class 'numpy.int64'>, encoding='utf-8', input='content',\n",
       "        lowercase=True, max_df=1.0, max_features=40000, min_df=1,\n",
       "        ngram_range=(1, 1), norm='l2', preprocessor=None, smooth_idf=True,\n",
       "        stop_words='english', strip_accents=None, sublinear_tf=False,\n",
       "        token_pattern='(?u)\\\\b\\\\w\\\\w+\\\\b', tokenizer=None, use_idf=True,\n",
       "        vocabulary=None)"
      ]
     },
     "execution_count": 41,
     "metadata": {},
     "output_type": "execute_result"
    }
   ],
   "source": [
    "vect_clean = TfidfVectorizer(max_features=40000,stop_words='english')\n",
    "vect_clean"
   ]
  },
  {
   "cell_type": "code",
   "execution_count": 42,
   "metadata": {
    "collapsed": true
   },
   "outputs": [],
   "source": [
    "X = train_df_pol.comment_text\n",
    "test_X = test_df_pol.comment_text"
   ]
  },
  {
   "cell_type": "code",
   "execution_count": 43,
   "metadata": {},
   "outputs": [
    {
     "data": {
      "text/plain": [
       "<159571x40000 sparse matrix of type '<class 'numpy.float64'>'\n",
       "\twith 3826501 stored elements in Compressed Sparse Row format>"
      ]
     },
     "execution_count": 43,
     "metadata": {},
     "output_type": "execute_result"
    }
   ],
   "source": [
    "# learn the vocabulary in the training data, then use it to create a document-term matrix\n",
    "X_dtm = vect_clean.fit_transform(X)\n",
    "# examine the document-term matrix created from X_train\n",
    "X_dtm"
   ]
  },
  {
   "cell_type": "code",
   "execution_count": 44,
   "metadata": {},
   "outputs": [
    {
     "data": {
      "text/plain": [
       "<153164x40000 sparse matrix of type '<class 'numpy.float64'>'\n",
       "\twith 3236274 stored elements in Compressed Sparse Row format>"
      ]
     },
     "execution_count": 44,
     "metadata": {},
     "output_type": "execute_result"
    }
   ],
   "source": [
    "test_X_dtm = vect_clean.transform(test_X)\n",
    "# examine the document-term matrix from X_test\n",
    "test_X_dtm"
   ]
  },
  {
   "cell_type": "code",
   "execution_count": 45,
   "metadata": {},
   "outputs": [
    {
     "name": "stdout",
     "output_type": "stream",
     "text": [
      "... Processing toxic\n",
      "toxic is:  90.415551698\n",
      "Training accuracy is         97.89310087672573\n",
      "Increase from Base accuracy is 7.477549178735487\n",
      "\n",
      "__________________________________________________\n",
      "... Processing severe_toxic\n",
      "severe_toxic is:  99.000444943\n",
      "Training accuracy is         99.42658753783581\n",
      "Increase from Base accuracy is 0.4261425948323847\n",
      "\n",
      "__________________________________________________\n",
      "... Processing obscene\n",
      "obscene is:  94.7051782592\n",
      "Training accuracy is         98.99856490214387\n",
      "Increase from Base accuracy is 4.293386642936369\n",
      "\n",
      "__________________________________________________\n",
      "... Processing threat\n",
      "threat is:  99.700446823\n",
      "Training accuracy is         99.86463705811207\n",
      "Increase from Base accuracy is 0.1641902350677782\n",
      "\n",
      "__________________________________________________\n",
      "... Processing insult\n",
      "insult is:  95.0636393831\n",
      "Training accuracy is         98.46525997831687\n",
      "Increase from Base accuracy is 3.4016205952209475\n",
      "\n",
      "__________________________________________________\n",
      "... Processing identity_hate\n",
      "identity_hate is:  99.1195141974\n",
      "Training accuracy is         99.604564739207\n",
      "Increase from Base accuracy is 0.4850505417651192\n",
      "\n",
      "__________________________________________________\n"
     ]
    }
   ],
   "source": [
    "logreg = LogisticRegression(C=12.0)\n",
    "\n",
    "# create submission file\n",
    "submission_binary_pol = pd.read_csv(\"output/sample_submission.csv\")\n",
    "\n",
    "clean_change_acc_bin = []\n",
    "for i,label in enumerate(target):\n",
    "    print('... Processing {}'.format(label))\n",
    "    print(label+\" is: \",base_accuracy[i])\n",
    "    y = train_df_pol[label]\n",
    "    # train the model using X_dtm & y\n",
    "    logreg.fit(X_dtm, y)\n",
    "    # compute the training accuracy\n",
    "    y_pred_X = logreg.predict(X_dtm)\n",
    "    print('Training accuracy is         {}'.format(accuracy_score(y, y_pred_X)*100))\n",
    "    print(\"Increase from Base accuracy is {}\".format(accuracy_score(y, y_pred_X)*100 - base_accuracy[i]))\n",
    "    clean_change_acc_bin.append(accuracy_score(y, y_pred_X)*100 - base_accuracy[i])\n",
    "    print(\"\")\n",
    "    print(50*'_')\n",
    "    # compute the predicted probabilities for X_test_dtm\n",
    "    test_y_prob = logreg.predict_proba(test_X_dtm)[:,1]\n",
    "    submission_binary_pol[label] = test_y_prob"
   ]
  },
  {
   "cell_type": "code",
   "execution_count": 46,
   "metadata": {},
   "outputs": [
    {
     "name": "stdout",
     "output_type": "stream",
     "text": [
      "... Processing toxic\n",
      "Base Accuracy for toxic is:  90.415551698\n",
      "Training Accuracy is 97.89310087672573\n",
      "Increase from Base accuracy is 7.477549178735487\n",
      "\n",
      "Shape of X_dtm is now (159571, 40001)\n",
      "Shape of test_X_dtm is now (153164, 40001)\n",
      "\n",
      "__________________________________________________\n",
      "... Processing severe_toxic\n",
      "Base Accuracy for severe_toxic is:  99.000444943\n",
      "Training Accuracy is 99.51118937651579\n",
      "Increase from Base accuracy is 0.5107444335123574\n",
      "\n",
      "Shape of X_dtm is now (159571, 40002)\n",
      "Shape of test_X_dtm is now (153164, 40002)\n",
      "\n",
      "__________________________________________________\n",
      "... Processing obscene\n",
      "Base Accuracy for obscene is:  94.7051782592\n",
      "Training Accuracy is 99.14082132718352\n",
      "Increase from Base accuracy is 4.435643067976017\n",
      "\n",
      "Shape of X_dtm is now (159571, 40003)\n",
      "Shape of test_X_dtm is now (153164, 40003)\n",
      "\n",
      "__________________________________________________\n",
      "... Processing threat\n",
      "Base Accuracy for threat is:  99.700446823\n",
      "Training Accuracy is 99.89471771186493\n",
      "Increase from Base accuracy is 0.1942708888206397\n",
      "\n",
      "Shape of X_dtm is now (159571, 40004)\n",
      "Shape of test_X_dtm is now (153164, 40004)\n",
      "\n",
      "__________________________________________________\n",
      "... Processing insult\n",
      "Base Accuracy for insult is:  95.0636393831\n",
      "Training Accuracy is 98.91521642403694\n",
      "Increase from Base accuracy is 3.8515770409410237\n",
      "\n",
      "Shape of X_dtm is now (159571, 40005)\n",
      "Shape of test_X_dtm is now (153164, 40005)\n",
      "\n",
      "__________________________________________________\n",
      "... Processing identity_hate\n",
      "Base Accuracy for identity_hate is:  99.1195141974\n",
      "Training Accuracy is 99.7317808373702\n",
      "Increase from Base accuracy is 0.6122666399283077\n",
      "\n",
      "Shape of X_dtm is now (159571, 40006)\n",
      "Shape of test_X_dtm is now (153164, 40006)\n",
      "\n",
      "__________________________________________________\n"
     ]
    }
   ],
   "source": [
    "# create submission file\n",
    "submission_chains_pol = pd.read_csv(\"output/sample_submission.csv\")\n",
    "\n",
    "clean_change_acc_chain = []\n",
    "for i,label in enumerate(target):\n",
    "    print('... Processing {}'.format(label))\n",
    "    print(\"Base Accuracy for \"+label+\" is: \",base_accuracy[i])\n",
    "    \n",
    "    y = train_df_pol[label]\n",
    "    \n",
    "    # train the model using X_dtm & y\n",
    "    logreg.fit(X_dtm,y)\n",
    "    \n",
    "    # compute the training accuracy\n",
    "    y_pred_X = logreg.predict(X_dtm)\n",
    "    print('Training Accuracy is {}'.format(accuracy_score(y,y_pred_X)*100))\n",
    "    print(\"Increase from Base accuracy is {}\".format(accuracy_score(y, y_pred_X)*100 - base_accuracy[i]))\n",
    "    clean_change_acc_chain.append(accuracy_score(y, y_pred_X)*100 - base_accuracy[i])\n",
    "    print(\"\")\n",
    "    # make predictions from test_X\n",
    "    test_y = logreg.predict(test_X_dtm)\n",
    "    test_y_prob = logreg.predict_proba(test_X_dtm)[:,1]\n",
    "    submission_chains_pol[label] = test_y_prob\n",
    "    \n",
    "    # chain current label to X_dtm\n",
    "    X_dtm = add_feature(X_dtm, y)\n",
    "    print('Shape of X_dtm is now {}'.format(X_dtm.shape))\n",
    "    \n",
    "    # chain current label predictions to test_X_dtm\n",
    "    test_X_dtm = add_feature(test_X_dtm, test_y)\n",
    "    print('Shape of test_X_dtm is now {}'.format(test_X_dtm.shape))\n",
    "    print('')\n",
    "    print(50*'_')"
   ]
  },
  {
   "cell_type": "code",
   "execution_count": 47,
   "metadata": {},
   "outputs": [
    {
     "data": {
      "text/plain": [
       "-0.075828314668697772"
      ]
     },
     "execution_count": 47,
     "metadata": {},
     "output_type": "execute_result"
    }
   ],
   "source": [
    "np.subtract(np.sum(clean_change_acc_chain), np.sum(change_acc_chain))"
   ]
  },
  {
   "cell_type": "code",
   "execution_count": 48,
   "metadata": {
    "scrolled": true
   },
   "outputs": [
    {
     "data": {
      "text/plain": [
       "0.016293687449490335"
      ]
     },
     "execution_count": 48,
     "metadata": {},
     "output_type": "execute_result"
    }
   ],
   "source": [
    "np.subtract(np.sum(clean_change_acc_bin), np.sum(change_acc_bin))"
   ]
  },
  {
   "cell_type": "code",
   "execution_count": 121,
   "metadata": {
    "collapsed": true
   },
   "outputs": [],
   "source": [
    "submission_binary.to_csv('submission/sub_bin.csv',index=False)\n",
    "submission_chains.to_csv('submission/sub_chain.csv',index=False)\n",
    "submission_binary_pol.to_csv('submission/sub_bin_pol.csv',index=False)\n",
    "submission_chains_pol.to_csv('submission/sub_chain_pol.csv',index=False)"
   ]
  },
  {
   "cell_type": "code",
   "execution_count": null,
   "metadata": {
    "collapsed": true
   },
   "outputs": [],
   "source": []
  },
  {
   "cell_type": "code",
   "execution_count": null,
   "metadata": {
    "collapsed": true
   },
   "outputs": [],
   "source": []
  },
  {
   "cell_type": "code",
   "execution_count": null,
   "metadata": {
    "collapsed": true
   },
   "outputs": [],
   "source": []
  },
  {
   "cell_type": "code",
   "execution_count": null,
   "metadata": {
    "collapsed": true
   },
   "outputs": [],
   "source": []
  },
  {
   "cell_type": "code",
   "execution_count": null,
   "metadata": {
    "collapsed": true
   },
   "outputs": [],
   "source": []
  },
  {
   "cell_type": "code",
   "execution_count": null,
   "metadata": {
    "collapsed": true
   },
   "outputs": [],
   "source": []
  },
  {
   "cell_type": "code",
   "execution_count": null,
   "metadata": {
    "collapsed": true
   },
   "outputs": [],
   "source": [
    "df = pd.concat([train_df['comment_text'], test_df['comment_text']], axis=0)\n",
    "df = df.fillna(\"unknown\")\n",
    "nrow = train_df.shape[0]"
   ]
  },
  {
   "cell_type": "code",
   "execution_count": null,
   "metadata": {
    "collapsed": true
   },
   "outputs": [],
   "source": [
    "tfidf = feature_extraction.text.TfidfVectorizer(stop_words='english', max_features=800000)\n",
    "data = tfidf.fit_transform(df)"
   ]
  },
  {
   "cell_type": "code",
   "execution_count": null,
   "metadata": {
    "collapsed": true
   },
   "outputs": [],
   "source": [
    "model = ensemble.ExtraTreesClassifier(n_jobs=-1, random_state=3)\n",
    "model.fit(data[:nrow], y)\n",
    "print(1- model.score(data[:nrow], y))"
   ]
  },
  {
   "cell_type": "code",
   "execution_count": 49,
   "metadata": {},
   "outputs": [
    {
     "data": {
      "image/png": "[encoded data removed]",
      "text/plain": [
       "<matplotlib.figure.Figure at 0x1a1a390908>"
      ]
     },
     "metadata": {},
     "output_type": "display_data"
    }
   ],
   "source": [
    "fig, ax = plt.subplots()\n",
    "index = np.arange(len(target))\n",
    "bar_width = 0.1\n",
    "opacity = 0.8\n",
    " \n",
    "rects1 = plt.bar(index, change_acc_bin, bar_width,\n",
    "                 alpha=opacity,\n",
    "                 color='b',\n",
    "                 label='Binary')\n",
    "\n",
    "rects2 = plt.bar(index + bar_width, clean_change_acc_bin, bar_width,\n",
    "                 alpha=opacity,\n",
    "                 color='g',\n",
    "                 label='Binary After Clean')\n",
    " \n",
    "rects3 = plt.bar(index + 2*bar_width, change_acc_chain, bar_width,\n",
    "                 alpha=opacity,\n",
    "                 color='b',\n",
    "                 label='Chains')\n",
    "\n",
    "\n",
    "rects4 = plt.bar(index + 3*bar_width, clean_change_acc_chain, bar_width,\n",
    "                 alpha=opacity,\n",
    "                 color='g',\n",
    "                 label='Chains After Claen')\n",
    "\n",
    " \n",
    "plt.ylabel('% Change')\n",
    "plt.title('% Change in Accuracy')\n",
    "plt.xticks(index + bar_width, ('toxic','severe_toxic','obscene','threat','insult','identity_hate'))\n",
    "plt.legend()\n",
    "plt.gcf().set_size_inches(13,7)\n",
    "plt.tick_params(labelsize=15) \n",
    "plt.show()"
   ]
  },
  {
   "cell_type": "code",
   "execution_count": null,
   "metadata": {
    "collapsed": true
   },
   "outputs": [],
   "source": []
  },
  {
   "cell_type": "code",
   "execution_count": null,
   "metadata": {
    "collapsed": true
   },
   "outputs": [],
   "source": [
    "8.77352401125e-05 - 0.00085855199253"
   ]
  },
  {
   "cell_type": "code",
   "execution_count": null,
   "metadata": {
    "collapsed": true
   },
   "outputs": [],
   "source": [
    "from sklearn.decomposition import PCA, TruncatedSVD\n",
    "import matplotlib\n",
    "import matplotlib.patches as mpatches\n",
    "\n",
    "\n",
    "def plot_LSA(test_data, test_labels, plot=True):\n",
    "        lsa = TruncatedSVD(n_components=2)\n",
    "        lsa.fit(test_data)\n",
    "        lsa_scores = lsa.transform(test_data)\n",
    "        color_mapper = {label:idx for idx,label in enumerate(set(test_labels))}\n",
    "        color_column = [color_mapper[label] for label in test_labels]\n",
    "        colors = ['orange','blue','blue']\n",
    "        if plot:\n",
    "            plt.scatter(lsa_scores[:,0], lsa_scores[:,1], s=8, alpha=.8, c=test_labels, cmap=matplotlib.colors.ListedColormap(colors))\n",
    "            red_patch = mpatches.Patch(color='orange', label='0')\n",
    "            green_patch = mpatches.Patch(color='blue', label='1')\n",
    "            plt.legend(handles=[red_patch, green_patch], prop={'size': 30})\n",
    "\n",
    "\n",
    "fig = plt.figure(figsize=(16, 16))          \n",
    "plot_LSA(X_dtm, train_df.identity_hate)\n",
    "plt.show()"
   ]
  },
  {
   "cell_type": "code",
   "execution_count": null,
   "metadata": {
    "collapsed": true
   },
   "outputs": [],
   "source": [
    "from sklearn.manifold import TSNE"
   ]
  },
  {
   "cell_type": "code",
   "execution_count": null,
   "metadata": {
    "collapsed": true
   },
   "outputs": [],
   "source": [
    "tsne_model = TSNE()\n",
    "tsne_features = tsne_model.fit_transform(X_dtm.toarray())"
   ]
  },
  {
   "cell_type": "code",
   "execution_count": null,
   "metadata": {
    "collapsed": true
   },
   "outputs": [],
   "source": [
    "# Select the 0th feature: xs\n",
    "xs = tsne_features[:,0]\n",
    "\n",
    "# Select the 1st feature: ys\n",
    "ys = tsne_features[:,1]\n",
    "\n",
    "# Scatter plot, coloring by variety_numbers\n",
    "plt.scatter(xs,ys, c = train_df.toxic, alpha = 0.3, cmap='viridis')\n",
    "plt.xticks(np.arange(-75,60,15))\n",
    "fig = plt.gcf()\n",
    "fig.set_size_inches(15,10)\n",
    "plt.title(\"t-SNE features\")\n",
    "plt.show()"
   ]
  },
  {
   "cell_type": "code",
   "execution_count": null,
   "metadata": {
    "collapsed": true
   },
   "outputs": [],
   "source": []
  },
  {
   "cell_type": "code",
   "execution_count": null,
   "metadata": {
    "collapsed": true
   },
   "outputs": [],
   "source": []
  },
  {
   "cell_type": "code",
   "execution_count": null,
   "metadata": {
    "collapsed": true
   },
   "outputs": [],
   "source": []
  },
  {
   "cell_type": "code",
   "execution_count": null,
   "metadata": {
    "collapsed": true
   },
   "outputs": [],
   "source": []
  },
  {
   "cell_type": "code",
   "execution_count": null,
   "metadata": {
    "collapsed": true
   },
   "outputs": [],
   "source": []
  },
  {
   "cell_type": "markdown",
   "metadata": {},
   "source": [
    "### We see that they is no significant difference in accuracy"
   ]
  },
  {
   "cell_type": "markdown",
   "metadata": {},
   "source": [
    "## Exploring GridSearch"
   ]
  },
  {
   "cell_type": "code",
   "execution_count": null,
   "metadata": {
    "collapsed": true
   },
   "outputs": [],
   "source": [
    "from sklearn.linear_model import LogisticRegression\n",
    "from sklearn.metrics import log_loss,confusion_matrix,classification_report,roc_curve,auc\n",
    "\n",
    "import string\n",
    "import nltk\n",
    "from nltk.corpus import stopwords\n",
    "from nltk.tokenize import word_tokenize\n",
    "from scipy import sparse\n",
    "%matplotlib inline\n",
    "seed = 123"
   ]
  },
  {
   "cell_type": "code",
   "execution_count": null,
   "metadata": {
    "collapsed": true
   },
   "outputs": [],
   "source": []
  },
  {
   "cell_type": "code",
   "execution_count": null,
   "metadata": {
    "collapsed": true
   },
   "outputs": [],
   "source": []
  },
  {
   "cell_type": "code",
   "execution_count": null,
   "metadata": {
    "collapsed": true
   },
   "outputs": [],
   "source": [
    "vect_word = TfidfVectorizer(max_features=10000, lowercase=True, analyzer='word',\n",
    "                        stop_words= 'english',ngram_range=(1,2),dtype=np.float32)\n",
    "vect_char = TfidfVectorizer(max_features=30000, lowercase=True, analyzer='char',\n",
    "                        stop_words= 'english',ngram_range=(1,6),dtype=np.float32)"
   ]
  },
  {
   "cell_type": "code",
   "execution_count": null,
   "metadata": {
    "collapsed": true
   },
   "outputs": [],
   "source": [
    "#vect_word.fit(list(train['comment_text']) + list(test['comment_text']))\n",
    "tr_vect = vect_word.fit_transform(train_df['comment_text'])\n",
    "ts_vect = vect_word.transform(test_df['comment_text'])\n",
    "\n",
    "#vect_char.fit(list(train['comment_text']) + list(test['comment_text']))\n",
    "tr_vect_char = vect_char.fit_transform(train_df['comment_text'])\n",
    "ts_vect_char = vect_char.transform(test_df['comment_text'])"
   ]
  },
  {
   "cell_type": "code",
   "execution_count": null,
   "metadata": {
    "collapsed": true
   },
   "outputs": [],
   "source": [
    "X = sparse.hstack([tr_vect, tr_vect_char])\n",
    "x_test = sparse.hstack([ts_vect, ts_vect_char])"
   ]
  },
  {
   "cell_type": "code",
   "execution_count": null,
   "metadata": {
    "collapsed": true
   },
   "outputs": [],
   "source": [
    "y = train[target]\n",
    "#x_test = ts_vet\n",
    "del tr_vect, ts_vect, tr_vect_char, ts_vect_char\n",
    "gc.collect()"
   ]
  },
  {
   "cell_type": "code",
   "execution_count": null,
   "metadata": {
    "collapsed": true
   },
   "outputs": [],
   "source": [
    "prd = np.zeros((x_test.shape[0],y.shape[1]))\n",
    "cv_score =[]\n",
    "for i,col in enumerate(target):\n",
    "    lr = LogisticRegression(C=4,random_state = i)\n",
    "    print('Building {} model for column:{''}'.format(i,col)) \n",
    "    lr.fit(X,y[col])\n",
    "    #cv_score.append(lr.score)\n",
    "    prd[:,i] = lr.predict_proba(x_test)[:,1]"
   ]
  },
  {
   "cell_type": "code",
   "execution_count": null,
   "metadata": {
    "collapsed": true
   },
   "outputs": [],
   "source": [
    "prd_1 = pd.DataFrame(prd,columns=y.columns)\n",
    "submit = pd.concat([test['id'],prd_1],axis=1)\n",
    "#submit.to_csv('toxic_lr.csv.gz',compression='gzip',index=False)\n",
    "submit.to_csv('toxic_lr.csv',index=False)\n",
    "submit.head()"
   ]
  },
  {
   "cell_type": "markdown",
   "metadata": {},
   "source": [
    "## Pipeline"
   ]
  },
  {
   "cell_type": "code",
   "execution_count": null,
   "metadata": {
    "collapsed": true
   },
   "outputs": [],
   "source": [
    "import re\n",
    "def preprocessor(text):\n",
    "    text = re.sub('<[^>]*>', '', text)\n",
    "    emoticons = re.findall('(?::|;|=)(?:-)?(?:\\)|\\(|D|P)', text)\n",
    "    text = re.sub('[\\W]+', ' ', text.lower()) +\\\n",
    "        ' '.join(emoticons).replace('-', '')\n",
    "    return text\n",
    "\n",
    "\n",
    "from nltk.stem.porter import PorterStemmer\n",
    "\n",
    "porter = PorterStemmer()\n",
    "\n",
    "def tokenizer(text):\n",
    "    text = re.sub('<[^>]*>', '', text)\n",
    "    emoticons = re.findall('(?::|;|=)(?:-)?(?:\\)|\\(|D|P)', text.lower())\n",
    "    text = re.sub('[\\W]+', ' ', text.lower()) +\\\n",
    "        ' '.join(emoticons).replace('-', '')\n",
    "    tokenized = [w for w in text.split() if w not in stop]\n",
    "    return tokenized\n",
    "\n",
    "\n",
    "def tokenizer_porter(text):\n",
    "    return [porter.stem(word) for word in text.split()]\n",
    "\n",
    "def clean_text(text):\n",
    "    text = text.lower()\n",
    "    text = re.sub(r\"what's\", \"what is \", text)\n",
    "    text = re.sub(r\"\\'s\", \" \", text)\n",
    "    text = re.sub(r\"\\'ve\", \" have \", text)\n",
    "    text = re.sub(r\"can't\", \"cannot \", text)\n",
    "    text = re.sub(r\"n't\", \" not \", text)\n",
    "    text = re.sub(r\"i'm\", \"i am \", text)\n",
    "    text = re.sub(r\"\\'re\", \" are \", text)\n",
    "    text = re.sub(r\"\\'d\", \" would \", text)\n",
    "    text = re.sub(r\"\\'ll\", \" will \", text)\n",
    "    text = re.sub(r\"\\'scuse\", \" excuse \", text)\n",
    "    text = re.sub('\\W', ' ', text)\n",
    "    text = re.sub('\\s+', ' ', text)\n",
    "    text = text.strip(' ')\n",
    "    return text"
   ]
  },
  {
   "cell_type": "code",
   "execution_count": null,
   "metadata": {
    "collapsed": true
   },
   "outputs": [],
   "source": [
    "from sklearn.pipeline import Pipeline\n",
    "from sklearn.linear_model import LogisticRegression\n",
    "from sklearn.feature_extraction.text import TfidfVectorizer\n",
    "from sklearn.model_selection import GridSearchCV\n",
    "from nltk.corpus import stopwords\n",
    "\n",
    "stop = stopwords.words('english')"
   ]
  },
  {
   "cell_type": "code",
   "execution_count": null,
   "metadata": {
    "collapsed": true
   },
   "outputs": [],
   "source": [
    "tfidf = TfidfVectorizer(strip_accents=None,\n",
    "                        lowercase=False,\n",
    "                        preprocessor=None,max_features = 5000)"
   ]
  },
  {
   "cell_type": "code",
   "execution_count": null,
   "metadata": {
    "collapsed": true
   },
   "outputs": [],
   "source": [
    "param_grid = [{'vect__ngram_range': [(1, 1)],\n",
    "               'vect__stop_words': [stop, None],\n",
    "               'vect__tokenizer': [clean_text, tokenizer_porter],\n",
    "               'clf__penalty': ['l1', 'l2'],\n",
    "               'clf__C': [1.0, 10.0, 100.0]},\n",
    "              {'vect__ngram_range': [(1, 1)],\n",
    "               'vect__stop_words': [stop, None],\n",
    "               'vect__tokenizer': [tokenizer, tokenizer_porter],\n",
    "               'vect__use_idf':[False],\n",
    "               'vect__norm':[None],\n",
    "               'clf__penalty': ['l1', 'l2'],\n",
    "               'clf__C': [1.0, 10.0, 100.0]},\n",
    "              ]\n",
    "\n",
    "lr_tfidf = Pipeline([('vect', tfidf),\n",
    "                     ('clf', LogisticRegression(random_state=0))])\n",
    "\n",
    "gs_lr_tfidf = GridSearchCV(lr_tfidf, param_grid,\n",
    "                           scoring='roc_auc',\n",
    "                           cv=5,\n",
    "                           verbose=1,\n",
    "                           n_jobs=-1)"
   ]
  },
  {
   "cell_type": "code",
   "execution_count": null,
   "metadata": {
    "collapsed": true
   },
   "outputs": [],
   "source": [
    "for label in target:\n",
    "    print('')\n",
    "    print(\".............. Started model fitting for \"+ label)\n",
    "    gs_lr_tfidf.fit(train_df.comment_text.values, train_df[label].values)\n",
    "    print(\".............. Completed model fitting for \"+ label)\n",
    "    print('')\n",
    "    print(\"Best paramters for \"+label)\n",
    "    gs_lr_tfidf.best_params_\n",
    "    print('')\n",
    "    test_y_prob = gs_lr_tfidf.predict_proba(test_df.comment_text)[:,1]\n",
    "    submission_chains[label] = test_y_prob\n",
    "    print(\".............. Completed model Prediction for \"+ label)"
   ]
  },
  {
   "cell_type": "code",
   "execution_count": null,
   "metadata": {
    "collapsed": true
   },
   "outputs": [],
   "source": []
  },
  {
   "cell_type": "code",
   "execution_count": null,
   "metadata": {
    "collapsed": true
   },
   "outputs": [],
   "source": []
  },
  {
   "cell_type": "code",
   "execution_count": null,
   "metadata": {
    "collapsed": true
   },
   "outputs": [],
   "source": []
  },
  {
   "cell_type": "code",
   "execution_count": null,
   "metadata": {
    "collapsed": true
   },
   "outputs": [],
   "source": []
  },
  {
   "cell_type": "code",
   "execution_count": null,
   "metadata": {
    "collapsed": true
   },
   "outputs": [],
   "source": [
    "## Output files\n",
    "submission_binary.to_csv('sub_log_binary.csv',index = False)\n",
    "#submission_chains.to_csv('sub_log_chain.csv',index=False)"
   ]
  },
  {
   "cell_type": "code",
   "execution_count": null,
   "metadata": {
    "collapsed": true
   },
   "outputs": [],
   "source": [
    "toxic = pd.read_csv(\"submission/toxic_lr.csv\")\n",
    "lstm = pd.read_csv(\"submission/Ensemble.csv\")\n",
    "log_binary = pd.read_csv(\"submission/sub_log_binary.csv\")\n",
    "log_chains = pd.read_csv(\"submission/sub_log_chain.csv\")\n",
    "submission_combined = pd.read_csv('output/submission_combined.csv')\n",
    "target = ['toxic','severe_toxic','obscene','threat','insult','identity_hate']"
   ]
  },
  {
   "cell_type": "code",
   "execution_count": null,
   "metadata": {
    "collapsed": true
   },
   "outputs": [],
   "source": [
    "for label in target:\n",
    "    submission_combined[label]= pd.concat([toxic[label],lstm[label],log_binary[label],log_chains[label]],\n",
    "                                          axis =1).max(axis =1)"
   ]
  },
  {
   "cell_type": "code",
   "execution_count": null,
   "metadata": {
    "collapsed": true
   },
   "outputs": [],
   "source": [
    "submission_combined.head()"
   ]
  },
  {
   "cell_type": "code",
   "execution_count": null,
   "metadata": {
    "collapsed": true
   },
   "outputs": [],
   "source": [
    "submission_combined.to_csv('submission/submission_combined_max_proba.csv',index=False)"
   ]
  },
  {
   "cell_type": "code",
   "execution_count": null,
   "metadata": {
    "collapsed": true
   },
   "outputs": [],
   "source": [
    "for label in target:\n",
    "    submission_combined[label]= pd.concat([toxic[label],lstm[label],log_binary[label],log_chains[label]],\n",
    "                                          axis =1).sum(axis=1)*0.25"
   ]
  },
  {
   "cell_type": "code",
   "execution_count": null,
   "metadata": {
    "collapsed": true
   },
   "outputs": [],
   "source": [
    "submission_combined.to_csv('submission/submission_combined_avg_proba.csv',index=False)\n",
    "submission_combined.head()"
   ]
  },
  {
   "cell_type": "code",
   "execution_count": null,
   "metadata": {
    "collapsed": true
   },
   "outputs": [],
   "source": []
  }
 ],
 "metadata": {
  "kernelspec": {
   "display_name": "Python [conda root]",
   "language": "python",
   "name": "conda-root-py"
  },
  "language_info": {
   "codemirror_mode": {
    "name": "ipython",
    "version": 3
   },
   "file_extension": ".py",
   "mimetype": "text/x-python",
   "name": "python",
   "nbconvert_exporter": "python",
   "pygments_lexer": "ipython3",
   "version": "3.6.3"
  }
 },
 "nbformat": 4,
 "nbformat_minor": 2
}
