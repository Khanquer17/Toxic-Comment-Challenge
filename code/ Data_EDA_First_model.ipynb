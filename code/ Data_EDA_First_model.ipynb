{
 "cells": [
  {
   "cell_type": "markdown",
   "metadata": {},
   "source": [
    "## Toxic Comment Challenge Kaggle\n",
    "\n",
    "### *This workbook contains explicit content. "
   ]
  },
  {
   "cell_type": "code",
   "execution_count": 1,
   "metadata": {
    "collapsed": true,
    "nbpresent": {
     "id": "9e5d9ad2-606f-4626-9cb1-0f04396b6880"
    }
   },
   "outputs": [],
   "source": [
    "%matplotlib inline\n",
    "import numpy as np\n",
    "import scipy as sp\n",
    "import matplotlib as mpl\n",
    "import matplotlib.cm as cm\n",
    "from matplotlib.colors import ListedColormap\n",
    "import matplotlib.pyplot as plt\n",
    "import pandas as pd\n",
    "pd.set_option('display.width', 500)\n",
    "pd.set_option('display.max_columns', 100)\n",
    "pd.set_option('display.notebook_repr_html', True)\n",
    "import seaborn as sns\n",
    "\n",
    "\n",
    "\n",
    "\n",
    "# special matplotlib argument for improved plots\n",
    "from matplotlib import rcParams\n",
    "plt.rcParams['figure.figsize'] = (15, 10)\n",
    "sns.set_style(\"whitegrid\")\n",
    "sns.set_context(\"poster\")\n"
   ]
  },
  {
   "cell_type": "code",
   "execution_count": 2,
   "metadata": {
    "nbpresent": {
     "id": "d83d2cf5-c17c-4f6e-b4ab-075d36f913b6"
    }
   },
   "outputs": [
    {
     "data": {
      "text/html": [
       "\n",
       "<style>\n",
       ".output_png {\n",
       "    display: table-cell;\n",
       "    text-align: center;\n",
       "    vertical-align: middle;\n",
       "}\n",
       "</style>\n"
      ],
      "text/plain": [
       "<IPython.core.display.HTML object>"
      ]
     },
     "execution_count": 2,
     "metadata": {},
     "output_type": "execute_result"
    }
   ],
   "source": [
    "from IPython.core.display import HTML\n",
    "HTML(\"\"\"\n",
    "<style>\n",
    ".output_png {\n",
    "    display: table-cell;\n",
    "    text-align: center;\n",
    "    vertical-align: middle;\n",
    "}\n",
    "</style>\n",
    "\"\"\")"
   ]
  },
  {
   "cell_type": "code",
   "execution_count": 3,
   "metadata": {
    "collapsed": true,
    "nbpresent": {
     "id": "0dca0d63-7db7-4462-9a09-4951e6568871"
    }
   },
   "outputs": [],
   "source": [
    "### Imporitng libraries\n",
    "\n",
    "# import and instantiate CountVectorizer (with the default parameters)\n",
    "from sklearn.feature_extraction.text import CountVectorizer\n"
   ]
  },
  {
   "cell_type": "code",
   "execution_count": 4,
   "metadata": {
    "nbpresent": {
     "id": "9d626ba1-a09c-49d7-8d04-a449377a5e9d"
    }
   },
   "outputs": [
    {
     "data": {
      "text/html": [
       "<div>\n",
       "<style>\n",
       "    .dataframe thead tr:only-child th {\n",
       "        text-align: right;\n",
       "    }\n",
       "\n",
       "    .dataframe thead th {\n",
       "        text-align: left;\n",
       "    }\n",
       "\n",
       "    .dataframe tbody tr th {\n",
       "        vertical-align: top;\n",
       "    }\n",
       "</style>\n",
       "<table border=\"1\" class=\"dataframe\">\n",
       "  <thead>\n",
       "    <tr style=\"text-align: right;\">\n",
       "      <th></th>\n",
       "      <th>comment_text</th>\n",
       "      <th>toxic</th>\n",
       "      <th>severe_toxic</th>\n",
       "      <th>obscene</th>\n",
       "      <th>threat</th>\n",
       "      <th>insult</th>\n",
       "      <th>identity_hate</th>\n",
       "    </tr>\n",
       "  </thead>\n",
       "  <tbody>\n",
       "    <tr>\n",
       "      <th>0</th>\n",
       "      <td>Explanation\\nWhy the edits made under my usern...</td>\n",
       "      <td>0</td>\n",
       "      <td>0</td>\n",
       "      <td>0</td>\n",
       "      <td>0</td>\n",
       "      <td>0</td>\n",
       "      <td>0</td>\n",
       "    </tr>\n",
       "    <tr>\n",
       "      <th>1</th>\n",
       "      <td>D'aww! He matches this background colour I'm s...</td>\n",
       "      <td>0</td>\n",
       "      <td>0</td>\n",
       "      <td>0</td>\n",
       "      <td>0</td>\n",
       "      <td>0</td>\n",
       "      <td>0</td>\n",
       "    </tr>\n",
       "    <tr>\n",
       "      <th>2</th>\n",
       "      <td>Hey man, I'm really not trying to edit war. It...</td>\n",
       "      <td>0</td>\n",
       "      <td>0</td>\n",
       "      <td>0</td>\n",
       "      <td>0</td>\n",
       "      <td>0</td>\n",
       "      <td>0</td>\n",
       "    </tr>\n",
       "    <tr>\n",
       "      <th>3</th>\n",
       "      <td>\"\\nMore\\nI can't make any real suggestions on ...</td>\n",
       "      <td>0</td>\n",
       "      <td>0</td>\n",
       "      <td>0</td>\n",
       "      <td>0</td>\n",
       "      <td>0</td>\n",
       "      <td>0</td>\n",
       "    </tr>\n",
       "    <tr>\n",
       "      <th>4</th>\n",
       "      <td>You, sir, are my hero. Any chance you remember...</td>\n",
       "      <td>0</td>\n",
       "      <td>0</td>\n",
       "      <td>0</td>\n",
       "      <td>0</td>\n",
       "      <td>0</td>\n",
       "      <td>0</td>\n",
       "    </tr>\n",
       "  </tbody>\n",
       "</table>\n",
       "</div>"
      ],
      "text/plain": [
       "                                        comment_text  toxic  severe_toxic  obscene  threat  insult  identity_hate\n",
       "0  Explanation\\nWhy the edits made under my usern...      0             0        0       0       0              0\n",
       "1  D'aww! He matches this background colour I'm s...      0             0        0       0       0              0\n",
       "2  Hey man, I'm really not trying to edit war. It...      0             0        0       0       0              0\n",
       "3  \"\\nMore\\nI can't make any real suggestions on ...      0             0        0       0       0              0\n",
       "4  You, sir, are my hero. Any chance you remember...      0             0        0       0       0              0"
      ]
     },
     "execution_count": 4,
     "metadata": {},
     "output_type": "execute_result"
    }
   ],
   "source": [
    "df = pd.read_csv(\"data/train 2.csv\")\n",
    "df.drop('id', axis = 1,inplace = True)\n",
    "df.head()"
   ]
  },
  {
   "cell_type": "code",
   "execution_count": 5,
   "metadata": {
    "nbpresent": {
     "id": "238ac920-1054-4a04-a2cd-8955e88d1ca5"
    }
   },
   "outputs": [
    {
     "data": {
      "text/html": [
       "<div>\n",
       "<style>\n",
       "    .dataframe thead tr:only-child th {\n",
       "        text-align: right;\n",
       "    }\n",
       "\n",
       "    .dataframe thead th {\n",
       "        text-align: left;\n",
       "    }\n",
       "\n",
       "    .dataframe tbody tr th {\n",
       "        vertical-align: top;\n",
       "    }\n",
       "</style>\n",
       "<table border=\"1\" class=\"dataframe\">\n",
       "  <thead>\n",
       "    <tr style=\"text-align: right;\">\n",
       "      <th></th>\n",
       "      <th>comment_text</th>\n",
       "      <th>toxic</th>\n",
       "    </tr>\n",
       "  </thead>\n",
       "  <tbody>\n",
       "    <tr>\n",
       "      <th>0</th>\n",
       "      <td>Explanation\\nWhy the edits made under my usern...</td>\n",
       "      <td>0</td>\n",
       "    </tr>\n",
       "    <tr>\n",
       "      <th>1</th>\n",
       "      <td>D'aww! He matches this background colour I'm s...</td>\n",
       "      <td>0</td>\n",
       "    </tr>\n",
       "    <tr>\n",
       "      <th>2</th>\n",
       "      <td>Hey man, I'm really not trying to edit war. It...</td>\n",
       "      <td>0</td>\n",
       "    </tr>\n",
       "    <tr>\n",
       "      <th>3</th>\n",
       "      <td>\"\\nMore\\nI can't make any real suggestions on ...</td>\n",
       "      <td>0</td>\n",
       "    </tr>\n",
       "    <tr>\n",
       "      <th>4</th>\n",
       "      <td>You, sir, are my hero. Any chance you remember...</td>\n",
       "      <td>0</td>\n",
       "    </tr>\n",
       "  </tbody>\n",
       "</table>\n",
       "</div>"
      ],
      "text/plain": [
       "                                        comment_text  toxic\n",
       "0  Explanation\\nWhy the edits made under my usern...      0\n",
       "1  D'aww! He matches this background colour I'm s...      0\n",
       "2  Hey man, I'm really not trying to edit war. It...      0\n",
       "3  \"\\nMore\\nI can't make any real suggestions on ...      0\n",
       "4  You, sir, are my hero. Any chance you remember...      0"
      ]
     },
     "execution_count": 5,
     "metadata": {},
     "output_type": "execute_result"
    }
   ],
   "source": [
    "features = df[['comment_text','toxic']]\n",
    "features.head(5)"
   ]
  },
  {
   "cell_type": "code",
   "execution_count": 6,
   "metadata": {
    "nbpresent": {
     "id": "1a9f2fb1-1155-4ac4-9963-145d3bd2297d"
    }
   },
   "outputs": [
    {
     "data": {
      "text/plain": [
       "159571"
      ]
     },
     "execution_count": 6,
     "metadata": {},
     "output_type": "execute_result"
    }
   ],
   "source": [
    "len(df.toxic)"
   ]
  },
  {
   "cell_type": "code",
   "execution_count": 7,
   "metadata": {
    "nbpresent": {
     "id": "1ed11770-628f-4912-85c7-638c515b47fb"
    }
   },
   "outputs": [
    {
     "data": {
      "image/png": "[encoded data removed]",
      "text/plain": [
       "<matplotlib.figure.Figure at 0x1a09f46fd0>"
      ]
     },
     "metadata": {},
     "output_type": "display_data"
    }
   ],
   "source": [
    "## Distribution of data point in each of these clusters obtained by k-means ++ \n",
    "\n",
    "ax = sns.countplot(x = df.toxic ,palette=\"viridis\")\n",
    "sns.set(font_scale=1.5)\n",
    "ax.set_xlabel(' ')\n",
    "ax.set_ylabel(' ')\n",
    "fig = plt.gcf()\n",
    "fig.set_size_inches(13,9)\n",
    "ax.set_ylim(top=160000)\n",
    "for p in ax.patches:\n",
    "    ax.annotate('{:.2f}%'.format(100*p.get_height()/len(df.toxic)), (p.get_x()+ 0.3, p.get_height()+ 1000))\n",
    "\n",
    "plt.title('Distribution of data in label: Toxic')\n",
    "plt.xlabel('Toxic Labels')\n",
    "plt.ylabel('Frequency [%]')\n",
    "plt.show()"
   ]
  },
  {
   "cell_type": "code",
   "execution_count": 8,
   "metadata": {
    "collapsed": true,
    "nbpresent": {
     "id": "b602462b-41e0-4a0d-83b1-bcb101e06d20"
    }
   },
   "outputs": [],
   "source": [
    "X = df.comment_text\n",
    "y = df.toxic"
   ]
  },
  {
   "cell_type": "code",
   "execution_count": 9,
   "metadata": {},
   "outputs": [
    {
     "data": {
      "image/png": "[encoded data removed]",
      "text/plain": [
       "<matplotlib.figure.Figure at 0x1a163c75f8>"
      ]
     },
     "metadata": {},
     "output_type": "display_data"
    }
   ],
   "source": [
    "## Identity Hate\n",
    "\n",
    "from nltk.corpus import stopwords\n",
    "from wordcloud import WordCloud, STOPWORDS\n",
    "from PIL import Image\n",
    "stopword = set(STOPWORDS)\n",
    "\n",
    "mask=np.array(Image.open(\"data/maxresdefault.jpg\"))\n",
    "mask=mask[:,:,1]\n",
    "df_iden=df[df.identity_hate==1]\n",
    "text=df_iden.comment_text.values\n",
    "wc= WordCloud(background_color=\"black\",max_words=2000,mask= mask, stopwords=stopword)\n",
    "wc.generate(\" \".join(text))\n",
    "plt.axis(\"off\")\n",
    "plt.title(\"Words frequented in Identity Hate Comments\", fontsize=20)\n",
    "plt.imshow(wc.recolor(random_state=123), alpha=0.9)\n",
    "\n",
    "plt.show()"
   ]
  },
  {
   "cell_type": "code",
   "execution_count": 10,
   "metadata": {
    "nbpresent": {
     "id": "3adfbde4-e19e-40f2-a950-fd3cd51365d6"
    }
   },
   "outputs": [
    {
     "name": "stdout",
     "output_type": "stream",
     "text": [
      "(119678,)\n",
      "(39893,)\n",
      "(119678,)\n",
      "(39893,)\n",
      "____________________________________________________________________________________________________\n",
      "0    108281\n",
      "1     11397\n",
      "Name: toxic, dtype: int64\n",
      "____________________________________________________________________________________________________\n",
      "0    35996\n",
      "1     3897\n",
      "Name: toxic, dtype: int64\n"
     ]
    },
    {
     "name": "stderr",
     "output_type": "stream",
     "text": [
      "/Users/bobbyvegi/anaconda3/lib/python3.6/site-packages/sklearn/cross_validation.py:41: DeprecationWarning: This module was deprecated in version 0.18 in favor of the model_selection module into which all the refactored classes and functions are moved. Also note that the interface of the new CV iterators are different from that of this module. This module will be removed in 0.20.\n",
      "  \"This module will be removed in 0.20.\", DeprecationWarning)\n"
     ]
    }
   ],
   "source": [
    "# split X and y into training and testing sets\n",
    "from sklearn.cross_validation import train_test_split\n",
    "X_train, X_test, y_train, y_test = train_test_split(X, y, random_state=1)\n",
    "print(X_train.shape)\n",
    "print(X_test.shape)\n",
    "print(y_train.shape)\n",
    "print(y_test.shape)\n",
    "print(100 *\"_\")\n",
    "print(y_train.value_counts())\n",
    "print(100 *\"_\")\n",
    "print(y_test.value_counts())"
   ]
  },
  {
   "cell_type": "code",
   "execution_count": 11,
   "metadata": {
    "collapsed": true,
    "nbpresent": {
     "id": "60b4a9d4-b256-4038-a1e1-83ff85de3052"
    }
   },
   "outputs": [],
   "source": [
    "## Count vectorizer\n",
    "max_features = 50000\n",
    "vec = CountVectorizer(max_features= max_features, ngram_range=(1,2), stop_words='english', max_df=0.5)\n",
    "#X_train_vec  = vec.fit_transform(X_train)\n",
    "\n",
    "\n",
    "from sklearn.feature_extraction.text import CountVectorizer, TfidfVectorizer\n",
    "### Transforming words into feature vectors\n",
    "import re, string\n",
    "re_tok = re.compile(f'([{string.punctuation}“”¨«»®´·º½¾¿¡§£₤‘’])')\n",
    "def tokenize(s): return re_tok.sub(r' \\1 ', s).split()\n",
    "\n",
    "#n = train.shape[0]\n",
    "vec_tfid = TfidfVectorizer(ngram_range=(1,2), tokenizer=tokenize,\n",
    "               min_df=3, max_df=0.9, strip_accents='unicode', use_idf=1,\n",
    "               smooth_idf=1, sublinear_tf=1, max_features = max_features)\n",
    "X_train_vec = vec_tfid.fit_transform(X_train)"
   ]
  },
  {
   "cell_type": "code",
   "execution_count": 12,
   "metadata": {
    "nbpresent": {
     "id": "467c71f6-5e01-460e-ab64-2e453b772cd4"
    }
   },
   "outputs": [
    {
     "data": {
      "text/plain": [
       "<119678x50000 sparse matrix of type '<class 'numpy.float64'>'\n",
       "\twith 11263861 stored elements in Compressed Sparse Row format>"
      ]
     },
     "execution_count": 12,
     "metadata": {},
     "output_type": "execute_result"
    }
   ],
   "source": [
    "# examine the document-term matrix\n",
    "X_train_vec"
   ]
  },
  {
   "cell_type": "code",
   "execution_count": 13,
   "metadata": {
    "nbpresent": {
     "id": "30b0fef1-c90c-4a8c-b363-42207008165a"
    }
   },
   "outputs": [
    {
     "data": {
      "text/plain": [
       "<39893x50000 sparse matrix of type '<class 'numpy.float64'>'\n",
       "\twith 3753568 stored elements in Compressed Sparse Row format>"
      ]
     },
     "execution_count": 13,
     "metadata": {},
     "output_type": "execute_result"
    }
   ],
   "source": [
    "\n",
    "# transform testing data (using fitted vocabulary) into a document-term matrix\n",
    "X_test_vec = vec_tfid.transform(X_test)\n",
    "X_test_vec"
   ]
  },
  {
   "cell_type": "code",
   "execution_count": 14,
   "metadata": {
    "collapsed": true,
    "nbpresent": {
     "id": "9c468beb-6b79-435d-8e0a-9168e2a96562"
    }
   },
   "outputs": [],
   "source": [
    "# import and instantiate a Multinomial Naive Bayes model\n",
    "from sklearn.naive_bayes import MultinomialNB\n",
    "nb = MultinomialNB()"
   ]
  },
  {
   "cell_type": "code",
   "execution_count": 15,
   "metadata": {
    "nbpresent": {
     "id": "aa6a4d90-97ff-4b18-9b11-3c8e73da0848"
    }
   },
   "outputs": [
    {
     "name": "stdout",
     "output_type": "stream",
     "text": [
      "CPU times: user 104 ms, sys: 12.2 ms, total: 116 ms\n",
      "Wall time: 119 ms\n"
     ]
    },
    {
     "data": {
      "text/plain": [
       "MultinomialNB(alpha=1.0, class_prior=None, fit_prior=True)"
      ]
     },
     "execution_count": 15,
     "metadata": {},
     "output_type": "execute_result"
    }
   ],
   "source": [
    "# train the model using X_train_dtm (timing it with an IPython \"magic command\")\n",
    "%time nb.fit(X_train_vec, y_train)"
   ]
  },
  {
   "cell_type": "code",
   "execution_count": 16,
   "metadata": {
    "collapsed": true,
    "nbpresent": {
     "id": "fb029d71-e5d4-42df-b716-890dc1ffb1a0"
    }
   },
   "outputs": [],
   "source": [
    "# make class predictions for X_test_dtm\n",
    "y_pred_class = nb.predict(X_test_vec)"
   ]
  },
  {
   "cell_type": "code",
   "execution_count": 17,
   "metadata": {
    "nbpresent": {
     "id": "ae33997f-7e02-4161-8aa0-3620f0b8d5c1"
    }
   },
   "outputs": [
    {
     "data": {
      "text/plain": [
       "0.94821146567066905"
      ]
     },
     "execution_count": 17,
     "metadata": {},
     "output_type": "execute_result"
    }
   ],
   "source": [
    "# calculate accuracy of class predictions\n",
    "from sklearn import metrics\n",
    "metrics.accuracy_score(y_test, y_pred_class)"
   ]
  },
  {
   "cell_type": "code",
   "execution_count": 18,
   "metadata": {
    "nbpresent": {
     "id": "5b8496bc-f742-4cea-b9ad-95c391146a34"
    }
   },
   "outputs": [
    {
     "name": "stdout",
     "output_type": "stream",
     "text": [
      "             precision    recall  f1-score   support\n",
      "\n",
      "          0       0.95      0.99      0.97     35996\n",
      "          1       0.91      0.52      0.66      3897\n",
      "\n",
      "avg / total       0.95      0.95      0.94     39893\n",
      "\n"
     ]
    }
   ],
   "source": [
    "from sklearn.metrics import classification_report\n",
    "print(classification_report(y_test, y_pred_class))"
   ]
  },
  {
   "cell_type": "code",
   "execution_count": 19,
   "metadata": {
    "nbpresent": {
     "id": "e1091769-8e62-4904-83a1-30b0fa581379"
    }
   },
   "outputs": [
    {
     "data": {
      "text/plain": [
       "array([[35797,   199],\n",
       "       [ 1867,  2030]])"
      ]
     },
     "execution_count": 19,
     "metadata": {},
     "output_type": "execute_result"
    }
   ],
   "source": [
    "# print the confusion matrix\n",
    "metrics.confusion_matrix(y_test, y_pred_class)"
   ]
  },
  {
   "cell_type": "code",
   "execution_count": 20,
   "metadata": {
    "nbpresent": {
     "id": "c0b0f853-ccca-4734-bc03-4ab0c586e4d5"
    }
   },
   "outputs": [
    {
     "name": "stdout",
     "output_type": "stream",
     "text": [
      "199\n"
     ]
    },
    {
     "data": {
      "text/plain": [
       "140466    Wikipedia is like a big playground with kids r...\n",
       "141317    You are not serious.  You have William S. Jack...\n",
       "26698     why did you delete my page? \\n\\nPMDrive1061!\\n...\n",
       "64490     Congratulations \\n\\nYou got me banned through ...\n",
       "17146     Gonna get it \\n\\nYou gonna get it son! 94.2.22...\n",
       "116478    clearly has no life. Who actually spends all t...\n",
       "26484     Cougar old, odelay courage cougar! \\n\\nYou're ...\n",
       "45333               UNBLOCK ME RIGHT NOW!!!!!!!!!!!!!!!!!!!\n",
       "73688     Rama stfu and stop stalking me, he keeps delet...\n",
       "2593      jd2718 the sock fiend \\n\\nnow hes lying out hi...\n",
       "156621    \"\\n\\n Adam Rose \\n\\n  John Cena lover Why do y...\n",
       "150370    Please\\nhttp://ru.wikipedia.org/wiki/%D0%A3%D1...\n",
       "34218                         beware \\n\\nyour gonna get it!\n",
       "106315    hey halbared i didmt know youre a wrestler. p....\n",
       "102704                      Why did you insult me?!!?!??!?!\n",
       "118125      I am proud to be a homosexual.  Gay pride 2008!\n",
       "8933      Some ratings from the VCHip \\n\\n1. The Power: ...\n",
       "85629     Taylor Swift Album \\n\\nTodelete the names ESHE...\n",
       "78638                You fail at life \\nn/t 221.220.179.150\n",
       "28905              in life because you're an admin, whoopee\n",
       "141444    \"\\n\\n A kitten for you! \\n\\nhey buddy heres a ...\n",
       "150045    TOD!!!!!!! \\n\\nWhy do you keep deleting my stu...\n",
       "116782    are you to tell me not to warn people from sup...\n",
       "146508    Need your help \\n\\nDear Sikh Historian,\\n\\nI w...\n",
       "8816      To Fathless...YOU will disappear and nobody wi...\n",
       "24133     What a blatent cheek \\n\\nLol, u need a life!\\n...\n",
       "84690     Don't assume who is an attorney and who is not...\n",
       "139528    Your aditude! \\n\\nMan, you have a temper, cool...\n",
       "20534         Ey!!! \\n\\nYou should better watch yourself!!!\n",
       "99508     Whatever \\n\\nwhy dont you just mind your own b...\n",
       "                                ...                        \n",
       "75959     Kim, stop! You are not helping here!!! This is...\n",
       "23590                     oh that's funny, real ha ha funny\n",
       "93007     Leftcoastman \\n\\nProud of your block?  I guess...\n",
       "15086     I guess your a KKK member who doesnt realize t...\n",
       "67459                  I noticed, why don't you get a life?\n",
       "33819     hey man its MC chris killer i want to talk why...\n",
       "143601    Excuse me\\n\\nBut wha the hell do you think you...\n",
       "116666    i love u sooooooo much !!!!!!!!!!!!!<333333333...\n",
       "106661    Grow up little man, its rather pathetic you si...\n",
       "105359    ==\\nOH NO!!!  I'M BLOCKED!!  WHAT EVER SHALL I...\n",
       "152471                 how dare you get rid of my edits !!!\n",
       "130524    STOP REVERTING MY CHANGES!!! You better respon...\n",
       "108731        \"\\n\\n For being a gigantic douche \\n\\nWhack!\"\n",
       "153879    So go ahead \\n\\nGo ahead and ban me then. She ...\n",
       "65781     Leave me alone\\nLook m8 i dont no what your ob...\n",
       "53732     Compromise \\n\\nHere's the deal: I'll stop vand...\n",
       "97414     You really are something else. \\n\\nYou know th...\n",
       "61446     I hate you \\n\\nJust kidding around.  You're to...\n",
       "120513    It \\n\\nThat is what you're gonna get son! 82.1...\n",
       "24282     I love to whine like a baby and get people ban...\n",
       "114554                          These People Love Hairy Men\n",
       "107130    OMG OMG OMG OMG OMG OMG OMG!!!!!!!\\n-CORIN WAS...\n",
       "140572    Hail Vintagekits, he prospers while you fail. ...\n",
       "8234          RE: Juarez \\num no you get over it get a life\n",
       "55369                                 whats your deal, fag?\n",
       "24086     Hey \\n\\nHey man, or you a moderator, or editor...\n",
       "116199               get a life, pitiful gook. what a slime\n",
       "15677     also \\n\\nyo being a vandal means im a better, ...\n",
       "21736     UNBLOCK SHANNON! ===     === UNBLOCK SHANNON! ...\n",
       "126442    Fine Arse.\\n\\nFoul mouth.\\n\\nWhat more do you ...\n",
       "Name: comment_text, Length: 199, dtype: object"
      ]
     },
     "execution_count": 20,
     "metadata": {},
     "output_type": "execute_result"
    }
   ],
   "source": [
    "# print message text for the false positives (Not Toxic incorrectly classified as Toxic)\n",
    "print(len(X_test[y_test < y_pred_class]))\n",
    "X_test[y_test < y_pred_class]"
   ]
  },
  {
   "cell_type": "code",
   "execution_count": 21,
   "metadata": {
    "nbpresent": {
     "id": "bdd58df6-88b2-4288-9b98-b0de0873f945"
    }
   },
   "outputs": [
    {
     "data": {
      "text/plain": [
       "116638    Bullshit! \\n\\nThe section used to be a neat li...\n",
       "89694     You \\nDonny Osmond is an arsehole! Let me post...\n",
       "50963     Vandalism \\n\\nStop vandalising pages. You are ...\n",
       "30136     Please refrain from unmaking unconstructive ed...\n",
       "119339    \"\\n  \\n\\nYour request to be unblocked has been...\n",
       "87562     Stop with the garbage \\nI'll say irrelevant as...\n",
       "105726    Thanks. Also thanks for freezing the article. ...\n",
       "114979    The Cut-Away Diagram is Shit \\n\\nI hold two ba...\n",
       "151371    \"\\n\\nHey MF please don't leave Wiki I totally ...\n",
       "112140                       Go screw yourself.68.79.88.224\n",
       "132352                 PURPLE FLYING SPAGETTI BONER MONSTER\n",
       "110296    MAYBE YOU SHOULD READ OVER YOUR MESSAGES \\n\\nI...\n",
       "23496            Who is this stupid boy ? A kiwi, for sure.\n",
       "148742    are u stil a aids carrier?\\nhey amor,\\nI was w...\n",
       "3213      Mark. Your semen is not viable. Were you to pr...\n",
       "60805             You and Jack greenmaven are MotherFuckers\n",
       "19827     You hypocrite \\n\\nEither you are an illiterate...\n",
       "103349    Great Nomination!! Well done errant. His artic...\n",
       "152718    I disagree.  I think this is worthy of a seper...\n",
       "134477    \"\\nOh well! Coffee is obviously too ashamed to...\n",
       "51177     I don't know how else to say this: the article...\n",
       "42650     \"\\n\\nWhoever you are, you tedious little twat,...\n",
       "56773                   YOU NEED TO STOP PISSING OTHERS OFF\n",
       "29268     Shoo!\\nShoo, you silly, cowardly little person...\n",
       "149226    chickenshit vikie-addict.  you are a liar abou...\n",
       "14813                        and that were mentaly retarded\n",
       "142343    Your lies/deceit \\n\\nYou're lying to Chan and ...\n",
       "123686    Straight from the smear site itself. The perso...\n",
       "61885     Bible Society \\n\\nI`m fed up with Catholics as...\n",
       "41106     Eater gothamist and gawker are the lowest tmz ...\n",
       "                                ...                        \n",
       "114593    \"\\nJust as well that this \"\"isn't a problem\"\",...\n",
       "32783     I won't be here in thirteen days.  After all, ...\n",
       "149874    Isn't that your goal? ~SLURP~ I'll still find ...\n",
       "16916     I'd rather he took the time to report me than ...\n",
       "152922    I'm perfectly cool there dude... I just have a...\n",
       "138546    \"\\n\\n Unmarked spoilers \\n\\nFor fuck's sake, K...\n",
       "112812    IDIOT/////IDIOT/////IDIOT/////IDIOT/////IDIOT/...\n",
       "20041     Hans Adler is a Nazi!!!!! He kept discrimating...\n",
       "74641     Oppose I Think he should be referred to as a n...\n",
       "58722     MILBURN IS A BARBARIAN PICTURE DELETOR ANIMAL!...\n",
       "6906      \"Talk pages are for talking to other users, th...\n",
       "45793     I'm not defending anything to you . Your biase...\n",
       "140787    Are you a fool? \\n\\nI am sorry, but you seem t...\n",
       "48814     THIS IS TOTALLY PSEUDOSCIENTIFIC..THE SCYTHIAN...\n",
       "139968    sorry \\n\\ni stepped away for a second and my f...\n",
       "85130     Who the hell are you to warn me kid! If I did ...\n",
       "138398    Are you a deaf idiot? He BROKE the bird's neck...\n",
       "63581     YOU POV PUSHING REVERT MONKEY\\nStop reverting ...\n",
       "32472     You see this as an attack..?\\n\\nGet a life.\\n\\...\n",
       "106146    \"\\n\\nSukecchi:\\n\\nYou are out of your league, ...\n",
       "141923    You are a nefarious vandal \\n\\nI want you to k...\n",
       "92524     Reverting valid edits is vandalism \\nCalling a...\n",
       "9353      Your hypocrisy amuses me. \\n\\nLook at your use...\n",
       "47736     Chairmanofall\\n\\nOnce again, you brainless chi...\n",
       "100504    He's probably into fist-fucking. Been there, d...\n",
       "28139     Are you morons high? Job For A Cowboy are deat...\n",
       "730       \"\\nOf course a true Dub will say 'depaaarted' ...\n",
       "136718    Really \\n\\nI can't stop thinking of how much o...\n",
       "62393     Southwest Page \\n\\nI was simply removing a foo...\n",
       "732       Muslim Men Harassment of MM page \\n\\nIt is ama...\n",
       "Name: comment_text, Length: 1867, dtype: object"
      ]
     },
     "execution_count": 21,
     "metadata": {},
     "output_type": "execute_result"
    }
   ],
   "source": [
    "X_test[y_test > y_pred_class]"
   ]
  },
  {
   "cell_type": "code",
   "execution_count": 22,
   "metadata": {
    "nbpresent": {
     "id": "6f8a05c6-99a8-4057-9c08-f018b05a523d"
    }
   },
   "outputs": [
    {
     "data": {
      "text/plain": [
       "'\"\\n\\n June 2014 \\n\\nBecause of WP:OUTING I will not say who you were impersonating, but I can\\'t see why someone with good intentions would deliberately impersonate another editor, so I\\'m hard-blocking you.  \\'\\'\\'\\'\\'\\'頭 \"'"
      ]
     },
     "execution_count": 22,
     "metadata": {},
     "output_type": "execute_result"
    }
   ],
   "source": [
    "X_test[77661]"
   ]
  },
  {
   "cell_type": "code",
   "execution_count": 23,
   "metadata": {
    "nbpresent": {
     "id": "e50e305b-8340-4d90-9e38-5f5ca3abf0ef"
    }
   },
   "outputs": [
    {
     "data": {
      "text/plain": [
       "array([  5.98811758e-01,   6.50136143e-06,   2.78272040e-02, ...,\n",
       "         6.00737199e-07,   1.52139462e-01,   5.25214946e-05])"
      ]
     },
     "execution_count": 23,
     "metadata": {},
     "output_type": "execute_result"
    }
   ],
   "source": [
    "# calculate predicted probabilities for X_test_dtm (poorly calibrated)\n",
    "y_pred_prob = nb.predict_proba(X_test_vec)[:, 1]\n",
    "y_pred_prob"
   ]
  },
  {
   "cell_type": "code",
   "execution_count": 24,
   "metadata": {
    "nbpresent": {
     "id": "cdb31310-682f-4022-9c47-efeae1f6e415"
    }
   },
   "outputs": [
    {
     "data": {
      "text/plain": [
       "0.95123871930799031"
      ]
     },
     "execution_count": 24,
     "metadata": {},
     "output_type": "execute_result"
    }
   ],
   "source": [
    "# calculate AUC\n",
    "metrics.roc_auc_score(y_test, y_pred_prob)"
   ]
  },
  {
   "cell_type": "markdown",
   "metadata": {
    "nbpresent": {
     "id": "7a91e923-6852-4e5c-8b1e-bda321b46c8c"
    }
   },
   "source": [
    "### Logistic Regression"
   ]
  },
  {
   "cell_type": "code",
   "execution_count": 25,
   "metadata": {
    "collapsed": true,
    "nbpresent": {
     "id": "b29601a7-ad49-4593-98c8-4e849ff3efef"
    }
   },
   "outputs": [],
   "source": [
    "# import and instantiate a logistic regression model\n",
    "from sklearn.linear_model import LogisticRegression\n",
    "logreg = LogisticRegression()"
   ]
  },
  {
   "cell_type": "code",
   "execution_count": 26,
   "metadata": {
    "nbpresent": {
     "id": "57d8c413-e279-4f3e-837e-dde4885939b2"
    }
   },
   "outputs": [
    {
     "name": "stdout",
     "output_type": "stream",
     "text": [
      "CPU times: user 4.07 s, sys: 108 ms, total: 4.18 s\n",
      "Wall time: 4.18 s\n"
     ]
    },
    {
     "data": {
      "text/plain": [
       "LogisticRegression(C=1.0, class_weight=None, dual=False, fit_intercept=True,\n",
       "          intercept_scaling=1, max_iter=100, multi_class='ovr', n_jobs=1,\n",
       "          penalty='l2', random_state=None, solver='liblinear', tol=0.0001,\n",
       "          verbose=0, warm_start=False)"
      ]
     },
     "execution_count": 26,
     "metadata": {},
     "output_type": "execute_result"
    }
   ],
   "source": [
    "# train the model using X_train_dtm\n",
    "%time logreg.fit(X_train_vec, y_train)"
   ]
  },
  {
   "cell_type": "code",
   "execution_count": 27,
   "metadata": {
    "collapsed": true,
    "nbpresent": {
     "id": "bf5e4d9f-238a-4f03-91b8-597f6fcafaef"
    }
   },
   "outputs": [],
   "source": [
    "# make class predictions for X_test_dtm\n",
    "y_pred_class = logreg.predict(X_test_vec)"
   ]
  },
  {
   "cell_type": "code",
   "execution_count": 28,
   "metadata": {
    "nbpresent": {
     "id": "e9a83f8b-4514-4e88-bde7-8ee2c509d664"
    }
   },
   "outputs": [
    {
     "data": {
      "text/plain": [
       "array([ 0.86698903,  0.00149882,  0.03582699, ...,  0.00087354,\n",
       "        0.37884672,  0.00206868])"
      ]
     },
     "execution_count": 28,
     "metadata": {},
     "output_type": "execute_result"
    }
   ],
   "source": [
    "# calculate predicted probabilities for X_test_dtm (well calibrated)\n",
    "y_pred_prob = logreg.predict_proba(X_test_vec)[:, 1]\n",
    "y_pred_prob"
   ]
  },
  {
   "cell_type": "code",
   "execution_count": 29,
   "metadata": {
    "nbpresent": {
     "id": "f9c2a99a-0fa6-4aac-b2ed-2ce5cd064e55"
    }
   },
   "outputs": [
    {
     "data": {
      "text/plain": [
       "0.95470383275261328"
      ]
     },
     "execution_count": 29,
     "metadata": {},
     "output_type": "execute_result"
    }
   ],
   "source": [
    "# calculate accuracy\n",
    "metrics.accuracy_score(y_test, y_pred_class)"
   ]
  },
  {
   "cell_type": "code",
   "execution_count": 30,
   "metadata": {
    "nbpresent": {
     "id": "7856fe82-b551-45ad-bca0-a8f1e47431eb"
    }
   },
   "outputs": [
    {
     "data": {
      "text/plain": [
       "0.97128726460440129"
      ]
     },
     "execution_count": 30,
     "metadata": {},
     "output_type": "execute_result"
    }
   ],
   "source": [
    "# calculate AUC\n",
    "metrics.roc_auc_score(y_test, y_pred_prob)"
   ]
  },
  {
   "cell_type": "code",
   "execution_count": 31,
   "metadata": {
    "nbpresent": {
     "id": "b4548a95-08cb-44ba-bbc4-5cc4add0e445"
    }
   },
   "outputs": [
    {
     "name": "stdout",
     "output_type": "stream",
     "text": [
      "             precision    recall  f1-score   support\n",
      "\n",
      "          0       0.96      1.00      0.98     35996\n",
      "          1       0.93      0.58      0.71      3897\n",
      "\n",
      "avg / total       0.95      0.95      0.95     39893\n",
      "\n"
     ]
    }
   ],
   "source": [
    "from sklearn.metrics import classification_report\n",
    "print(classification_report(y_test, y_pred_class))"
   ]
  },
  {
   "cell_type": "markdown",
   "metadata": {
    "nbpresent": {
     "id": "72bdd77f-efc1-4bc9-b79d-833da402da11"
    }
   },
   "source": [
    "### Exploring toxic and not toxic words"
   ]
  },
  {
   "cell_type": "code",
   "execution_count": 32,
   "metadata": {
    "nbpresent": {
     "id": "bb45faed-cee7-431c-bb5f-a0df4e780dad"
    }
   },
   "outputs": [
    {
     "data": {
      "text/plain": [
       "50000"
      ]
     },
     "execution_count": 32,
     "metadata": {},
     "output_type": "execute_result"
    }
   ],
   "source": [
    "# store the vocabulary of X_train\n",
    "X_train_tokens = vec_tfid.get_feature_names()\n",
    "len(X_train_tokens)"
   ]
  },
  {
   "cell_type": "code",
   "execution_count": 33,
   "metadata": {
    "nbpresent": {
     "id": "1d07d489-f6cc-405e-af52-76a48f28fd98"
    }
   },
   "outputs": [
    {
     "data": {
      "text/plain": [
       "array([[  1.18589297e+03,   3.14519599e+02,   1.52890379e+02, ...,\n",
       "          4.99451152e+00,   5.51286585e+00,   5.51286585e+00],\n",
       "       [  4.08938985e+02,   2.73840945e+02,   1.89204445e+01, ...,\n",
       "          3.89912022e-01,   0.00000000e+00,   0.00000000e+00]])"
      ]
     },
     "execution_count": 33,
     "metadata": {},
     "output_type": "execute_result"
    }
   ],
   "source": [
    "# Naive Bayes counts the number of times each token appears in each class\n",
    "nb.feature_count_"
   ]
  },
  {
   "cell_type": "code",
   "execution_count": 34,
   "metadata": {
    "nbpresent": {
     "id": "a4f7e33f-feab-4429-bff5-82b722fc6728"
    }
   },
   "outputs": [
    {
     "data": {
      "text/plain": [
       "array([ 1185.89297168,   314.51959907,   152.89037851, ...,     4.99451152,\n",
       "           5.51286585,     5.51286585])"
      ]
     },
     "execution_count": 34,
     "metadata": {},
     "output_type": "execute_result"
    }
   ],
   "source": [
    "\n",
    "# number of times each token appears across all Not toxic messages\n",
    "Not_Toxic_token_count = nb.feature_count_[0, :]\n",
    "Not_Toxic_token_count"
   ]
  },
  {
   "cell_type": "code",
   "execution_count": 35,
   "metadata": {
    "nbpresent": {
     "id": "19d5af10-8bfe-4ca5-9221-e2de6ec00f8b"
    }
   },
   "outputs": [
    {
     "data": {
      "text/plain": [
       "array([  4.08938985e+02,   2.73840945e+02,   1.89204445e+01, ...,\n",
       "         3.89912022e-01,   0.00000000e+00,   0.00000000e+00])"
      ]
     },
     "execution_count": 35,
     "metadata": {},
     "output_type": "execute_result"
    }
   ],
   "source": [
    "# number of times each token appears across all Toxic messages\n",
    "Toxic_token_count = nb.feature_count_[1, :]\n",
    "Toxic_token_count"
   ]
  },
  {
   "cell_type": "code",
   "execution_count": 36,
   "metadata": {
    "nbpresent": {
     "id": "12da8e82-375e-4c9f-b25a-4f8dfd72710d"
    }
   },
   "outputs": [
    {
     "data": {
      "text/html": [
       "<div>\n",
       "<style>\n",
       "    .dataframe thead tr:only-child th {\n",
       "        text-align: right;\n",
       "    }\n",
       "\n",
       "    .dataframe thead th {\n",
       "        text-align: left;\n",
       "    }\n",
       "\n",
       "    .dataframe tbody tr th {\n",
       "        vertical-align: top;\n",
       "    }\n",
       "</style>\n",
       "<table border=\"1\" class=\"dataframe\">\n",
       "  <thead>\n",
       "    <tr style=\"text-align: right;\">\n",
       "      <th></th>\n",
       "      <th>Not_toxic</th>\n",
       "      <th>Toxic</th>\n",
       "    </tr>\n",
       "    <tr>\n",
       "      <th>token</th>\n",
       "      <th></th>\n",
       "      <th></th>\n",
       "    </tr>\n",
       "  </thead>\n",
       "  <tbody>\n",
       "    <tr>\n",
       "      <th>!</th>\n",
       "      <td>1185.892972</td>\n",
       "      <td>408.938985</td>\n",
       "    </tr>\n",
       "    <tr>\n",
       "      <th>! !</th>\n",
       "      <td>314.519599</td>\n",
       "      <td>273.840945</td>\n",
       "    </tr>\n",
       "    <tr>\n",
       "      <th>! \"</th>\n",
       "      <td>152.890379</td>\n",
       "      <td>18.920444</td>\n",
       "    </tr>\n",
       "    <tr>\n",
       "      <th>! '</th>\n",
       "      <td>21.761411</td>\n",
       "      <td>2.697860</td>\n",
       "    </tr>\n",
       "    <tr>\n",
       "      <th>! (</th>\n",
       "      <td>64.119350</td>\n",
       "      <td>6.916931</td>\n",
       "    </tr>\n",
       "  </tbody>\n",
       "</table>\n",
       "</div>"
      ],
      "text/plain": [
       "         Not_toxic       Toxic\n",
       "token                         \n",
       "!      1185.892972  408.938985\n",
       "! !     314.519599  273.840945\n",
       "! \"     152.890379   18.920444\n",
       "! '      21.761411    2.697860\n",
       "! (      64.119350    6.916931"
      ]
     },
     "execution_count": 36,
     "metadata": {},
     "output_type": "execute_result"
    }
   ],
   "source": [
    "# create a DataFrame of tokens with their separate not toxic and toxic counts\n",
    "tokens = pd.DataFrame({'token':X_train_tokens, 'Not_toxic':Not_Toxic_token_count, 'Toxic':Toxic_token_count}).set_index('token')\n",
    "tokens.head()"
   ]
  },
  {
   "cell_type": "code",
   "execution_count": 37,
   "metadata": {
    "nbpresent": {
     "id": "c3ea41a7-993c-4834-a532-b3924f241d04"
    }
   },
   "outputs": [
    {
     "data": {
      "text/html": [
       "<div>\n",
       "<style>\n",
       "    .dataframe thead tr:only-child th {\n",
       "        text-align: right;\n",
       "    }\n",
       "\n",
       "    .dataframe thead th {\n",
       "        text-align: left;\n",
       "    }\n",
       "\n",
       "    .dataframe tbody tr th {\n",
       "        vertical-align: top;\n",
       "    }\n",
       "</style>\n",
       "<table border=\"1\" class=\"dataframe\">\n",
       "  <thead>\n",
       "    <tr style=\"text-align: right;\">\n",
       "      <th></th>\n",
       "      <th>Not_toxic</th>\n",
       "      <th>Toxic</th>\n",
       "    </tr>\n",
       "    <tr>\n",
       "      <th>token</th>\n",
       "      <th></th>\n",
       "      <th></th>\n",
       "    </tr>\n",
       "  </thead>\n",
       "  <tbody>\n",
       "    <tr>\n",
       "      <th>bottom .</th>\n",
       "      <td>4.942353</td>\n",
       "      <td>0.000000</td>\n",
       "    </tr>\n",
       "    <tr>\n",
       "      <th>that '</th>\n",
       "      <td>289.928780</td>\n",
       "      <td>25.072778</td>\n",
       "    </tr>\n",
       "    <tr>\n",
       "      <th>rules to</th>\n",
       "      <td>6.394032</td>\n",
       "      <td>0.248563</td>\n",
       "    </tr>\n",
       "    <tr>\n",
       "      <th>? surely</th>\n",
       "      <td>5.377625</td>\n",
       "      <td>0.000000</td>\n",
       "    </tr>\n",
       "    <tr>\n",
       "      <th>nyc</th>\n",
       "      <td>7.791876</td>\n",
       "      <td>0.384010</td>\n",
       "    </tr>\n",
       "  </tbody>\n",
       "</table>\n",
       "</div>"
      ],
      "text/plain": [
       "           Not_toxic      Toxic\n",
       "token                          \n",
       "bottom .    4.942353   0.000000\n",
       "that '    289.928780  25.072778\n",
       "rules to    6.394032   0.248563\n",
       "? surely    5.377625   0.000000\n",
       "nyc         7.791876   0.384010"
      ]
     },
     "execution_count": 37,
     "metadata": {},
     "output_type": "execute_result"
    }
   ],
   "source": [
    "# examine 5 random DataFrame rows\n",
    "tokens.sample(5, random_state=123)"
   ]
  },
  {
   "cell_type": "code",
   "execution_count": 38,
   "metadata": {
    "nbpresent": {
     "id": "18766647-89a7-4908-be44-8101a33000b1"
    }
   },
   "outputs": [
    {
     "data": {
      "text/plain": [
       "array([ 108281.,   11397.])"
      ]
     },
     "execution_count": 38,
     "metadata": {},
     "output_type": "execute_result"
    }
   ],
   "source": [
    "# Naive Bayes counts the number of observations in each class\n",
    "nb.class_count_"
   ]
  },
  {
   "cell_type": "code",
   "execution_count": 39,
   "metadata": {
    "nbpresent": {
     "id": "5c5fc4cf-539d-476c-92c5-6ce8eb17f83a"
    }
   },
   "outputs": [
    {
     "data": {
      "text/html": [
       "<div>\n",
       "<style>\n",
       "    .dataframe thead tr:only-child th {\n",
       "        text-align: right;\n",
       "    }\n",
       "\n",
       "    .dataframe thead th {\n",
       "        text-align: left;\n",
       "    }\n",
       "\n",
       "    .dataframe tbody tr th {\n",
       "        vertical-align: top;\n",
       "    }\n",
       "</style>\n",
       "<table border=\"1\" class=\"dataframe\">\n",
       "  <thead>\n",
       "    <tr style=\"text-align: right;\">\n",
       "      <th></th>\n",
       "      <th>Not_toxic</th>\n",
       "      <th>Toxic</th>\n",
       "    </tr>\n",
       "    <tr>\n",
       "      <th>token</th>\n",
       "      <th></th>\n",
       "      <th></th>\n",
       "    </tr>\n",
       "  </thead>\n",
       "  <tbody>\n",
       "    <tr>\n",
       "      <th>bottom .</th>\n",
       "      <td>5.942353</td>\n",
       "      <td>1.000000</td>\n",
       "    </tr>\n",
       "    <tr>\n",
       "      <th>that '</th>\n",
       "      <td>290.928780</td>\n",
       "      <td>26.072778</td>\n",
       "    </tr>\n",
       "    <tr>\n",
       "      <th>rules to</th>\n",
       "      <td>7.394032</td>\n",
       "      <td>1.248563</td>\n",
       "    </tr>\n",
       "    <tr>\n",
       "      <th>? surely</th>\n",
       "      <td>6.377625</td>\n",
       "      <td>1.000000</td>\n",
       "    </tr>\n",
       "    <tr>\n",
       "      <th>nyc</th>\n",
       "      <td>8.791876</td>\n",
       "      <td>1.384010</td>\n",
       "    </tr>\n",
       "  </tbody>\n",
       "</table>\n",
       "</div>"
      ],
      "text/plain": [
       "           Not_toxic      Toxic\n",
       "token                          \n",
       "bottom .    5.942353   1.000000\n",
       "that '    290.928780  26.072778\n",
       "rules to    7.394032   1.248563\n",
       "? surely    6.377625   1.000000\n",
       "nyc         8.791876   1.384010"
      ]
     },
     "execution_count": 39,
     "metadata": {},
     "output_type": "execute_result"
    }
   ],
   "source": [
    "# add 1 to not toxic and toxic counts to avoid dividing by 0\n",
    "tokens['Not_toxic'] = tokens.Not_toxic + 1\n",
    "tokens['Toxic'] = tokens.Toxic + 1\n",
    "tokens.sample(5, random_state=123)"
   ]
  },
  {
   "cell_type": "code",
   "execution_count": 40,
   "metadata": {
    "nbpresent": {
     "id": "d99ca327-70cb-420c-ab07-6cae73316738"
    }
   },
   "outputs": [
    {
     "data": {
      "text/html": [
       "<div>\n",
       "<style>\n",
       "    .dataframe thead tr:only-child th {\n",
       "        text-align: right;\n",
       "    }\n",
       "\n",
       "    .dataframe thead th {\n",
       "        text-align: left;\n",
       "    }\n",
       "\n",
       "    .dataframe tbody tr th {\n",
       "        vertical-align: top;\n",
       "    }\n",
       "</style>\n",
       "<table border=\"1\" class=\"dataframe\">\n",
       "  <thead>\n",
       "    <tr style=\"text-align: right;\">\n",
       "      <th></th>\n",
       "      <th>Not_toxic</th>\n",
       "      <th>Toxic</th>\n",
       "    </tr>\n",
       "    <tr>\n",
       "      <th>token</th>\n",
       "      <th></th>\n",
       "      <th></th>\n",
       "    </tr>\n",
       "  </thead>\n",
       "  <tbody>\n",
       "    <tr>\n",
       "      <th>bottom .</th>\n",
       "      <td>0.000055</td>\n",
       "      <td>0.000088</td>\n",
       "    </tr>\n",
       "    <tr>\n",
       "      <th>that '</th>\n",
       "      <td>0.002687</td>\n",
       "      <td>0.002288</td>\n",
       "    </tr>\n",
       "    <tr>\n",
       "      <th>rules to</th>\n",
       "      <td>0.000068</td>\n",
       "      <td>0.000110</td>\n",
       "    </tr>\n",
       "    <tr>\n",
       "      <th>? surely</th>\n",
       "      <td>0.000059</td>\n",
       "      <td>0.000088</td>\n",
       "    </tr>\n",
       "    <tr>\n",
       "      <th>nyc</th>\n",
       "      <td>0.000081</td>\n",
       "      <td>0.000121</td>\n",
       "    </tr>\n",
       "  </tbody>\n",
       "</table>\n",
       "</div>"
      ],
      "text/plain": [
       "          Not_toxic     Toxic\n",
       "token                        \n",
       "bottom .   0.000055  0.000088\n",
       "that '     0.002687  0.002288\n",
       "rules to   0.000068  0.000110\n",
       "? surely   0.000059  0.000088\n",
       "nyc        0.000081  0.000121"
      ]
     },
     "execution_count": 40,
     "metadata": {},
     "output_type": "execute_result"
    }
   ],
   "source": [
    "# convert the ham and spam counts into frequencies\n",
    "tokens['Not_toxic']  = tokens.Not_toxic  / nb.class_count_[0]\n",
    "tokens['Toxic']  = tokens.Toxic / nb.class_count_[1]\n",
    "tokens.sample(5, random_state=123)"
   ]
  },
  {
   "cell_type": "code",
   "execution_count": 41,
   "metadata": {
    "nbpresent": {
     "id": "2c377949-9bdf-470c-ab40-650b093cdab5"
    }
   },
   "outputs": [
    {
     "data": {
      "text/html": [
       "<div>\n",
       "<style>\n",
       "    .dataframe thead tr:only-child th {\n",
       "        text-align: right;\n",
       "    }\n",
       "\n",
       "    .dataframe thead th {\n",
       "        text-align: left;\n",
       "    }\n",
       "\n",
       "    .dataframe tbody tr th {\n",
       "        vertical-align: top;\n",
       "    }\n",
       "</style>\n",
       "<table border=\"1\" class=\"dataframe\">\n",
       "  <thead>\n",
       "    <tr style=\"text-align: right;\">\n",
       "      <th></th>\n",
       "      <th>Not_toxic</th>\n",
       "      <th>Toxic</th>\n",
       "      <th>spam_ratio</th>\n",
       "    </tr>\n",
       "    <tr>\n",
       "      <th>token</th>\n",
       "      <th></th>\n",
       "      <th></th>\n",
       "      <th></th>\n",
       "    </tr>\n",
       "  </thead>\n",
       "  <tbody>\n",
       "    <tr>\n",
       "      <th>bottom .</th>\n",
       "      <td>0.000055</td>\n",
       "      <td>0.000088</td>\n",
       "      <td>1.598833</td>\n",
       "    </tr>\n",
       "    <tr>\n",
       "      <th>that '</th>\n",
       "      <td>0.002687</td>\n",
       "      <td>0.002288</td>\n",
       "      <td>0.851456</td>\n",
       "    </tr>\n",
       "    <tr>\n",
       "      <th>rules to</th>\n",
       "      <td>0.000068</td>\n",
       "      <td>0.000110</td>\n",
       "      <td>1.604319</td>\n",
       "    </tr>\n",
       "    <tr>\n",
       "      <th>? surely</th>\n",
       "      <td>0.000059</td>\n",
       "      <td>0.000088</td>\n",
       "      <td>1.489714</td>\n",
       "    </tr>\n",
       "    <tr>\n",
       "      <th>nyc</th>\n",
       "      <td>0.000081</td>\n",
       "      <td>0.000121</td>\n",
       "      <td>1.495613</td>\n",
       "    </tr>\n",
       "    <tr>\n",
       "      <th>on their</th>\n",
       "      <td>0.000374</td>\n",
       "      <td>0.000367</td>\n",
       "      <td>0.981779</td>\n",
       "    </tr>\n",
       "    <tr>\n",
       "      <th>his claims</th>\n",
       "      <td>0.000050</td>\n",
       "      <td>0.000092</td>\n",
       "      <td>1.852271</td>\n",
       "    </tr>\n",
       "    <tr>\n",
       "      <th>who claim</th>\n",
       "      <td>0.000039</td>\n",
       "      <td>0.000098</td>\n",
       "      <td>2.478938</td>\n",
       "    </tr>\n",
       "    <tr>\n",
       "      <th>all due</th>\n",
       "      <td>0.000054</td>\n",
       "      <td>0.000119</td>\n",
       "      <td>2.178254</td>\n",
       "    </tr>\n",
       "    <tr>\n",
       "      <th>account</th>\n",
       "      <td>0.001708</td>\n",
       "      <td>0.001401</td>\n",
       "      <td>0.820055</td>\n",
       "    </tr>\n",
       "  </tbody>\n",
       "</table>\n",
       "</div>"
      ],
      "text/plain": [
       "            Not_toxic     Toxic  spam_ratio\n",
       "token                                      \n",
       "bottom .     0.000055  0.000088    1.598833\n",
       "that '       0.002687  0.002288    0.851456\n",
       "rules to     0.000068  0.000110    1.604319\n",
       "? surely     0.000059  0.000088    1.489714\n",
       "nyc          0.000081  0.000121    1.495613\n",
       "on their     0.000374  0.000367    0.981779\n",
       "his claims   0.000050  0.000092    1.852271\n",
       "who claim    0.000039  0.000098    2.478938\n",
       "all due      0.000054  0.000119    2.178254\n",
       "account      0.001708  0.001401    0.820055"
      ]
     },
     "execution_count": 41,
     "metadata": {},
     "output_type": "execute_result"
    }
   ],
   "source": [
    "# calculate the ratio of toxic to non-toxic for each token\n",
    "tokens['spam_ratio'] = tokens.Toxic/ tokens.Not_toxic\n",
    "tokens.sample(10, random_state=123)"
   ]
  },
  {
   "cell_type": "code",
   "execution_count": 42,
   "metadata": {
    "nbpresent": {
     "id": "10249ecc-c6a9-431a-86e3-537a08663c6a"
    }
   },
   "outputs": [
    {
     "data": {
      "text/html": [
       "<div>\n",
       "<style>\n",
       "    .dataframe thead tr:only-child th {\n",
       "        text-align: right;\n",
       "    }\n",
       "\n",
       "    .dataframe thead th {\n",
       "        text-align: left;\n",
       "    }\n",
       "\n",
       "    .dataframe tbody tr th {\n",
       "        vertical-align: top;\n",
       "    }\n",
       "</style>\n",
       "<table border=\"1\" class=\"dataframe\">\n",
       "  <thead>\n",
       "    <tr style=\"text-align: right;\">\n",
       "      <th></th>\n",
       "      <th>Not_toxic</th>\n",
       "      <th>Toxic</th>\n",
       "      <th>spam_ratio</th>\n",
       "    </tr>\n",
       "    <tr>\n",
       "      <th>token</th>\n",
       "      <th></th>\n",
       "      <th></th>\n",
       "      <th></th>\n",
       "    </tr>\n",
       "  </thead>\n",
       "  <tbody>\n",
       "    <tr>\n",
       "      <th>fuck you</th>\n",
       "      <td>0.000014</td>\n",
       "      <td>0.011236</td>\n",
       "      <td>812.790280</td>\n",
       "    </tr>\n",
       "    <tr>\n",
       "      <th>fuck</th>\n",
       "      <td>0.000063</td>\n",
       "      <td>0.028423</td>\n",
       "      <td>449.924837</td>\n",
       "    </tr>\n",
       "    <tr>\n",
       "      <th>fucking</th>\n",
       "      <td>0.000045</td>\n",
       "      <td>0.017698</td>\n",
       "      <td>389.529955</td>\n",
       "    </tr>\n",
       "    <tr>\n",
       "      <th>you fucking</th>\n",
       "      <td>0.000012</td>\n",
       "      <td>0.003917</td>\n",
       "      <td>332.880691</td>\n",
       "    </tr>\n",
       "    <tr>\n",
       "      <th>fuck yourself</th>\n",
       "      <td>0.000012</td>\n",
       "      <td>0.003772</td>\n",
       "      <td>318.039862</td>\n",
       "    </tr>\n",
       "    <tr>\n",
       "      <th>fuck off</th>\n",
       "      <td>0.000019</td>\n",
       "      <td>0.005734</td>\n",
       "      <td>298.313252</td>\n",
       "    </tr>\n",
       "    <tr>\n",
       "      <th>go fuck</th>\n",
       "      <td>0.000015</td>\n",
       "      <td>0.004473</td>\n",
       "      <td>294.632334</td>\n",
       "    </tr>\n",
       "    <tr>\n",
       "      <th>faggot</th>\n",
       "      <td>0.000022</td>\n",
       "      <td>0.006406</td>\n",
       "      <td>290.992025</td>\n",
       "    </tr>\n",
       "    <tr>\n",
       "      <th>fucker</th>\n",
       "      <td>0.000011</td>\n",
       "      <td>0.002976</td>\n",
       "      <td>277.428245</td>\n",
       "    </tr>\n",
       "    <tr>\n",
       "      <th>suck my</th>\n",
       "      <td>0.000012</td>\n",
       "      <td>0.003001</td>\n",
       "      <td>260.646402</td>\n",
       "    </tr>\n",
       "    <tr>\n",
       "      <th>you suck</th>\n",
       "      <td>0.000012</td>\n",
       "      <td>0.003079</td>\n",
       "      <td>260.253972</td>\n",
       "    </tr>\n",
       "    <tr>\n",
       "      <th>a fucking</th>\n",
       "      <td>0.000020</td>\n",
       "      <td>0.005125</td>\n",
       "      <td>256.535241</td>\n",
       "    </tr>\n",
       "    <tr>\n",
       "      <th>. fuck</th>\n",
       "      <td>0.000012</td>\n",
       "      <td>0.002923</td>\n",
       "      <td>245.834635</td>\n",
       "    </tr>\n",
       "    <tr>\n",
       "      <th>motherfucker</th>\n",
       "      <td>0.000010</td>\n",
       "      <td>0.002363</td>\n",
       "      <td>229.767806</td>\n",
       "    </tr>\n",
       "    <tr>\n",
       "      <th>the fuck</th>\n",
       "      <td>0.000022</td>\n",
       "      <td>0.005081</td>\n",
       "      <td>226.766617</td>\n",
       "    </tr>\n",
       "    <tr>\n",
       "      <th>faggot .</th>\n",
       "      <td>0.000011</td>\n",
       "      <td>0.002305</td>\n",
       "      <td>205.779343</td>\n",
       "    </tr>\n",
       "    <tr>\n",
       "      <th>bitch</th>\n",
       "      <td>0.000047</td>\n",
       "      <td>0.009428</td>\n",
       "      <td>201.380717</td>\n",
       "    </tr>\n",
       "    <tr>\n",
       "      <th>fuckin</th>\n",
       "      <td>0.000014</td>\n",
       "      <td>0.002714</td>\n",
       "      <td>200.758261</td>\n",
       "    </tr>\n",
       "    <tr>\n",
       "      <th>fuck u</th>\n",
       "      <td>0.000009</td>\n",
       "      <td>0.001839</td>\n",
       "      <td>199.129261</td>\n",
       "    </tr>\n",
       "    <tr>\n",
       "      <th>cock</th>\n",
       "      <td>0.000026</td>\n",
       "      <td>0.004596</td>\n",
       "      <td>179.705296</td>\n",
       "    </tr>\n",
       "    <tr>\n",
       "      <th>, fuck</th>\n",
       "      <td>0.000010</td>\n",
       "      <td>0.001658</td>\n",
       "      <td>165.076521</td>\n",
       "    </tr>\n",
       "    <tr>\n",
       "      <th>suck</th>\n",
       "      <td>0.000060</td>\n",
       "      <td>0.009725</td>\n",
       "      <td>162.826029</td>\n",
       "    </tr>\n",
       "    <tr>\n",
       "      <th>you fuck</th>\n",
       "      <td>0.000010</td>\n",
       "      <td>0.001546</td>\n",
       "      <td>155.604991</td>\n",
       "    </tr>\n",
       "    <tr>\n",
       "      <th>bitch .</th>\n",
       "      <td>0.000015</td>\n",
       "      <td>0.002317</td>\n",
       "      <td>153.452954</td>\n",
       "    </tr>\n",
       "    <tr>\n",
       "      <th>bitch !</th>\n",
       "      <td>0.000011</td>\n",
       "      <td>0.001671</td>\n",
       "      <td>152.371845</td>\n",
       "    </tr>\n",
       "    <tr>\n",
       "      <th>asshole</th>\n",
       "      <td>0.000052</td>\n",
       "      <td>0.007606</td>\n",
       "      <td>147.162589</td>\n",
       "    </tr>\n",
       "    <tr>\n",
       "      <th>a bitch</th>\n",
       "      <td>0.000016</td>\n",
       "      <td>0.002290</td>\n",
       "      <td>146.703117</td>\n",
       "    </tr>\n",
       "    <tr>\n",
       "      <th>! fuck</th>\n",
       "      <td>0.000009</td>\n",
       "      <td>0.001303</td>\n",
       "      <td>141.095116</td>\n",
       "    </tr>\n",
       "    <tr>\n",
       "      <th>go suck</th>\n",
       "      <td>0.000009</td>\n",
       "      <td>0.001286</td>\n",
       "      <td>139.284362</td>\n",
       "    </tr>\n",
       "    <tr>\n",
       "      <th>you stupid</th>\n",
       "      <td>0.000016</td>\n",
       "      <td>0.002196</td>\n",
       "      <td>133.694714</td>\n",
       "    </tr>\n",
       "    <tr>\n",
       "      <th>...</th>\n",
       "      <td>...</td>\n",
       "      <td>...</td>\n",
       "      <td>...</td>\n",
       "    </tr>\n",
       "    <tr>\n",
       "      <th>. jpg</th>\n",
       "      <td>0.001142</td>\n",
       "      <td>0.000195</td>\n",
       "      <td>0.170735</td>\n",
       "    </tr>\n",
       "    <tr>\n",
       "      <th>page if</th>\n",
       "      <td>0.000740</td>\n",
       "      <td>0.000126</td>\n",
       "      <td>0.169655</td>\n",
       "    </tr>\n",
       "    <tr>\n",
       "      <th>the image</th>\n",
       "      <td>0.001234</td>\n",
       "      <td>0.000208</td>\n",
       "      <td>0.168483</td>\n",
       "    </tr>\n",
       "    <tr>\n",
       "      <th>welcome !</th>\n",
       "      <td>0.000621</td>\n",
       "      <td>0.000104</td>\n",
       "      <td>0.167905</td>\n",
       "    </tr>\n",
       "    <tr>\n",
       "      <th>specific</th>\n",
       "      <td>0.001069</td>\n",
       "      <td>0.000179</td>\n",
       "      <td>0.167594</td>\n",
       "    </tr>\n",
       "    <tr>\n",
       "      <th>review</th>\n",
       "      <td>0.001679</td>\n",
       "      <td>0.000277</td>\n",
       "      <td>0.164886</td>\n",
       "    </tr>\n",
       "    <tr>\n",
       "      <th>our encyclopedia</th>\n",
       "      <td>0.000579</td>\n",
       "      <td>0.000095</td>\n",
       "      <td>0.164885</td>\n",
       "    </tr>\n",
       "    <tr>\n",
       "      <th>for experimenting</th>\n",
       "      <td>0.000537</td>\n",
       "      <td>0.000088</td>\n",
       "      <td>0.163484</td>\n",
       "    </tr>\n",
       "    <tr>\n",
       "      <th>article '</th>\n",
       "      <td>0.000785</td>\n",
       "      <td>0.000127</td>\n",
       "      <td>0.162098</td>\n",
       "    </tr>\n",
       "    <tr>\n",
       "      <th>please use</th>\n",
       "      <td>0.000865</td>\n",
       "      <td>0.000139</td>\n",
       "      <td>0.161185</td>\n",
       "    </tr>\n",
       "    <tr>\n",
       "      <th>\" please</th>\n",
       "      <td>0.001586</td>\n",
       "      <td>0.000244</td>\n",
       "      <td>0.154183</td>\n",
       "    </tr>\n",
       "    <tr>\n",
       "      <th>criteria for</th>\n",
       "      <td>0.000707</td>\n",
       "      <td>0.000106</td>\n",
       "      <td>0.149369</td>\n",
       "    </tr>\n",
       "    <tr>\n",
       "      <th>a note</th>\n",
       "      <td>0.000805</td>\n",
       "      <td>0.000118</td>\n",
       "      <td>0.146486</td>\n",
       "    </tr>\n",
       "    <tr>\n",
       "      <th>welcome page</th>\n",
       "      <td>0.000653</td>\n",
       "      <td>0.000095</td>\n",
       "      <td>0.145687</td>\n",
       "    </tr>\n",
       "    <tr>\n",
       "      <th>for deletion</th>\n",
       "      <td>0.001343</td>\n",
       "      <td>0.000194</td>\n",
       "      <td>0.144471</td>\n",
       "    </tr>\n",
       "    <tr>\n",
       "      <th>criteria</th>\n",
       "      <td>0.001125</td>\n",
       "      <td>0.000160</td>\n",
       "      <td>0.142275</td>\n",
       "    </tr>\n",
       "    <tr>\n",
       "      <th>tag</th>\n",
       "      <td>0.001786</td>\n",
       "      <td>0.000252</td>\n",
       "      <td>0.141221</td>\n",
       "    </tr>\n",
       "    <tr>\n",
       "      <th>cheers ,</th>\n",
       "      <td>0.000622</td>\n",
       "      <td>0.000088</td>\n",
       "      <td>0.141045</td>\n",
       "    </tr>\n",
       "    <tr>\n",
       "      <th>any questions</th>\n",
       "      <td>0.000680</td>\n",
       "      <td>0.000096</td>\n",
       "      <td>0.140933</td>\n",
       "    </tr>\n",
       "    <tr>\n",
       "      <th>learn more</th>\n",
       "      <td>0.000697</td>\n",
       "      <td>0.000095</td>\n",
       "      <td>0.136337</td>\n",
       "    </tr>\n",
       "    <tr>\n",
       "      <th>speedy deletion</th>\n",
       "      <td>0.001211</td>\n",
       "      <td>0.000165</td>\n",
       "      <td>0.135842</td>\n",
       "    </tr>\n",
       "    <tr>\n",
       "      <th>please see</th>\n",
       "      <td>0.000953</td>\n",
       "      <td>0.000128</td>\n",
       "      <td>0.134250</td>\n",
       "    </tr>\n",
       "    <tr>\n",
       "      <th>the welcome</th>\n",
       "      <td>0.000715</td>\n",
       "      <td>0.000095</td>\n",
       "      <td>0.132945</td>\n",
       "    </tr>\n",
       "    <tr>\n",
       "      <th>talk :</th>\n",
       "      <td>0.004362</td>\n",
       "      <td>0.000549</td>\n",
       "      <td>0.125800</td>\n",
       "    </tr>\n",
       "    <tr>\n",
       "      <th>wikipedia :</th>\n",
       "      <td>0.002538</td>\n",
       "      <td>0.000319</td>\n",
       "      <td>0.125512</td>\n",
       "    </tr>\n",
       "    <tr>\n",
       "      <th>wikiproject</th>\n",
       "      <td>0.001139</td>\n",
       "      <td>0.000142</td>\n",
       "      <td>0.124458</td>\n",
       "    </tr>\n",
       "    <tr>\n",
       "      <th>did with</th>\n",
       "      <td>0.001026</td>\n",
       "      <td>0.000113</td>\n",
       "      <td>0.110502</td>\n",
       "    </tr>\n",
       "    <tr>\n",
       "      <th>vandalize pages</th>\n",
       "      <td>0.001171</td>\n",
       "      <td>0.000111</td>\n",
       "      <td>0.094536</td>\n",
       "    </tr>\n",
       "    <tr>\n",
       "      <th>redirect</th>\n",
       "      <td>0.003575</td>\n",
       "      <td>0.000324</td>\n",
       "      <td>0.090708</td>\n",
       "    </tr>\n",
       "    <tr>\n",
       "      <th>redirect talk</th>\n",
       "      <td>0.002967</td>\n",
       "      <td>0.000210</td>\n",
       "      <td>0.070658</td>\n",
       "    </tr>\n",
       "  </tbody>\n",
       "</table>\n",
       "<p>50000 rows × 3 columns</p>\n",
       "</div>"
      ],
      "text/plain": [
       "                   Not_toxic     Toxic  spam_ratio\n",
       "token                                             \n",
       "fuck you            0.000014  0.011236  812.790280\n",
       "fuck                0.000063  0.028423  449.924837\n",
       "fucking             0.000045  0.017698  389.529955\n",
       "you fucking         0.000012  0.003917  332.880691\n",
       "fuck yourself       0.000012  0.003772  318.039862\n",
       "fuck off            0.000019  0.005734  298.313252\n",
       "go fuck             0.000015  0.004473  294.632334\n",
       "faggot              0.000022  0.006406  290.992025\n",
       "fucker              0.000011  0.002976  277.428245\n",
       "suck my             0.000012  0.003001  260.646402\n",
       "you suck            0.000012  0.003079  260.253972\n",
       "a fucking           0.000020  0.005125  256.535241\n",
       ". fuck              0.000012  0.002923  245.834635\n",
       "motherfucker        0.000010  0.002363  229.767806\n",
       "the fuck            0.000022  0.005081  226.766617\n",
       "faggot .            0.000011  0.002305  205.779343\n",
       "bitch               0.000047  0.009428  201.380717\n",
       "fuckin              0.000014  0.002714  200.758261\n",
       "fuck u              0.000009  0.001839  199.129261\n",
       "cock                0.000026  0.004596  179.705296\n",
       ", fuck              0.000010  0.001658  165.076521\n",
       "suck                0.000060  0.009725  162.826029\n",
       "you fuck            0.000010  0.001546  155.604991\n",
       "bitch .             0.000015  0.002317  153.452954\n",
       "bitch !             0.000011  0.001671  152.371845\n",
       "asshole             0.000052  0.007606  147.162589\n",
       "a bitch             0.000016  0.002290  146.703117\n",
       "! fuck              0.000009  0.001303  141.095116\n",
       "go suck             0.000009  0.001286  139.284362\n",
       "you stupid          0.000016  0.002196  133.694714\n",
       "...                      ...       ...         ...\n",
       ". jpg               0.001142  0.000195    0.170735\n",
       "page if             0.000740  0.000126    0.169655\n",
       "the image           0.001234  0.000208    0.168483\n",
       "welcome !           0.000621  0.000104    0.167905\n",
       "specific            0.001069  0.000179    0.167594\n",
       "review              0.001679  0.000277    0.164886\n",
       "our encyclopedia    0.000579  0.000095    0.164885\n",
       "for experimenting   0.000537  0.000088    0.163484\n",
       "article '           0.000785  0.000127    0.162098\n",
       "please use          0.000865  0.000139    0.161185\n",
       "\" please            0.001586  0.000244    0.154183\n",
       "criteria for        0.000707  0.000106    0.149369\n",
       "a note              0.000805  0.000118    0.146486\n",
       "welcome page        0.000653  0.000095    0.145687\n",
       "for deletion        0.001343  0.000194    0.144471\n",
       "criteria            0.001125  0.000160    0.142275\n",
       "tag                 0.001786  0.000252    0.141221\n",
       "cheers ,            0.000622  0.000088    0.141045\n",
       "any questions       0.000680  0.000096    0.140933\n",
       "learn more          0.000697  0.000095    0.136337\n",
       "speedy deletion     0.001211  0.000165    0.135842\n",
       "please see          0.000953  0.000128    0.134250\n",
       "the welcome         0.000715  0.000095    0.132945\n",
       "talk :              0.004362  0.000549    0.125800\n",
       "wikipedia :         0.002538  0.000319    0.125512\n",
       "wikiproject         0.001139  0.000142    0.124458\n",
       "did with            0.001026  0.000113    0.110502\n",
       "vandalize pages     0.001171  0.000111    0.094536\n",
       "redirect            0.003575  0.000324    0.090708\n",
       "redirect talk       0.002967  0.000210    0.070658\n",
       "\n",
       "[50000 rows x 3 columns]"
      ]
     },
     "execution_count": 42,
     "metadata": {},
     "output_type": "execute_result"
    }
   ],
   "source": [
    "# examine the DataFrame sorted by spam_ratio\n",
    "tokens.sort_values('spam_ratio', ascending=False)"
   ]
  },
  {
   "cell_type": "markdown",
   "metadata": {
    "nbpresent": {
     "id": "8ab0bc8a-cfe1-4309-9364-d40295b99711"
    }
   },
   "source": []
  },
  {
   "cell_type": "code",
   "execution_count": null,
   "metadata": {
    "collapsed": true,
    "nbpresent": {
     "id": "a7d6b869-d82e-49a5-836c-e5f6bf74e2fd"
    }
   },
   "outputs": [],
   "source": []
  },
  {
   "cell_type": "code",
   "execution_count": null,
   "metadata": {
    "collapsed": true,
    "nbpresent": {
     "id": "51646701-bda9-4ec0-8d36-6c2d0d29f6fc"
    }
   },
   "outputs": [],
   "source": []
  },
  {
   "cell_type": "code",
   "execution_count": null,
   "metadata": {
    "collapsed": true
   },
   "outputs": [],
   "source": []
  }
 ],
 "metadata": {
  "kernelspec": {
   "display_name": "Python [default]",
   "language": "python",
   "name": "python3"
  },
  "language_info": {
   "codemirror_mode": {
    "name": "ipython",
    "version": 3
   },
   "file_extension": ".py",
   "mimetype": "text/x-python",
   "name": "python",
   "nbconvert_exporter": "python",
   "pygments_lexer": "ipython3",
   "version": "3.6.3"
  },
  "nbpresent": {
   "slides": {
    "0a83fc6b-17ac-4d27-86e3-eb1ab4cc16a3": {
     "id": "0a83fc6b-17ac-4d27-86e3-eb1ab4cc16a3",
     "prev": "3037fe2d-ce4e-4ad9-b9a3-2e449f45b750",
     "regions": {
      "6693b1a1-5bc9-482f-a00b-6f295b4cf777": {
       "attrs": {
        "height": 0.8,
        "width": 0.8,
        "x": 0.1,
        "y": 0.1
       },
       "content": {
        "cell": "bb45faed-cee7-431c-bb5f-a0df4e780dad",
        "part": "whole"
       },
       "id": "6693b1a1-5bc9-482f-a00b-6f295b4cf777"
      }
     }
    },
    "0ff7f78c-9ee7-41d6-8288-03759eb9cd49": {
     "id": "0ff7f78c-9ee7-41d6-8288-03759eb9cd49",
     "prev": "5b31b61e-13d2-401e-a1d7-4eb61ba98b15",
     "regions": {
      "3d58727b-ce27-4236-a913-72f808724e75": {
       "attrs": {
        "height": 0.8,
        "width": 0.8,
        "x": 0.1,
        "y": 0.1
       },
       "content": {
        "cell": "9c468beb-6b79-435d-8e0a-9168e2a96562",
        "part": "whole"
       },
       "id": "3d58727b-ce27-4236-a913-72f808724e75"
      }
     }
    },
    "108968ba-1ad0-4c6a-a6d2-a6641667532c": {
     "id": "108968ba-1ad0-4c6a-a6d2-a6641667532c",
     "prev": "ae47263e-1ba6-4c08-b25c-24fabb46451a",
     "regions": {
      "720deb55-e165-43b9-ba17-c912af8ad943": {
       "attrs": {
        "height": 0.8,
        "width": 0.8,
        "x": 0.1,
        "y": 0.1
       },
       "content": {
        "cell": "b602462b-41e0-4a0d-83b1-bcb101e06d20",
        "part": "whole"
       },
       "id": "720deb55-e165-43b9-ba17-c912af8ad943"
      }
     }
    },
    "128099bd-3204-432d-9bc8-e025034d08a7": {
     "id": "128099bd-3204-432d-9bc8-e025034d08a7",
     "prev": "c8b3d9ff-9671-4338-8c26-76e516d85e87",
     "regions": {
      "07fe8dd9-af56-4265-896e-0567a4f70587": {
       "attrs": {
        "height": 0.8,
        "width": 0.8,
        "x": 0.1,
        "y": 0.1
       },
       "content": {
        "cell": "c0b0f853-ccca-4734-bc03-4ab0c586e4d5",
        "part": "whole"
       },
       "id": "07fe8dd9-af56-4265-896e-0567a4f70587"
      }
     }
    },
    "1def6ce0-a4dd-45e0-a800-8644978c7c37": {
     "id": "1def6ce0-a4dd-45e0-a800-8644978c7c37",
     "prev": "ef89f317-e2a5-4d08-851e-9cd536c786f6",
     "regions": {
      "e67e4d27-1ca1-412b-bf97-660fefdaf884": {
       "attrs": {
        "height": 0.8,
        "width": 0.8,
        "x": 0.1,
        "y": 0.1
       },
       "content": {
        "cell": "e50e305b-8340-4d90-9e38-5f5ca3abf0ef",
        "part": "whole"
       },
       "id": "e67e4d27-1ca1-412b-bf97-660fefdaf884"
      }
     }
    },
    "221ca2f5-f292-4c22-bafc-ae15abea97b5": {
     "id": "221ca2f5-f292-4c22-bafc-ae15abea97b5",
     "prev": "1def6ce0-a4dd-45e0-a800-8644978c7c37",
     "regions": {
      "ea3a5efe-e643-4fb1-b96c-09e75b798983": {
       "attrs": {
        "height": 0.8,
        "width": 0.8,
        "x": 0.1,
        "y": 0.1
       },
       "content": {
        "cell": "cdb31310-682f-4022-9c47-efeae1f6e415",
        "part": "whole"
       },
       "id": "ea3a5efe-e643-4fb1-b96c-09e75b798983"
      }
     }
    },
    "29817714-5d34-4080-a323-e8c8d9e6ed84": {
     "id": "29817714-5d34-4080-a323-e8c8d9e6ed84",
     "prev": "ff5d3955-80fe-4b15-9b2c-1bdfa0962f92",
     "regions": {
      "57da3793-3993-4659-9c7b-56131c470cc4": {
       "attrs": {
        "height": 0.8,
        "width": 0.8,
        "x": 0.1,
        "y": 0.1
       },
       "content": {
        "cell": "51646701-bda9-4ec0-8d36-6c2d0d29f6fc",
        "part": "whole"
       },
       "id": "57da3793-3993-4659-9c7b-56131c470cc4"
      }
     }
    },
    "2bb509be-1f2c-48d6-8ee6-6fc4ce0082b7": {
     "id": "2bb509be-1f2c-48d6-8ee6-6fc4ce0082b7",
     "prev": "0a83fc6b-17ac-4d27-86e3-eb1ab4cc16a3",
     "regions": {
      "09ad1b73-d37c-43e5-8fb4-268254ce9cb7": {
       "attrs": {
        "height": 0.8,
        "width": 0.8,
        "x": 0.1,
        "y": 0.1
       },
       "content": {
        "cell": "1d07d489-f6cc-405e-af52-76a48f28fd98",
        "part": "whole"
       },
       "id": "09ad1b73-d37c-43e5-8fb4-268254ce9cb7"
      }
     }
    },
    "3037fe2d-ce4e-4ad9-b9a3-2e449f45b750": {
     "id": "3037fe2d-ce4e-4ad9-b9a3-2e449f45b750",
     "prev": "834b8ca3-469b-4a6a-a0a4-d6932711f232",
     "regions": {
      "b2c50da8-a106-42b8-ab7d-5f488143223a": {
       "attrs": {
        "height": 0.8,
        "width": 0.8,
        "x": 0.1,
        "y": 0.1
       },
       "content": {
        "cell": "72bdd77f-efc1-4bc9-b79d-833da402da11",
        "part": "whole"
       },
       "id": "b2c50da8-a106-42b8-ab7d-5f488143223a"
      }
     }
    },
    "42cc9332-e3f0-4764-bac1-d137121dafae": {
     "id": "42cc9332-e3f0-4764-bac1-d137121dafae",
     "prev": "bc48985a-3fa8-4c95-afda-f0b697e3bdcf",
     "regions": {
      "3f8314b7-a3b0-4771-99e0-576764b83945": {
       "attrs": {
        "height": 0.8,
        "width": 0.8,
        "x": 0.1,
        "y": 0.1
       },
       "content": {
        "cell": "238ac920-1054-4a04-a2cd-8955e88d1ca5",
        "part": "whole"
       },
       "id": "3f8314b7-a3b0-4771-99e0-576764b83945"
      }
     }
    },
    "4991306f-fbe8-4fa3-8dd4-891e8925334b": {
     "id": "4991306f-fbe8-4fa3-8dd4-891e8925334b",
     "prev": "0ff7f78c-9ee7-41d6-8288-03759eb9cd49",
     "regions": {
      "7a052a4a-35ac-4e9f-b1fa-3eb4ebb229ac": {
       "attrs": {
        "height": 0.8,
        "width": 0.8,
        "x": 0.1,
        "y": 0.1
       },
       "content": {
        "cell": "aa6a4d90-97ff-4b18-9b11-3c8e73da0848",
        "part": "whole"
       },
       "id": "7a052a4a-35ac-4e9f-b1fa-3eb4ebb229ac"
      }
     }
    },
    "49c29828-e490-4f53-b10d-2f0638be9823": {
     "id": "49c29828-e490-4f53-b10d-2f0638be9823",
     "prev": "42cc9332-e3f0-4764-bac1-d137121dafae",
     "regions": {
      "989248e2-467a-492e-a725-507561920009": {
       "attrs": {
        "height": 0.8,
        "width": 0.8,
        "x": 0.1,
        "y": 0.1
       },
       "content": {
        "cell": "1a9f2fb1-1155-4ac4-9963-145d3bd2297d",
        "part": "whole"
       },
       "id": "989248e2-467a-492e-a725-507561920009"
      }
     }
    },
    "4b92f9f6-dbac-41a9-aeff-3c0bd8ff6f02": {
     "id": "4b92f9f6-dbac-41a9-aeff-3c0bd8ff6f02",
     "prev": "8e552f46-f5dd-4cf4-9659-29eb81bda3f9",
     "regions": {
      "6cfaede0-104b-48ab-8720-cae6c6de29c9": {
       "attrs": {
        "height": 0.8,
        "width": 0.8,
        "x": 0.1,
        "y": 0.1
       },
       "content": {
        "cell": "e9a83f8b-4514-4e88-bde7-8ee2c509d664",
        "part": "whole"
       },
       "id": "6cfaede0-104b-48ab-8720-cae6c6de29c9"
      }
     }
    },
    "4cd54228-51aa-4be9-9d2b-5b6026888a55": {
     "id": "4cd54228-51aa-4be9-9d2b-5b6026888a55",
     "prev": "f1f1ef62-52bc-4212-90f2-a3b155cc240d",
     "regions": {
      "88e20a06-945d-4853-a206-069627ed518f": {
       "attrs": {
        "height": 0.8,
        "width": 0.8,
        "x": 0.1,
        "y": 0.1
       },
       "content": {
        "cell": "8ab0bc8a-cfe1-4309-9364-d40295b99711",
        "part": "whole"
       },
       "id": "88e20a06-945d-4853-a206-069627ed518f"
      }
     }
    },
    "4d232103-784b-4b20-95d6-23f5e9bc615a": {
     "id": "4d232103-784b-4b20-95d6-23f5e9bc615a",
     "prev": "f2c56940-b540-4fca-9bd0-f15178ea4356",
     "regions": {
      "7ac6624a-d3e9-4f67-bcc2-9c50954e8ba4": {
       "attrs": {
        "height": 0.8,
        "width": 0.8,
        "x": 0.1,
        "y": 0.1
       },
       "content": {
        "cell": "60b4a9d4-b256-4038-a1e1-83ff85de3052",
        "part": "whole"
       },
       "id": "7ac6624a-d3e9-4f67-bcc2-9c50954e8ba4"
      }
     }
    },
    "5b31b61e-13d2-401e-a1d7-4eb61ba98b15": {
     "id": "5b31b61e-13d2-401e-a1d7-4eb61ba98b15",
     "prev": "c8c224bc-83cb-4530-9f95-0e161c0fe4ba",
     "regions": {
      "b1d44840-951b-4170-9bf0-bc0468db4696": {
       "attrs": {
        "height": 0.8,
        "width": 0.8,
        "x": 0.1,
        "y": 0.1
       },
       "content": {
        "cell": "30b0fef1-c90c-4a8c-b363-42207008165a",
        "part": "whole"
       },
       "id": "b1d44840-951b-4170-9bf0-bc0468db4696"
      }
     }
    },
    "71f43aaa-8062-47c3-80c4-a1c6cb00a172": {
     "id": "71f43aaa-8062-47c3-80c4-a1c6cb00a172",
     "prev": "baade901-beff-4928-9f49-10574c198f27",
     "regions": {
      "da735bc5-3c80-46a1-bbc6-49cd57ec45d6": {
       "attrs": {
        "height": 0.8,
        "width": 0.8,
        "x": 0.1,
        "y": 0.1
       },
       "content": {
        "cell": "ae33997f-7e02-4161-8aa0-3620f0b8d5c1",
        "part": "whole"
       },
       "id": "da735bc5-3c80-46a1-bbc6-49cd57ec45d6"
      }
     }
    },
    "8294384b-2975-4b7f-bd55-fc8d77cca63a": {
     "id": "8294384b-2975-4b7f-bd55-fc8d77cca63a",
     "prev": "b7b0bf75-c5b4-42cf-88d6-3803802d64e7",
     "regions": {
      "94c083f0-971d-4a3e-a227-821f7c69d24c": {
       "attrs": {
        "height": 0.8,
        "width": 0.8,
        "x": 0.1,
        "y": 0.1
       },
       "content": {
        "cell": "18766647-89a7-4908-be44-8101a33000b1",
        "part": "whole"
       },
       "id": "94c083f0-971d-4a3e-a227-821f7c69d24c"
      }
     }
    },
    "834b8ca3-469b-4a6a-a0a4-d6932711f232": {
     "id": "834b8ca3-469b-4a6a-a0a4-d6932711f232",
     "prev": "8e7d6458-657e-4ee0-8ec0-b4d3b580835f",
     "regions": {
      "4fa76c5d-39cb-491c-a1b6-c7bc89415644": {
       "attrs": {
        "height": 0.8,
        "width": 0.8,
        "x": 0.1,
        "y": 0.1
       },
       "content": {
        "cell": "b4548a95-08cb-44ba-bbc4-5cc4add0e445",
        "part": "whole"
       },
       "id": "4fa76c5d-39cb-491c-a1b6-c7bc89415644"
      }
     }
    },
    "8668307c-da58-4a1c-9f13-cb3ec1f41683": {
     "id": "8668307c-da58-4a1c-9f13-cb3ec1f41683",
     "prev": "2bb509be-1f2c-48d6-8ee6-6fc4ce0082b7",
     "regions": {
      "7d09ac17-d3c5-4f5e-9084-ec3bdfeb40f4": {
       "attrs": {
        "height": 0.8,
        "width": 0.8,
        "x": 0.1,
        "y": 0.1
       },
       "content": {
        "cell": "a4f7e33f-feab-4429-bff5-82b722fc6728",
        "part": "whole"
       },
       "id": "7d09ac17-d3c5-4f5e-9084-ec3bdfeb40f4"
      }
     }
    },
    "8e552f46-f5dd-4cf4-9659-29eb81bda3f9": {
     "id": "8e552f46-f5dd-4cf4-9659-29eb81bda3f9",
     "prev": "933ba7c8-2094-400c-880f-2258852274e4",
     "regions": {
      "90594751-76cd-407c-9cb9-200f37d69460": {
       "attrs": {
        "height": 0.8,
        "width": 0.8,
        "x": 0.1,
        "y": 0.1
       },
       "content": {
        "cell": "bf5e4d9f-238a-4f03-91b8-597f6fcafaef",
        "part": "whole"
       },
       "id": "90594751-76cd-407c-9cb9-200f37d69460"
      }
     }
    },
    "8e7d6458-657e-4ee0-8ec0-b4d3b580835f": {
     "id": "8e7d6458-657e-4ee0-8ec0-b4d3b580835f",
     "prev": "efb27048-75d4-456e-9315-1fc69025aed9",
     "regions": {
      "8dbfaf0f-603f-49fc-aed9-eeb8b2028eb3": {
       "attrs": {
        "height": 0.8,
        "width": 0.8,
        "x": 0.1,
        "y": 0.1
       },
       "content": {
        "cell": "7856fe82-b551-45ad-bca0-a8f1e47431eb",
        "part": "whole"
       },
       "id": "8dbfaf0f-603f-49fc-aed9-eeb8b2028eb3"
      }
     }
    },
    "933ba7c8-2094-400c-880f-2258852274e4": {
     "id": "933ba7c8-2094-400c-880f-2258852274e4",
     "prev": "dc274b0c-e011-494d-b051-a62b67e7860e",
     "regions": {
      "ddae65d8-0f57-4a98-a0ea-286017f1a30c": {
       "attrs": {
        "height": 0.8,
        "width": 0.8,
        "x": 0.1,
        "y": 0.1
       },
       "content": {
        "cell": "57d8c413-e279-4f3e-837e-dde4885939b2",
        "part": "whole"
       },
       "id": "ddae65d8-0f57-4a98-a0ea-286017f1a30c"
      }
     }
    },
    "98227511-b082-4899-9484-47d1973a60ba": {
     "id": "98227511-b082-4899-9484-47d1973a60ba",
     "prev": "f429a9c2-3193-4878-8eaa-d24128125daa",
     "regions": {
      "ad7a6bc1-8f3e-4cda-9ad6-4c72f5d3ee93": {
       "attrs": {
        "height": 0.8,
        "width": 0.8,
        "x": 0.1,
        "y": 0.1
       },
       "content": {
        "cell": "12da8e82-375e-4c9f-b25a-4f8dfd72710d",
        "part": "whole"
       },
       "id": "ad7a6bc1-8f3e-4cda-9ad6-4c72f5d3ee93"
      }
     }
    },
    "9b500261-dead-4443-8ac6-7d0651e3e2b7": {
     "id": "9b500261-dead-4443-8ac6-7d0651e3e2b7",
     "prev": "b8378af7-ca2a-4acc-912b-ea8a432379c8",
     "regions": {
      "5449c146-c37d-466b-b203-473bfb0e6f70": {
       "attrs": {
        "height": 0.8,
        "width": 0.8,
        "x": 0.1,
        "y": 0.1
       },
       "content": {
        "cell": "d99ca327-70cb-420c-ab07-6cae73316738",
        "part": "whole"
       },
       "id": "5449c146-c37d-466b-b203-473bfb0e6f70"
      }
     }
    },
    "a24420d3-ae4c-45ba-8d9f-0ff93490a4c6": {
     "id": "a24420d3-ae4c-45ba-8d9f-0ff93490a4c6",
     "prev": "128099bd-3204-432d-9bc8-e025034d08a7",
     "regions": {
      "960c886a-1674-4f71-aace-43e933f3300e": {
       "attrs": {
        "height": 0.8,
        "width": 0.8,
        "x": 0.1,
        "y": 0.1
       },
       "content": {
        "cell": "bdd58df6-88b2-4288-9b98-b0de0873f945",
        "part": "whole"
       },
       "id": "960c886a-1674-4f71-aace-43e933f3300e"
      }
     }
    },
    "a2558448-7603-4a06-b5dd-d356feed36e1": {
     "id": "a2558448-7603-4a06-b5dd-d356feed36e1",
     "prev": "9b500261-dead-4443-8ac6-7d0651e3e2b7",
     "regions": {
      "a6167d38-8e86-484b-8fc6-5995d0b7644e": {
       "attrs": {
        "height": 0.8,
        "width": 0.8,
        "x": 0.1,
        "y": 0.1
       },
       "content": {
        "cell": "2c377949-9bdf-470c-ab40-650b093cdab5",
        "part": "whole"
       },
       "id": "a6167d38-8e86-484b-8fc6-5995d0b7644e"
      }
     }
    },
    "ae47263e-1ba6-4c08-b25c-24fabb46451a": {
     "id": "ae47263e-1ba6-4c08-b25c-24fabb46451a",
     "prev": "49c29828-e490-4f53-b10d-2f0638be9823",
     "regions": {
      "9076d9ab-fbfd-4e78-bdbf-b83068132f66": {
       "attrs": {
        "height": 0.8,
        "width": 0.8,
        "x": 0.1,
        "y": 0.1
       },
       "content": {
        "cell": "1ed11770-628f-4912-85c7-638c515b47fb",
        "part": "whole"
       },
       "id": "9076d9ab-fbfd-4e78-bdbf-b83068132f66"
      }
     }
    },
    "af518937-b4f7-4489-ad2d-a9806103150f": {
     "id": "af518937-b4f7-4489-ad2d-a9806103150f",
     "prev": null,
     "regions": {
      "4d3f7f7f-7459-49f9-9e4f-e3ba7358502c": {
       "attrs": {
        "height": 0.8,
        "width": 0.8,
        "x": 0.1,
        "y": 0.1
       },
       "content": {
        "cell": "9e5d9ad2-606f-4626-9cb1-0f04396b6880",
        "part": "whole"
       },
       "id": "4d3f7f7f-7459-49f9-9e4f-e3ba7358502c"
      }
     }
    },
    "b2ad1997-8ec2-42ff-9c51-7a408eb8d5e3": {
     "id": "b2ad1997-8ec2-42ff-9c51-7a408eb8d5e3",
     "prev": "221ca2f5-f292-4c22-bafc-ae15abea97b5",
     "regions": {
      "64750128-3130-48b8-98c3-ab93699bc46b": {
       "attrs": {
        "height": 0.8,
        "width": 0.8,
        "x": 0.1,
        "y": 0.1
       },
       "content": {
        "cell": "7a91e923-6852-4e5c-8b1e-bda321b46c8c",
        "part": "whole"
       },
       "id": "64750128-3130-48b8-98c3-ab93699bc46b"
      }
     }
    },
    "b5b8c51d-fd05-4ba3-934e-649f6686675a": {
     "id": "b5b8c51d-fd05-4ba3-934e-649f6686675a",
     "prev": "71f43aaa-8062-47c3-80c4-a1c6cb00a172",
     "regions": {
      "ba9cc4fa-122a-4793-b0f7-94504c43ae9d": {
       "attrs": {
        "height": 0.8,
        "width": 0.8,
        "x": 0.1,
        "y": 0.1
       },
       "content": {
        "cell": "5b8496bc-f742-4cea-b9ad-95c391146a34",
        "part": "whole"
       },
       "id": "ba9cc4fa-122a-4793-b0f7-94504c43ae9d"
      }
     }
    },
    "b7b0bf75-c5b4-42cf-88d6-3803802d64e7": {
     "id": "b7b0bf75-c5b4-42cf-88d6-3803802d64e7",
     "prev": "98227511-b082-4899-9484-47d1973a60ba",
     "regions": {
      "2bd8a40f-f555-46dd-8571-01552a420e15": {
       "attrs": {
        "height": 0.8,
        "width": 0.8,
        "x": 0.1,
        "y": 0.1
       },
       "content": {
        "cell": "c3ea41a7-993c-4834-a532-b3924f241d04",
        "part": "whole"
       },
       "id": "2bd8a40f-f555-46dd-8571-01552a420e15"
      }
     }
    },
    "b8378af7-ca2a-4acc-912b-ea8a432379c8": {
     "id": "b8378af7-ca2a-4acc-912b-ea8a432379c8",
     "prev": "8294384b-2975-4b7f-bd55-fc8d77cca63a",
     "regions": {
      "4cd7f0ea-5f2e-45e0-9fa0-e77edc772fee": {
       "attrs": {
        "height": 0.8,
        "width": 0.8,
        "x": 0.1,
        "y": 0.1
       },
       "content": {
        "cell": "5c5fc4cf-539d-476c-92c5-6ce8eb17f83a",
        "part": "whole"
       },
       "id": "4cd7f0ea-5f2e-45e0-9fa0-e77edc772fee"
      }
     }
    },
    "baade901-beff-4928-9f49-10574c198f27": {
     "id": "baade901-beff-4928-9f49-10574c198f27",
     "prev": "4991306f-fbe8-4fa3-8dd4-891e8925334b",
     "regions": {
      "3fb8ea71-93f1-4db0-91a7-908ff6ea1062": {
       "attrs": {
        "height": 0.8,
        "width": 0.8,
        "x": 0.1,
        "y": 0.1
       },
       "content": {
        "cell": "fb029d71-e5d4-42df-b716-890dc1ffb1a0",
        "part": "whole"
       },
       "id": "3fb8ea71-93f1-4db0-91a7-908ff6ea1062"
      }
     }
    },
    "bc48985a-3fa8-4c95-afda-f0b697e3bdcf": {
     "id": "bc48985a-3fa8-4c95-afda-f0b697e3bdcf",
     "prev": "c5647b84-92e6-462b-a2e8-f327bfe705a9",
     "regions": {
      "efe15638-8478-4da2-873d-b352f3b6dab4": {
       "attrs": {
        "height": 0.8,
        "width": 0.8,
        "x": 0.1,
        "y": 0.1
       },
       "content": {
        "cell": "9d626ba1-a09c-49d7-8d04-a449377a5e9d",
        "part": "whole"
       },
       "id": "efe15638-8478-4da2-873d-b352f3b6dab4"
      }
     }
    },
    "c5647b84-92e6-462b-a2e8-f327bfe705a9": {
     "id": "c5647b84-92e6-462b-a2e8-f327bfe705a9",
     "prev": "df1041fa-1447-4f2a-9979-75e89451c55f",
     "regions": {
      "fec5fb14-bf5b-4678-9866-d282774aa6f8": {
       "attrs": {
        "height": 0.8,
        "width": 0.8,
        "x": 0.1,
        "y": 0.1
       },
       "content": {
        "cell": "0dca0d63-7db7-4462-9a09-4951e6568871",
        "part": "whole"
       },
       "id": "fec5fb14-bf5b-4678-9866-d282774aa6f8"
      }
     }
    },
    "c8b3d9ff-9671-4338-8c26-76e516d85e87": {
     "id": "c8b3d9ff-9671-4338-8c26-76e516d85e87",
     "prev": "b5b8c51d-fd05-4ba3-934e-649f6686675a",
     "regions": {
      "fb86f283-ce96-4f12-ad78-2618b1eb439f": {
       "attrs": {
        "height": 0.8,
        "width": 0.8,
        "x": 0.1,
        "y": 0.1
       },
       "content": {
        "cell": "e1091769-8e62-4904-83a1-30b0fa581379",
        "part": "whole"
       },
       "id": "fb86f283-ce96-4f12-ad78-2618b1eb439f"
      }
     }
    },
    "c8c224bc-83cb-4530-9f95-0e161c0fe4ba": {
     "id": "c8c224bc-83cb-4530-9f95-0e161c0fe4ba",
     "prev": "4d232103-784b-4b20-95d6-23f5e9bc615a",
     "regions": {
      "c0eec290-1f63-4296-b434-d38d1463d760": {
       "attrs": {
        "height": 0.8,
        "width": 0.8,
        "x": 0.1,
        "y": 0.1
       },
       "content": {
        "cell": "467c71f6-5e01-460e-ab64-2e453b772cd4",
        "part": "whole"
       },
       "id": "c0eec290-1f63-4296-b434-d38d1463d760"
      }
     }
    },
    "dc274b0c-e011-494d-b051-a62b67e7860e": {
     "id": "dc274b0c-e011-494d-b051-a62b67e7860e",
     "prev": "b2ad1997-8ec2-42ff-9c51-7a408eb8d5e3",
     "regions": {
      "09a5b602-17f8-4df9-88fc-ab4d81d4820e": {
       "attrs": {
        "height": 0.8,
        "width": 0.8,
        "x": 0.1,
        "y": 0.1
       },
       "content": {
        "cell": "b29601a7-ad49-4593-98c8-4e849ff3efef",
        "part": "whole"
       },
       "id": "09a5b602-17f8-4df9-88fc-ab4d81d4820e"
      }
     }
    },
    "df1041fa-1447-4f2a-9979-75e89451c55f": {
     "id": "df1041fa-1447-4f2a-9979-75e89451c55f",
     "prev": "af518937-b4f7-4489-ad2d-a9806103150f",
     "regions": {
      "40af00e2-c675-4faf-b6cd-d7ddf1f65bb3": {
       "attrs": {
        "height": 0.8,
        "width": 0.8,
        "x": 0.1,
        "y": 0.1
       },
       "content": {
        "cell": "d83d2cf5-c17c-4f6e-b4ab-075d36f913b6",
        "part": "whole"
       },
       "id": "40af00e2-c675-4faf-b6cd-d7ddf1f65bb3"
      }
     }
    },
    "ef89f317-e2a5-4d08-851e-9cd536c786f6": {
     "id": "ef89f317-e2a5-4d08-851e-9cd536c786f6",
     "prev": "a24420d3-ae4c-45ba-8d9f-0ff93490a4c6",
     "regions": {
      "633ddf0a-7b65-4f63-89cb-edca52a24d54": {
       "attrs": {
        "height": 0.8,
        "width": 0.8,
        "x": 0.1,
        "y": 0.1
       },
       "content": {
        "cell": "6f8a05c6-99a8-4057-9c08-f018b05a523d",
        "part": "whole"
       },
       "id": "633ddf0a-7b65-4f63-89cb-edca52a24d54"
      }
     }
    },
    "efb27048-75d4-456e-9315-1fc69025aed9": {
     "id": "efb27048-75d4-456e-9315-1fc69025aed9",
     "prev": "4b92f9f6-dbac-41a9-aeff-3c0bd8ff6f02",
     "regions": {
      "0bf8c1eb-d3a2-41c6-8dca-c6d9284e2255": {
       "attrs": {
        "height": 0.8,
        "width": 0.8,
        "x": 0.1,
        "y": 0.1
       },
       "content": {
        "cell": "f9c2a99a-0fa6-4aac-b2ed-2ce5cd064e55",
        "part": "whole"
       },
       "id": "0bf8c1eb-d3a2-41c6-8dca-c6d9284e2255"
      }
     }
    },
    "f1f1ef62-52bc-4212-90f2-a3b155cc240d": {
     "id": "f1f1ef62-52bc-4212-90f2-a3b155cc240d",
     "prev": "a2558448-7603-4a06-b5dd-d356feed36e1",
     "regions": {
      "30c452ad-62bf-4cc7-9620-5d4df268a8c7": {
       "attrs": {
        "height": 0.8,
        "width": 0.8,
        "x": 0.1,
        "y": 0.1
       },
       "content": {
        "cell": "10249ecc-c6a9-431a-86e3-537a08663c6a",
        "part": "whole"
       },
       "id": "30c452ad-62bf-4cc7-9620-5d4df268a8c7"
      }
     }
    },
    "f2c56940-b540-4fca-9bd0-f15178ea4356": {
     "id": "f2c56940-b540-4fca-9bd0-f15178ea4356",
     "prev": "108968ba-1ad0-4c6a-a6d2-a6641667532c",
     "regions": {
      "d261b97a-f1ac-41da-86a3-387c217ff7a2": {
       "attrs": {
        "height": 0.8,
        "width": 0.8,
        "x": 0.1,
        "y": 0.1
       },
       "content": {
        "cell": "3adfbde4-e19e-40f2-a950-fd3cd51365d6",
        "part": "whole"
       },
       "id": "d261b97a-f1ac-41da-86a3-387c217ff7a2"
      }
     }
    },
    "f429a9c2-3193-4878-8eaa-d24128125daa": {
     "id": "f429a9c2-3193-4878-8eaa-d24128125daa",
     "prev": "8668307c-da58-4a1c-9f13-cb3ec1f41683",
     "regions": {
      "b716209c-a732-4fe4-bc63-96e0f1c0870f": {
       "attrs": {
        "height": 0.8,
        "width": 0.8,
        "x": 0.1,
        "y": 0.1
       },
       "content": {
        "cell": "19d5af10-8bfe-4ca5-9221-e2de6ec00f8b",
        "part": "whole"
       },
       "id": "b716209c-a732-4fe4-bc63-96e0f1c0870f"
      }
     }
    },
    "ff5d3955-80fe-4b15-9b2c-1bdfa0962f92": {
     "id": "ff5d3955-80fe-4b15-9b2c-1bdfa0962f92",
     "prev": "4cd54228-51aa-4be9-9d2b-5b6026888a55",
     "regions": {
      "e3f9b0ed-f790-4b8d-a99e-80274eac75e8": {
       "attrs": {
        "height": 0.8,
        "width": 0.8,
        "x": 0.1,
        "y": 0.1
       },
       "content": {
        "cell": "a7d6b869-d82e-49a5-836c-e5f6bf74e2fd",
        "part": "whole"
       },
       "id": "e3f9b0ed-f790-4b8d-a99e-80274eac75e8"
      }
     }
    }
   },
   "themes": {}
  }
 },
 "nbformat": 4,
 "nbformat_minor": 2
}
